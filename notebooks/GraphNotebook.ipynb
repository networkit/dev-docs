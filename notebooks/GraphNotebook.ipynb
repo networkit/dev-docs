{
 "cells": [
  {
   "attachments": {},
   "cell_type": "markdown",
   "metadata": {},
   "source": [
    "# NetworKit Graph Tutorial"
   ]
  },
  {
   "attachments": {},
   "cell_type": "markdown",
   "metadata": {},
   "source": [
    "In this notebook we will cover the main functionalities of `networkit.Graph`, the central class in NetworKit. The first step is to import NetworKit."
   ]
  },
  {
   "cell_type": "code",
   "execution_count": 1,
   "metadata": {
    "execution": {
     "iopub.execute_input": "2025-10-28T11:21:50.192482Z",
     "iopub.status.busy": "2025-10-28T11:21:50.192290Z",
     "iopub.status.idle": "2025-10-28T11:21:51.555704Z",
     "shell.execute_reply": "2025-10-28T11:21:51.554720Z"
    }
   },
   "outputs": [
    {
     "data": {
      "text/html": [
       "\n",
       "\t\t\t<script type=\"text/javascript\">\n",
       "\t\t\t<!--\n",
       "\t\t\t\t\n",
       "\t\t\t{\n",
       "\t\t\t\tvar element = document.getElementById('NetworKit_script');\n",
       "\t\t\t\tif (element) {\n",
       "\t\t\t\t\telement.parentNode.removeChild(element);\n",
       "\t\t\t\t}\n",
       "\t\t\t\telement = document.createElement('script');\n",
       "\t\t\t\telement.type = 'text/javascript';\n",
       "\t\t\t\telement.innerHTML = 'function NetworKit_pageEmbed(id) { var i, j; var elements; elements = document.getElementById(id).getElementsByClassName(\"Plot\"); for (i=0; i<elements.length; i++) { elements[i].id = id + \"_Plot_\" + i; var data = elements[i].getAttribute(\"data-image\").split(\"|\"); elements[i].removeAttribute(\"data-image\"); var content = \"<div class=\\\\\"Image\\\\\" id=\\\\\"\" + elements[i].id + \"_Image\\\\\" />\"; elements[i].innerHTML = content; elements[i].setAttribute(\"data-image-index\", 0); elements[i].setAttribute(\"data-image-length\", data.length); for (j=0; j<data.length; j++) { elements[i].setAttribute(\"data-image-\" + j, data[j]); } NetworKit_plotUpdate(elements[i]); elements[i].onclick = function (e) { NetworKit_overlayShow((e.target) ? e.target : e.srcElement); } } elements = document.getElementById(id).getElementsByClassName(\"HeatCell\"); for (i=0; i<elements.length; i++) { var data = parseFloat(elements[i].getAttribute(\"data-heat\")); var color = \"#00FF00\"; if (data <= 1 && data > 0) { color = \"hsla(0, 100%, 75%, \" + (data) + \")\"; } else if (data <= 0 && data >= -1) { color = \"hsla(240, 100%, 75%, \" + (-data) + \")\"; } elements[i].style.backgroundColor = color; } elements = document.getElementById(id).getElementsByClassName(\"Details\"); for (i=0; i<elements.length; i++) { elements[i].setAttribute(\"data-title\", \"-\"); NetworKit_toggleDetails(elements[i]); elements[i].onclick = function (e) { NetworKit_toggleDetails((e.target) ? e.target : e.srcElement); } } elements = document.getElementById(id).getElementsByClassName(\"MathValue\"); for (i=elements.length-1; i>=0; i--) { value = elements[i].innerHTML.trim(); if (value === \"nan\") { elements[i].parentNode.innerHTML = \"\" } } elements = document.getElementById(id).getElementsByClassName(\"SubCategory\"); for (i=elements.length-1; i>=0; i--) { value = elements[i].innerHTML.trim(); if (value === \"\") { elements[i].parentNode.removeChild(elements[i]) } } elements = document.getElementById(id).getElementsByClassName(\"Category\"); for (i=elements.length-1; i>=0; i--) { value = elements[i].innerHTML.trim(); if (value === \"\") { elements[i].parentNode.removeChild(elements[i]) } } var isFirefox = false; try { isFirefox = typeof InstallTrigger !== \"undefined\"; } catch (e) {} if (!isFirefox) { alert(\"Currently the function\\'s output is only fully supported by Firefox.\"); } } function NetworKit_plotUpdate(source) { var index = source.getAttribute(\"data-image-index\"); var data = source.getAttribute(\"data-image-\" + index); var image = document.getElementById(source.id + \"_Image\"); image.style.backgroundImage = \"url(\" + data + \")\"; } function NetworKit_showElement(id, show) { var element = document.getElementById(id); element.style.display = (show) ? \"block\" : \"none\"; } function NetworKit_overlayShow(source) { NetworKit_overlayUpdate(source); NetworKit_showElement(\"NetworKit_Overlay\", true); } function NetworKit_overlayUpdate(source) { document.getElementById(\"NetworKit_Overlay_Title\").innerHTML = source.title; var index = source.getAttribute(\"data-image-index\"); var data = source.getAttribute(\"data-image-\" + index); var image = document.getElementById(\"NetworKit_Overlay_Image\"); image.setAttribute(\"data-id\", source.id); image.style.backgroundImage = \"url(\" + data + \")\"; var link = document.getElementById(\"NetworKit_Overlay_Toolbar_Bottom_Save\"); link.href = data; link.download = source.title + \".svg\"; } function NetworKit_overlayImageShift(delta) { var image = document.getElementById(\"NetworKit_Overlay_Image\"); var source = document.getElementById(image.getAttribute(\"data-id\")); var index = parseInt(source.getAttribute(\"data-image-index\")); var length = parseInt(source.getAttribute(\"data-image-length\")); var index = (index+delta) % length; if (index < 0) { index = length + index; } source.setAttribute(\"data-image-index\", index); NetworKit_overlayUpdate(source); } function NetworKit_toggleDetails(source) { var childs = source.children; var show = false; if (source.getAttribute(\"data-title\") == \"-\") { source.setAttribute(\"data-title\", \"+\"); show = false; } else { source.setAttribute(\"data-title\", \"-\"); show = true; } for (i=0; i<childs.length; i++) { if (show) { childs[i].style.display = \"block\"; } else { childs[i].style.display = \"none\"; } } }';\n",
       "\t\t\t\telement.setAttribute('id', 'NetworKit_script');\n",
       "\t\t\t\tdocument.head.appendChild(element);\n",
       "\t\t\t}\n",
       "\t\t\n",
       "\t\t\t\t\n",
       "\t\t\t{\n",
       "\t\t\t\tvar element = document.getElementById('NetworKit_style');\n",
       "\t\t\t\tif (element) {\n",
       "\t\t\t\t\telement.parentNode.removeChild(element);\n",
       "\t\t\t\t}\n",
       "\t\t\t\telement = document.createElement('style');\n",
       "\t\t\t\telement.type = 'text/css';\n",
       "\t\t\t\telement.innerHTML = '.NetworKit_Page { font-family: Arial, Helvetica, sans-serif; font-size: 14px; } .NetworKit_Page .Value:before { font-family: Arial, Helvetica, sans-serif; font-size: 1.05em; content: attr(data-title) \":\"; margin-left: -2.5em; padding-right: 0.5em; } .NetworKit_Page .Details .Value:before { display: block; } .NetworKit_Page .Value { font-family: monospace; white-space: pre; padding-left: 2.5em; white-space: -moz-pre-wrap !important; white-space: -pre-wrap; white-space: -o-pre-wrap; white-space: pre-wrap; word-wrap: break-word; tab-size: 4; -moz-tab-size: 4; } .NetworKit_Page .Category { clear: both; padding-left: 1em; margin-bottom: 1.5em; } .NetworKit_Page .Category:before { content: attr(data-title); font-size: 1.75em; display: block; margin-left: -0.8em; margin-bottom: 0.5em; } .NetworKit_Page .SubCategory { margin-bottom: 1.5em; padding-left: 1em; } .NetworKit_Page .SubCategory:before { font-size: 1.6em; display: block; margin-left: -0.8em; margin-bottom: 0.5em; } .NetworKit_Page .SubCategory[data-title]:before { content: attr(data-title); } .NetworKit_Page .Block { display: block; } .NetworKit_Page .Block:after { content: \".\"; visibility: hidden; display: block; height: 0; clear: both; } .NetworKit_Page .Block .Thumbnail_Overview, .NetworKit_Page .Block .Thumbnail_ScatterPlot { width: 260px; float: left; } .NetworKit_Page .Block .Thumbnail_Overview img, .NetworKit_Page .Block .Thumbnail_ScatterPlot img { width: 260px; } .NetworKit_Page .Block .Thumbnail_Overview:before, .NetworKit_Page .Block .Thumbnail_ScatterPlot:before { display: block; text-align: center; font-weight: bold; } .NetworKit_Page .Block .Thumbnail_Overview:before { content: attr(data-title); } .NetworKit_Page .HeatCell { font-family: \"Courier New\", Courier, monospace; cursor: pointer; } .NetworKit_Page .HeatCell, .NetworKit_Page .HeatCellName { display: inline; padding: 0.1em; margin-right: 2px; background-color: #FFFFFF } .NetworKit_Page .HeatCellName { margin-left: 0.25em; } .NetworKit_Page .HeatCell:before { content: attr(data-heat); display: inline-block; color: #000000; width: 4em; text-align: center; } .NetworKit_Page .Measure { clear: both; } .NetworKit_Page .Measure .Details { cursor: pointer; } .NetworKit_Page .Measure .Details:before { content: \"[\" attr(data-title) \"]\"; display: block; } .NetworKit_Page .Measure .Details .Value { border-left: 1px dotted black; margin-left: 0.4em; padding-left: 3.5em; pointer-events: none; } .NetworKit_Page .Measure .Details .Spacer:before { content: \".\"; opacity: 0.0; pointer-events: none; } .NetworKit_Page .Measure .Plot { width: 440px; height: 440px; cursor: pointer; float: left; margin-left: -0.9em; margin-right: 20px; } .NetworKit_Page .Measure .Plot .Image { background-repeat: no-repeat; background-position: center center; background-size: contain; height: 100%; pointer-events: none; } .NetworKit_Page .Measure .Stat { width: 500px; float: left; } .NetworKit_Page .Measure .Stat .Group { padding-left: 1.25em; margin-bottom: 0.75em; } .NetworKit_Page .Measure .Stat .Group .Title { font-size: 1.1em; display: block; margin-bottom: 0.3em; margin-left: -0.75em; border-right-style: dotted; border-right-width: 1px; border-bottom-style: dotted; border-bottom-width: 1px; background-color: #D0D0D0; padding-left: 0.2em; } .NetworKit_Page .Measure .Stat .Group .List { -webkit-column-count: 3; -moz-column-count: 3; column-count: 3; } .NetworKit_Page .Measure .Stat .Group .List .Entry { position: relative; line-height: 1.75em; } .NetworKit_Page .Measure .Stat .Group .List .Entry[data-tooltip]:before { position: absolute; left: 0; top: -40px; background-color: #808080; color: #ffffff; height: 30px; line-height: 30px; border-radius: 5px; padding: 0 15px; content: attr(data-tooltip); white-space: nowrap; display: none; } .NetworKit_Page .Measure .Stat .Group .List .Entry[data-tooltip]:after { position: absolute; left: 15px; top: -10px; border-top: 7px solid #808080; border-left: 7px solid transparent; border-right: 7px solid transparent; content: \"\"; display: none; } .NetworKit_Page .Measure .Stat .Group .List .Entry[data-tooltip]:hover:after, .NetworKit_Page .Measure .Stat .Group .List .Entry[data-tooltip]:hover:before { display: block; } .NetworKit_Page .Measure .Stat .Group .List .Entry .MathValue { font-family: \"Courier New\", Courier, monospace; } .NetworKit_Page .Measure:after { content: \".\"; visibility: hidden; display: block; height: 0; clear: both; } .NetworKit_Page .PartitionPie { clear: both; } .NetworKit_Page .PartitionPie img { width: 600px; } #NetworKit_Overlay { left: 0px; top: 0px; display: none; position: absolute; width: 100%; height: 100%; background-color: rgba(0,0,0,0.6); z-index: 1000; } #NetworKit_Overlay_Title { position: absolute; color: white; transform: rotate(-90deg); width: 32em; height: 32em; padding-right: 0.5em; padding-top: 0.5em; text-align: right; font-size: 40px; } #NetworKit_Overlay .button { background: white; cursor: pointer; } #NetworKit_Overlay .button:before { size: 13px; display: inline-block; text-align: center; margin-top: 0.5em; margin-bottom: 0.5em; width: 1.5em; height: 1.5em; } #NetworKit_Overlay .icon-close:before { content: \"X\"; } #NetworKit_Overlay .icon-previous:before { content: \"P\"; } #NetworKit_Overlay .icon-next:before { content: \"N\"; } #NetworKit_Overlay .icon-save:before { content: \"S\"; } #NetworKit_Overlay_Toolbar_Top, #NetworKit_Overlay_Toolbar_Bottom { position: absolute; width: 40px; right: 13px; text-align: right; z-index: 1100; } #NetworKit_Overlay_Toolbar_Top { top: 0.5em; } #NetworKit_Overlay_Toolbar_Bottom { Bottom: 0.5em; } #NetworKit_Overlay_ImageContainer { position: absolute; top: 5%; left: 5%; height: 90%; width: 90%; background-repeat: no-repeat; background-position: center center; background-size: contain; } #NetworKit_Overlay_Image { height: 100%; width: 100%; background-repeat: no-repeat; background-position: center center; background-size: contain; }';\n",
       "\t\t\t\telement.setAttribute('id', 'NetworKit_style');\n",
       "\t\t\t\tdocument.head.appendChild(element);\n",
       "\t\t\t}\n",
       "\t\t\n",
       "\t\t\t\t\n",
       "\t\t\t{\n",
       "\t\t\t\tvar element = document.getElementById('NetworKit_Overlay');\n",
       "\t\t\t\tif (element) {\n",
       "\t\t\t\t\telement.parentNode.removeChild(element);\n",
       "\t\t\t\t}\n",
       "\t\t\t\telement = document.createElement('div');\n",
       "\t\t\t\telement.innerHTML = '<div id=\"NetworKit_Overlay_Toolbar_Top\"><div class=\"button icon-close\" id=\"NetworKit_Overlay_Close\" /></div><div id=\"NetworKit_Overlay_Title\" /> <div id=\"NetworKit_Overlay_ImageContainer\"> <div id=\"NetworKit_Overlay_Image\" /> </div> <div id=\"NetworKit_Overlay_Toolbar_Bottom\"> <div class=\"button icon-previous\" onclick=\"NetworKit_overlayImageShift(-1)\" /> <div class=\"button icon-next\" onclick=\"NetworKit_overlayImageShift(1)\" /> <a id=\"NetworKit_Overlay_Toolbar_Bottom_Save\"><div class=\"button icon-save\" /></a> </div>';\n",
       "\t\t\t\telement.setAttribute('id', 'NetworKit_Overlay');\n",
       "\t\t\t\tdocument.body.appendChild(element);\n",
       "\t\t\t\tdocument.getElementById('NetworKit_Overlay_Close').onclick = function (e) {\n",
       "\t\t\t\t\tdocument.getElementById('NetworKit_Overlay').style.display = 'none';\n",
       "\t\t\t\t}\n",
       "\t\t\t}\n",
       "\t\t\n",
       "\t\t\t-->\n",
       "\t\t\t</script>\n",
       "\t\t"
      ]
     },
     "metadata": {},
     "output_type": "display_data"
    }
   ],
   "source": [
    "import networkit as nk"
   ]
  },
  {
   "attachments": {},
   "cell_type": "markdown",
   "metadata": {},
   "source": [
    "We start by creating the core object, a `networkit.Graph`. The [networkit.Graph](https://networkit.github.io/dev-docs/python_api/networkit.html?highlight=graph#networkit.Graph) constructor expects the `number of nodes` as an integer, a boolean value stating if the graph is weighted or not followed by another boolean value stating whether the graph is directed or not. The latter two are set to false by default. If the graph is unweighted, all edge weights are set to `1.0`."
   ]
  },
  {
   "cell_type": "code",
   "execution_count": 2,
   "metadata": {
    "execution": {
     "iopub.execute_input": "2025-10-28T11:21:51.557917Z",
     "iopub.status.busy": "2025-10-28T11:21:51.557476Z",
     "iopub.status.idle": "2025-10-28T11:21:51.561663Z",
     "shell.execute_reply": "2025-10-28T11:21:51.560929Z"
    }
   },
   "outputs": [
    {
     "name": "stdout",
     "output_type": "stream",
     "text": [
      "5 0\n",
      "False False\n"
     ]
    }
   ],
   "source": [
    "G = nk.Graph(5)\n",
    "print(G.numberOfNodes(), G.numberOfEdges())\n",
    "print(G.isWeighted(), G.isDirected())"
   ]
  },
  {
   "attachments": {},
   "cell_type": "markdown",
   "metadata": {},
   "source": [
    "`G` has 5 nodes, but no edges yet. Using the [addEdge(node u, node v)](https://networkit.github.io/dev-docs/python_api/graph.html?highlight=addedge#networkit.graph.Graph.addEdge) method, we can add edges between the nodes."
   ]
  },
  {
   "cell_type": "code",
   "execution_count": 3,
   "metadata": {
    "execution": {
     "iopub.execute_input": "2025-10-28T11:21:51.563552Z",
     "iopub.status.busy": "2025-10-28T11:21:51.563353Z",
     "iopub.status.idle": "2025-10-28T11:21:51.568325Z",
     "shell.execute_reply": "2025-10-28T11:21:51.567581Z"
    }
   },
   "outputs": [
    {
     "data": {
      "text/plain": [
       "True"
      ]
     },
     "execution_count": 3,
     "metadata": {},
     "output_type": "execute_result"
    }
   ],
   "source": [
    "G.addEdge(1, 3)\n",
    "G.addEdge(2, 4)\n",
    "G.addEdge(1, 2)\n",
    "G.addEdge(3, 4)\n",
    "G.addEdge(2, 3)\n",
    "G.addEdge(4, 0)"
   ]
  },
  {
   "attachments": {},
   "cell_type": "markdown",
   "metadata": {},
   "source": [
    "Node IDs in NetworKit are integer indices that start at 0 through to `G.upperNodeIdBound() - 1`. Hence, for this graph `G.addEdge(1,5)` would an illegal operation as node `5` does not exist. The same goes for edge IDs. If we need to add an edge between node 0 and node 5, we first need to add a sixth node to the graph using `G.addNode()`."
   ]
  },
  {
   "cell_type": "code",
   "execution_count": 4,
   "metadata": {
    "execution": {
     "iopub.execute_input": "2025-10-28T11:21:51.570293Z",
     "iopub.status.busy": "2025-10-28T11:21:51.570105Z",
     "iopub.status.idle": "2025-10-28T11:21:51.573744Z",
     "shell.execute_reply": "2025-10-28T11:21:51.572971Z"
    }
   },
   "outputs": [
    {
     "name": "stdout",
     "output_type": "stream",
     "text": [
      "6\n"
     ]
    }
   ],
   "source": [
    "G.addNode()\n",
    "print(G.numberOfNodes())"
   ]
  },
  {
   "attachments": {},
   "cell_type": "markdown",
   "metadata": {},
   "source": [
    "Now we can add the new edge."
   ]
  },
  {
   "cell_type": "code",
   "execution_count": 5,
   "metadata": {
    "execution": {
     "iopub.execute_input": "2025-10-28T11:21:51.575706Z",
     "iopub.status.busy": "2025-10-28T11:21:51.575524Z",
     "iopub.status.idle": "2025-10-28T11:21:51.579681Z",
     "shell.execute_reply": "2025-10-28T11:21:51.578928Z"
    }
   },
   "outputs": [
    {
     "data": {
      "text/plain": [
       "True"
      ]
     },
     "execution_count": 5,
     "metadata": {},
     "output_type": "execute_result"
    }
   ],
   "source": [
    "G.addEdge(0,5)"
   ]
  },
  {
   "attachments": {},
   "cell_type": "markdown",
   "metadata": {},
   "source": [
    "Using the method [overview(G)](https://networkit.github.io/dev-docs/python_api/networkit.html?highlight=overview#networkit.overview), we can take a look at the main properties of the graph we have created."
   ]
  },
  {
   "cell_type": "code",
   "execution_count": 6,
   "metadata": {
    "execution": {
     "iopub.execute_input": "2025-10-28T11:21:51.581761Z",
     "iopub.status.busy": "2025-10-28T11:21:51.581577Z",
     "iopub.status.idle": "2025-10-28T11:21:51.585504Z",
     "shell.execute_reply": "2025-10-28T11:21:51.584721Z"
    }
   },
   "outputs": [
    {
     "name": "stdout",
     "output_type": "stream",
     "text": [
      "Network Properties:\n",
      "nodes, edges\t\t\t6, 7\n",
      "directed?\t\t\tFalse\n",
      "weighted?\t\t\tFalse\n",
      "isolated nodes\t\t\t0\n",
      "self-loops\t\t\t0\n",
      "density\t\t\t\t0.466667\n",
      "clustering coefficient\t\t0.444444\n",
      "min/max/avg degree\t\t1, 3, 2.333333\n",
      "degree assortativity\t\t0.353553\n",
      "number of connected components\t1\n",
      "size of largest component\t6 (100.00 %)\n"
     ]
    }
   ],
   "source": [
    "nk.overview(G)"
   ]
  },
  {
   "attachments": {},
   "cell_type": "markdown",
   "metadata": {},
   "source": [
    "Now that we have created a graph we can start to play around with it. Say we want to remove the node with the node ID 2, so the third node. We can easily do so using [Graph.removeNode(node u)](https://networkit.github.io/dev-docs/python_api/graph.html?highlight=remove%20node#networkit.graph.Graph.removeNode). "
   ]
  },
  {
   "cell_type": "code",
   "execution_count": 7,
   "metadata": {
    "execution": {
     "iopub.execute_input": "2025-10-28T11:21:51.587449Z",
     "iopub.status.busy": "2025-10-28T11:21:51.587255Z",
     "iopub.status.idle": "2025-10-28T11:21:51.590245Z",
     "shell.execute_reply": "2025-10-28T11:21:51.589439Z"
    }
   },
   "outputs": [],
   "source": [
    "G.removeNode(2)"
   ]
  },
  {
   "cell_type": "code",
   "execution_count": 8,
   "metadata": {
    "execution": {
     "iopub.execute_input": "2025-10-28T11:21:51.592238Z",
     "iopub.status.busy": "2025-10-28T11:21:51.592057Z",
     "iopub.status.idle": "2025-10-28T11:21:51.595229Z",
     "shell.execute_reply": "2025-10-28T11:21:51.594504Z"
    }
   },
   "outputs": [
    {
     "name": "stdout",
     "output_type": "stream",
     "text": [
      "False\n"
     ]
    }
   ],
   "source": [
    "# 2 has been deleted\n",
    "print(G.hasNode(2))"
   ]
  },
  {
   "attachments": {},
   "cell_type": "markdown",
   "metadata": {},
   "source": [
    "The node has been remove from the graph, however, the node IDs are not adjusted to the match the new number of nodes. Hence, if we want to restore the node we previously removed from G, we can do so using [Graph.restoreNode(node u)](https://networkit.github.io/dev-docs/python_api/graph.html?highlight=restore#networkit.graph.Graph.restoreNode) using the original node ID."
   ]
  },
  {
   "cell_type": "code",
   "execution_count": 9,
   "metadata": {
    "execution": {
     "iopub.execute_input": "2025-10-28T11:21:51.597320Z",
     "iopub.status.busy": "2025-10-28T11:21:51.597129Z",
     "iopub.status.idle": "2025-10-28T11:21:51.600275Z",
     "shell.execute_reply": "2025-10-28T11:21:51.599476Z"
    }
   },
   "outputs": [
    {
     "name": "stdout",
     "output_type": "stream",
     "text": [
      "True\n"
     ]
    }
   ],
   "source": [
    "# Restore node with ID 2\n",
    "G.restoreNode(2)\n",
    "\n",
    "# Check if it is back in G\n",
    "print(G.hasNode(2))"
   ]
  },
  {
   "attachments": {},
   "cell_type": "markdown",
   "metadata": {},
   "source": [
    "Note that in default mode NetworKit allows you to add an edge multiple times, most algorithms (and also io-functions) do not support it."
   ]
  },
  {
   "cell_type": "code",
   "execution_count": 10,
   "metadata": {
    "execution": {
     "iopub.execute_input": "2025-10-28T11:21:51.602110Z",
     "iopub.status.busy": "2025-10-28T11:21:51.601921Z",
     "iopub.status.idle": "2025-10-28T11:21:51.605802Z",
     "shell.execute_reply": "2025-10-28T11:21:51.605051Z"
    }
   },
   "outputs": [
    {
     "name": "stdout",
     "output_type": "stream",
     "text": [
      "5\n",
      "6\n"
     ]
    }
   ],
   "source": [
    "G.addNode()\n",
    "G.addEdge(0, 6)\n",
    "print(G.numberOfEdges())\n",
    "# NetworKit does not complain when inserting the same edge a second time \n",
    "G.addEdge(0, 6)\n",
    "print(G.numberOfEdges())"
   ]
  },
  {
   "attachments": {},
   "cell_type": "markdown",
   "metadata": {},
   "source": [
    "If wanted, this behavior can be changed. This increases the running time of adding an edge by the degree of the involved nodes."
   ]
  },
  {
   "cell_type": "code",
   "execution_count": 11,
   "metadata": {
    "execution": {
     "iopub.execute_input": "2025-10-28T11:21:51.607767Z",
     "iopub.status.busy": "2025-10-28T11:21:51.607593Z",
     "iopub.status.idle": "2025-10-28T11:21:51.611019Z",
     "shell.execute_reply": "2025-10-28T11:21:51.610251Z"
    }
   },
   "outputs": [
    {
     "name": "stdout",
     "output_type": "stream",
     "text": [
      "5\n",
      "5\n"
     ]
    }
   ],
   "source": [
    "# Remove one of the multiple edges\n",
    "G.removeEdge(0, 6)\n",
    "print(G.numberOfEdges())\n",
    "# The multi-edge is not added to the graph. \n",
    "G.addEdge(0, 6, checkMultiEdge = True)\n",
    "print(G.numberOfEdges())"
   ]
  },
  {
   "attachments": {},
   "cell_type": "markdown",
   "metadata": {},
   "source": [
    "NetworKit provides iterators that enable iterating over all nodes or edges in a simple manner. There are two kinds of iterators: one is based on ranges, the other one accepts callback a function.\n",
    "The easiest to use are the range-based iterators, they can be used in a simple for loop:"
   ]
  },
  {
   "cell_type": "code",
   "execution_count": 12,
   "metadata": {
    "execution": {
     "iopub.execute_input": "2025-10-28T11:21:51.612795Z",
     "iopub.status.busy": "2025-10-28T11:21:51.612617Z",
     "iopub.status.idle": "2025-10-28T11:21:51.616134Z",
     "shell.execute_reply": "2025-10-28T11:21:51.615177Z"
    }
   },
   "outputs": [
    {
     "name": "stdout",
     "output_type": "stream",
     "text": [
      "0\n",
      "1\n",
      "2\n",
      "3\n",
      "4\n",
      "5\n",
      "...\n",
      "6\n",
      "...\n"
     ]
    }
   ],
   "source": [
    "# Iterate over the nodes of G\n",
    "for u in G.iterNodes():\n",
    "    print(u)\n",
    "    if u > 4:\n",
    "        print('...')"
   ]
  },
  {
   "cell_type": "code",
   "execution_count": 13,
   "metadata": {
    "execution": {
     "iopub.execute_input": "2025-10-28T11:21:51.617746Z",
     "iopub.status.busy": "2025-10-28T11:21:51.617531Z",
     "iopub.status.idle": "2025-10-28T11:21:51.620898Z",
     "shell.execute_reply": "2025-10-28T11:21:51.620074Z"
    }
   },
   "outputs": [
    {
     "name": "stdout",
     "output_type": "stream",
     "text": [
      "0 4\n",
      "0 5\n",
      "0 6\n",
      "1 3\n",
      "3 4\n",
      "...\n"
     ]
    }
   ],
   "source": [
    "# Iterate over the edges of G\n",
    "for u, v in G.iterEdges():\n",
    "    print(u, v)\n",
    "    if u > 2:\n",
    "        print('...')"
   ]
  },
  {
   "cell_type": "code",
   "execution_count": 14,
   "metadata": {
    "execution": {
     "iopub.execute_input": "2025-10-28T11:21:51.622753Z",
     "iopub.status.busy": "2025-10-28T11:21:51.622575Z",
     "iopub.status.idle": "2025-10-28T11:21:51.626704Z",
     "shell.execute_reply": "2025-10-28T11:21:51.625954Z"
    }
   },
   "outputs": [
    {
     "name": "stdout",
     "output_type": "stream",
     "text": [
      "0 4 2.0\n",
      "0 5 1.0\n",
      "0 6 1.0\n",
      "1 3 3.0\n",
      "3 4 1.0\n",
      "...\n"
     ]
    }
   ],
   "source": [
    "# Iterate over the edges of G1 and include weights\n",
    "G1 = nk.graphtools.toWeighted(G)\n",
    "G1.setWeight(0, 4, 2)\n",
    "G1.setWeight(1, 3, 3)\n",
    "for u, v, w in G1.iterEdgesWeights():\n",
    "    print(u, v, w)\n",
    "    if u > 2:\n",
    "        print('...')"
   ]
  },
  {
   "attachments": {},
   "cell_type": "markdown",
   "metadata": {},
   "source": [
    "Callback-based iterators accept a callback function passed to the iterators as input parameter.\n",
    "Those functions can also be lambda functions.\n",
    "More information can be found in the NetworKit documentation [here](https://networkit.github.io/dev-docs/python_api/graph.html). Let's start by using the [forNodes](https://networkit.github.io/dev-docs/python_api/graph.html?highlight=fornodes#networkit.graph.Graph.forNodes) iterator. It expects a callback function which accepts one parameter, i.e., a node. First, we define such a function."
   ]
  },
  {
   "cell_type": "code",
   "execution_count": 15,
   "metadata": {
    "execution": {
     "iopub.execute_input": "2025-10-28T11:21:51.628722Z",
     "iopub.status.busy": "2025-10-28T11:21:51.628534Z",
     "iopub.status.idle": "2025-10-28T11:21:51.631711Z",
     "shell.execute_reply": "2025-10-28T11:21:51.630817Z"
    }
   },
   "outputs": [],
   "source": [
    "def nodeFunc(u):\n",
    "    print(\"Node \", u, \" passed to nodeFunc()\")"
   ]
  },
  {
   "attachments": {},
   "cell_type": "markdown",
   "metadata": {},
   "source": [
    "We then pass `nodeFunc` to the iterator. "
   ]
  },
  {
   "cell_type": "code",
   "execution_count": 16,
   "metadata": {
    "execution": {
     "iopub.execute_input": "2025-10-28T11:21:51.633365Z",
     "iopub.status.busy": "2025-10-28T11:21:51.633191Z",
     "iopub.status.idle": "2025-10-28T11:21:51.636613Z",
     "shell.execute_reply": "2025-10-28T11:21:51.635639Z"
    }
   },
   "outputs": [
    {
     "name": "stdout",
     "output_type": "stream",
     "text": [
      "Node  0  passed to nodeFunc()\n",
      "Node  1  passed to nodeFunc()\n",
      "Node  2  passed to nodeFunc()\n",
      "Node  3  passed to nodeFunc()\n",
      "Node  4  passed to nodeFunc()\n",
      "Node  5  passed to nodeFunc()\n",
      "Node  6  passed to nodeFunc()\n"
     ]
    }
   ],
   "source": [
    "G.forNodes(nodeFunc)"
   ]
  },
  {
   "cell_type": "code",
   "execution_count": 17,
   "metadata": {
    "execution": {
     "iopub.execute_input": "2025-10-28T11:21:51.638266Z",
     "iopub.status.busy": "2025-10-28T11:21:51.638091Z",
     "iopub.status.idle": "2025-10-28T11:21:51.641831Z",
     "shell.execute_reply": "2025-10-28T11:21:51.641047Z"
    }
   },
   "outputs": [
    {
     "name": "stdout",
     "output_type": "stream",
     "text": [
      "Node  0  passed to lambda\n",
      "Node  1  passed to lambda\n",
      "Node  2  passed to lambda\n",
      "Node  3  passed to lambda\n",
      "Node  4  passed to lambda\n",
      "Node  5  passed to lambda\n",
      "Node  6  passed to lambda\n"
     ]
    }
   ],
   "source": [
    "G.forNodes(lambda u: print(\"Node \", u, \" passed to lambda\"))"
   ]
  },
  {
   "attachments": {},
   "cell_type": "markdown",
   "metadata": {},
   "source": [
    "Similarly, we can iterate over the edges of `G`:"
   ]
  },
  {
   "cell_type": "code",
   "execution_count": 18,
   "metadata": {
    "execution": {
     "iopub.execute_input": "2025-10-28T11:21:51.643789Z",
     "iopub.status.busy": "2025-10-28T11:21:51.643613Z",
     "iopub.status.idle": "2025-10-28T11:21:51.646740Z",
     "shell.execute_reply": "2025-10-28T11:21:51.645781Z"
    }
   },
   "outputs": [],
   "source": [
    "# First define callback function\n",
    "# that accepts exactly 4 parameters:\n",
    "def edgeFunc(u, v, weight, edgeId):\n",
    "    print(\"Edge from {} to {} has weight {} and id {}\".format(u, v, weight, edgeId))"
   ]
  },
  {
   "attachments": {},
   "cell_type": "markdown",
   "metadata": {},
   "source": [
    "We can now call the [forEdges](https://networkit.github.io/dev-docs/python_api/graph.html?highlight=foredges#networkit.graph.Graph.forEdges) iterator, and pass `edgeFunc` to it."
   ]
  },
  {
   "cell_type": "code",
   "execution_count": 19,
   "metadata": {
    "execution": {
     "iopub.execute_input": "2025-10-28T11:21:51.648379Z",
     "iopub.status.busy": "2025-10-28T11:21:51.648203Z",
     "iopub.status.idle": "2025-10-28T11:21:51.651275Z",
     "shell.execute_reply": "2025-10-28T11:21:51.650450Z"
    }
   },
   "outputs": [
    {
     "name": "stdout",
     "output_type": "stream",
     "text": [
      "Edge from 3 to 1 has weight 1.0 and id 18446744073709551615\n",
      "Edge from 4 to 0 has weight 1.0 and id 18446744073709551615\n",
      "Edge from 4 to 3 has weight 1.0 and id 18446744073709551615\n",
      "Edge from 5 to 0 has weight 1.0 and id 18446744073709551615\n",
      "Edge from 6 to 0 has weight 1.0 and id 18446744073709551615\n"
     ]
    }
   ],
   "source": [
    "# Using iterator with callback function.\n",
    "G.forEdges(edgeFunc)"
   ]
  },
  {
   "attachments": {},
   "cell_type": "markdown",
   "metadata": {},
   "source": [
    "Although we did not add any indexes to our edges, our edges all have indexes of 0. This is because NetworKit by default indexes all edges with 0. However, sometimes it makes sense to have indexed edges. If you decide to index the edges of your graph after creating it, you can use the [Graph.indexEdges(bool force = False)](https://networkit.github.io/dev-docs/python_api/graph.html?highlight=indexedges#networkit.graph.Graph.indexEdges) method. The `force` parameter forces re-indexing of edges if they had already been indexed."
   ]
  },
  {
   "attachments": {},
   "cell_type": "markdown",
   "metadata": {},
   "source": [
    "Since we did not index the edges of our graph initially, we can use the default value. Indexing the edges of `G` can then be done as simply as follows:"
   ]
  },
  {
   "cell_type": "code",
   "execution_count": 20,
   "metadata": {
    "execution": {
     "iopub.execute_input": "2025-10-28T11:21:51.653061Z",
     "iopub.status.busy": "2025-10-28T11:21:51.652849Z",
     "iopub.status.idle": "2025-10-28T11:21:51.656398Z",
     "shell.execute_reply": "2025-10-28T11:21:51.655500Z"
    }
   },
   "outputs": [],
   "source": [
    "G.indexEdges()"
   ]
  },
  {
   "attachments": {},
   "cell_type": "markdown",
   "metadata": {},
   "source": [
    "Sometimes you also need to iterate over specific edges, for example the ones connecting a node `u` to its neighbors. Using the [forNodes](https://networkit.github.io/dev-docs/python_api/graph.html?highlight=foredges#networkit.graph.Graph.forNodes) iterator and the [forEdgesOf](https://networkit.github.io/dev-docs/python_api/graph.html?highlight=foredges#networkit.graph.Graph.forEdges) iterator we can do so."
   ]
  },
  {
   "cell_type": "code",
   "execution_count": 21,
   "metadata": {
    "execution": {
     "iopub.execute_input": "2025-10-28T11:21:51.658237Z",
     "iopub.status.busy": "2025-10-28T11:21:51.658034Z",
     "iopub.status.idle": "2025-10-28T11:21:51.661828Z",
     "shell.execute_reply": "2025-10-28T11:21:51.660939Z"
    }
   },
   "outputs": [
    {
     "name": "stdout",
     "output_type": "stream",
     "text": [
      "Edge from 0 to 4 has weight 1.0 and id 1\n",
      "Edge from 0 to 5 has weight 1.0 and id 3\n",
      "Edge from 0 to 6 has weight 1.0 and id 4\n",
      "Edge from 1 to 3 has weight 1.0 and id 0\n",
      "Edge from 3 to 1 has weight 1.0 and id 0\n",
      "Edge from 3 to 4 has weight 1.0 and id 2\n",
      "Edge from 4 to 0 has weight 1.0 and id 1\n",
      "Edge from 4 to 3 has weight 1.0 and id 2\n",
      "Edge from 5 to 0 has weight 1.0 and id 3\n",
      "Edge from 6 to 0 has weight 1.0 and id 4\n"
     ]
    }
   ],
   "source": [
    "G.forNodes(lambda u: G.forEdgesOf(u, edgeFunc))"
   ]
  },
  {
   "attachments": {},
   "cell_type": "markdown",
   "metadata": {},
   "source": [
    "Note, in an undirected graph, like we have here, the [forEdgesOf](https://networkit.github.io/dev-docs/python_api/networkit.html?highlight=foredgesof#networkit.Graph.forEdgesOf) iterator returns all edges of a node. When dealing with a directed graph only the out edges are returned. The rest of the edges can be accessed using the [forInEdgesOf](https://networkit.github.io/dev-docs/python_api/networkit.html?highlight=forinedges#networkit.Graph.forInEdgesOf) iterator."
   ]
  },
  {
   "cell_type": "markdown",
   "metadata": {},
   "source": [
    "## Graph from Pandas, Scipy and Numpy data\n",
    "\n",
    "In addition to manually filling the graph datastructure, it is also possible to create a graph based on given input data in COO (coordinate) format by using `nk.GraphFromCoo(...)`. The parameter syntax is related to [scipy.sparse.coo_array](https://docs.scipy.org/doc/scipy/reference/generated/scipy.sparse.coo_array.html). We start by manually define `row`, `col` and `data` arrays (whereas `A[row[k], col[k]] = data[k]`) and use them as a constructed tuple in the form `(data, (row, col))`."
   ]
  },
  {
   "cell_type": "code",
   "execution_count": 22,
   "metadata": {
    "execution": {
     "iopub.execute_input": "2025-10-28T11:21:51.663553Z",
     "iopub.status.busy": "2025-10-28T11:21:51.663360Z",
     "iopub.status.idle": "2025-10-28T11:21:51.667180Z",
     "shell.execute_reply": "2025-10-28T11:21:51.666364Z"
    }
   },
   "outputs": [],
   "source": [
    "import numpy as np\n",
    "import scipy as sc\n",
    "import pandas as pd\n",
    "\n",
    "row = np.array([0, 1, 2])\n",
    "col = np.array([1, 2, 0])\n",
    "data = np.array([1.0, 1.0, 1.0])\n",
    "\n",
    "GData = nk.GraphFromCoo((data,(row,col)))"
   ]
  },
  {
   "cell_type": "markdown",
   "metadata": {},
   "source": [
    "For speedup purposes, it is possible to also pass the number of expected nodes as a parameter. Due to the tiny size of our example graph, the difference is very small in this case. However, for the majority of use cases, providing `n` results in a much faster creation of the graph."
   ]
  },
  {
   "cell_type": "code",
   "execution_count": 23,
   "metadata": {
    "execution": {
     "iopub.execute_input": "2025-10-28T11:21:51.668890Z",
     "iopub.status.busy": "2025-10-28T11:21:51.668685Z",
     "iopub.status.idle": "2025-10-28T11:21:51.671663Z",
     "shell.execute_reply": "2025-10-28T11:21:51.670826Z"
    }
   },
   "outputs": [],
   "source": [
    "GData = nk.GraphFromCoo((data,(row,col)), n = 3)"
   ]
  },
  {
   "cell_type": "markdown",
   "metadata": {},
   "source": [
    "In addition `nk.GraphFromCoo` supports the same parameter as `nk.Graph` (e.g. set the returning graph to be directed/weighted). If `data` is not given, each edge weight is assumed to be `1.0`."
   ]
  },
  {
   "cell_type": "code",
   "execution_count": 24,
   "metadata": {
    "execution": {
     "iopub.execute_input": "2025-10-28T11:21:51.673420Z",
     "iopub.status.busy": "2025-10-28T11:21:51.673245Z",
     "iopub.status.idle": "2025-10-28T11:21:51.676545Z",
     "shell.execute_reply": "2025-10-28T11:21:51.675636Z"
    }
   },
   "outputs": [],
   "source": [
    "GData = nk.GraphFromCoo((data,(row,col)), n = 3, directed = True, weighted = True)"
   ]
  },
  {
   "cell_type": "markdown",
   "metadata": {},
   "source": [
    "It is also possible to create a graph from a `scipy.sparse.coo_matrix`."
   ]
  },
  {
   "cell_type": "code",
   "execution_count": 25,
   "metadata": {
    "execution": {
     "iopub.execute_input": "2025-10-28T11:21:51.678347Z",
     "iopub.status.busy": "2025-10-28T11:21:51.678157Z",
     "iopub.status.idle": "2025-10-28T11:21:51.681715Z",
     "shell.execute_reply": "2025-10-28T11:21:51.680907Z"
    }
   },
   "outputs": [],
   "source": [
    "S = sc.sparse.coo_matrix((data, (row, col)), dtype = np.double)\n",
    "GData = nk.GraphFromCoo(S, 3)"
   ]
  },
  {
   "cell_type": "markdown",
   "metadata": {},
   "source": [
    "A common usecase involves data handling via pandas. Since the underlying data structure is easily transformed to numpy arrays, we can also create graphs from pandas `DataFrame`s. In our example we define a set of people (Alice, Bob, Carol, Dan, Erin and Frank) and relationships between them. Each row in the `DataFrame` describes a (directed) relation from `People_1` to `People_2`. For example `Alice` has a relationship to `Carol` (not necessarely the other way around, therefore directed)."
   ]
  },
  {
   "cell_type": "code",
   "execution_count": 26,
   "metadata": {
    "execution": {
     "iopub.execute_input": "2025-10-28T11:21:51.683803Z",
     "iopub.status.busy": "2025-10-28T11:21:51.683610Z",
     "iopub.status.idle": "2025-10-28T11:21:51.693629Z",
     "shell.execute_reply": "2025-10-28T11:21:51.692740Z"
    }
   },
   "outputs": [
    {
     "name": "stdout",
     "output_type": "stream",
     "text": [
      "  Person_1 Person_2\n",
      "0    Alice    Carol\n",
      "1      Bob      Dan\n",
      "2      Dan     Erin\n",
      "3    Carol    Frank\n",
      "Network Properties:\n",
      "nodes, edges\t\t\t6, 4\n",
      "directed?\t\t\tTrue\n",
      "weighted?\t\t\tFalse\n",
      "isolated nodes\t\t\t2\n",
      "self-loops\t\t\t0\n",
      "density\t\t\t\t0.133333\n",
      "min/max/avg degree\t\t0, 1, 0.666667\n",
      "degree assortativity\t\tnan\n",
      "number of connected components\t6\n",
      "size of largest component\t1 (16.67 %)\n"
     ]
    }
   ],
   "source": [
    "persons = pd.CategoricalDtype(categories=['Alice', 'Bob', 'Carol', 'Dan', 'Erin', 'Frank'], ordered=True)\n",
    "relations = [('Alice', 'Carol'), ('Bob', 'Dan'), ('Dan', 'Erin'), ('Carol', 'Frank')]\n",
    "\n",
    "friends_df = pd.DataFrame(relations, columns=['Person_1', 'Person_2']).astype(persons)\n",
    "print(friends_df)\n",
    "\n",
    "GData = nk.GraphFromCoo((friends_df['Person_1'].cat.codes.to_numpy(dtype=np.uint, copy = False), friends_df['Person_2'].cat.codes.to_numpy(dtype=np.uint, copy = False)), n = len(persons.categories), directed = True)\n",
    "\n",
    "nk.overview(GData)"
   ]
  },
  {
   "attachments": {},
   "cell_type": "markdown",
   "metadata": {},
   "source": [
    "## Node Attributes\n",
    "\n",
    "It is possible to attach attributes to the nodes of a NetworKit graph with `attachNodeAttribute`. Attributes can be of type `str`, `float`, or `int`."
   ]
  },
  {
   "cell_type": "code",
   "execution_count": 27,
   "metadata": {
    "execution": {
     "iopub.execute_input": "2025-10-28T11:21:51.696109Z",
     "iopub.status.busy": "2025-10-28T11:21:51.695859Z",
     "iopub.status.idle": "2025-10-28T11:21:51.700796Z",
     "shell.execute_reply": "2025-10-28T11:21:51.699975Z"
    }
   },
   "outputs": [
    {
     "name": "stdout",
     "output_type": "stream",
     "text": [
      "Attribute of node 0 is foo\n",
      "Attribute of node 1 is bar\n",
      "Node 2 has no attribute\n"
     ]
    }
   ],
   "source": [
    "# Create a new attribute named 'myAtt' of type 'str'\n",
    "att = G.attachNodeAttribute(\"myAtt\", str)\n",
    "\n",
    "# Set attribute values\n",
    "att[0] = \"foo\" # Attribute of node 0\n",
    "att[1] = \"bar\" # Attribute of node 1\n",
    "\n",
    "# Get attribute value\n",
    "for u in G.iterNodes():\n",
    "    try:\n",
    "        print(f\"Attribute of node {u} is {att[u]}\")\n",
    "    except ValueError:\n",
    "        print(f\"Node {u} has no attribute\")\n",
    "        break    "
   ]
  },
  {
   "attachments": {},
   "cell_type": "markdown",
   "metadata": {},
   "source": [
    "## Edge Attributes\n",
    "\n",
    "In the same way, it is also possible to add edge attributes to a NetworKit graph with `attachEdgeAttribute`. Attributes can be of type `str`, `float`, or `int`. Note that the edges of the graph have to be indexed.\n",
    "\n",
    "It is possible to access the attributes both by edge index and by endpoints. __Note:__ Access by edge index can be much slower compared to access by endpoints, therefore best use `att[u, v]` for access."
   ]
  },
  {
   "cell_type": "code",
   "execution_count": 28,
   "metadata": {
    "execution": {
     "iopub.execute_input": "2025-10-28T11:21:51.702690Z",
     "iopub.status.busy": "2025-10-28T11:21:51.702508Z",
     "iopub.status.idle": "2025-10-28T11:21:51.708286Z",
     "shell.execute_reply": "2025-10-28T11:21:51.707339Z"
    }
   },
   "outputs": [
    {
     "name": "stdout",
     "output_type": "stream",
     "text": [
      "Attribute of edge 0,4 is bar\n",
      "Edge 0,5 has no attribute\n",
      "Edge 0,6 has no attribute\n",
      "Attribute of edge 1,3 is foo\n",
      "Edge 3,4 has no attribute\n",
      "Attribute of edge 0,4 is bar\n",
      "Edge 0,5 has no attribute\n",
      "Edge 0,6 has no attribute\n",
      "Attribute of edge 1,3 is foo\n",
      "Edge 3,4 has no attribute\n"
     ]
    }
   ],
   "source": [
    "# Call indexEdges once (all edges inserted afterwards will also get indexed)\n",
    "G.indexEdges()\n",
    "\n",
    "# Create a new attribute named 'myAtt' of type 'str'\n",
    "att = G.attachEdgeAttribute(\"myAtt\", str)\n",
    "\n",
    "# Set attribute values\n",
    "# Edges 1-3 and 4-0 were added earlier in the notebook\n",
    "att[1,3] = \"foo\" # Attribute of edge 1-3\n",
    "att[4,0] = \"bar\" # Attribute of node 4-0\n",
    "\n",
    "# Get attribute value by edge endpoints (fast)\n",
    "for u,v in G.iterEdges():\n",
    "    try:\n",
    "        print(f\"Attribute of edge {u},{v} is {att[u,v]}\")\n",
    "    except ValueError:\n",
    "        print(f\"Edge {u},{v} has no attribute\")\n",
    "\n",
    "# Get attribute value by edge index (slow)\n",
    "for u,v in G.iterEdges():\n",
    "    try:\n",
    "        edgeId = G.edgeId(u, v)\n",
    "        print(f\"Attribute of edge {u},{v} is {att[edgeId]}\")\n",
    "    except ValueError:\n",
    "        print(f\"Edge {u},{v} has no attribute\")"
   ]
  },
  {
   "attachments": {},
   "cell_type": "markdown",
   "metadata": {},
   "source": [
    "## GraphTools"
   ]
  },
  {
   "attachments": {},
   "cell_type": "markdown",
   "metadata": {},
   "source": [
    "`networkit.graphtools` implements some useful functions to get information or modify graphs. The following section shows some of the GraphTools functionalities."
   ]
  },
  {
   "attachments": {},
   "cell_type": "markdown",
   "metadata": {},
   "source": [
    "`toWeighted(G)` takes an unweighted graph `G` as input, and returns a weighted copy of `G`. All the edge weights are set to a default value of 1.0."
   ]
  },
  {
   "cell_type": "code",
   "execution_count": 29,
   "metadata": {
    "execution": {
     "iopub.execute_input": "2025-10-28T11:21:51.710016Z",
     "iopub.status.busy": "2025-10-28T11:21:51.709797Z",
     "iopub.status.idle": "2025-10-28T11:21:51.713349Z",
     "shell.execute_reply": "2025-10-28T11:21:51.712504Z"
    }
   },
   "outputs": [],
   "source": [
    "weightedG = nk.graphtools.toWeighted(G)\n",
    "assert(weightedG.numberOfNodes() == G.numberOfNodes())\n",
    "assert(weightedG.numberOfEdges() == G.numberOfEdges())\n",
    "assert(weightedG.isWeighted())"
   ]
  },
  {
   "attachments": {},
   "cell_type": "markdown",
   "metadata": {},
   "source": [
    "`toUnweighted(G)` does the inverse of the one above: it takes a weighted graph `G` as input, and returns an unweighted copy of `G` as output."
   ]
  },
  {
   "attachments": {},
   "cell_type": "markdown",
   "metadata": {},
   "source": [
    "`randomNode(G)` returns a node of `G` selected uniformly at random."
   ]
  },
  {
   "cell_type": "code",
   "execution_count": 30,
   "metadata": {
    "execution": {
     "iopub.execute_input": "2025-10-28T11:21:51.715191Z",
     "iopub.status.busy": "2025-10-28T11:21:51.714999Z",
     "iopub.status.idle": "2025-10-28T11:21:51.719081Z",
     "shell.execute_reply": "2025-10-28T11:21:51.718356Z"
    }
   },
   "outputs": [
    {
     "data": {
      "text/plain": [
       "4"
      ]
     },
     "execution_count": 30,
     "metadata": {},
     "output_type": "execute_result"
    }
   ],
   "source": [
    "nk.graphtools.randomNode(G)"
   ]
  },
  {
   "attachments": {},
   "cell_type": "markdown",
   "metadata": {},
   "source": [
    "`randomNeighbor(G, u)` returns a random (out) neighbor of node `u` in the graph `G`."
   ]
  },
  {
   "cell_type": "code",
   "execution_count": 31,
   "metadata": {
    "execution": {
     "iopub.execute_input": "2025-10-28T11:21:51.721130Z",
     "iopub.status.busy": "2025-10-28T11:21:51.720930Z",
     "iopub.status.idle": "2025-10-28T11:21:51.724989Z",
     "shell.execute_reply": "2025-10-28T11:21:51.724282Z"
    }
   },
   "outputs": [
    {
     "data": {
      "text/plain": [
       "4"
      ]
     },
     "execution_count": 31,
     "metadata": {},
     "output_type": "execute_result"
    }
   ],
   "source": [
    "nk.graphtools.randomNeighbor(G, 0)"
   ]
  },
  {
   "attachments": {},
   "cell_type": "markdown",
   "metadata": {},
   "source": [
    "`randomEdge(G, uniformDistribution=False)` returns a random edge of graph `G`. If `uniformDistribution` is set to `True`, the edge is selected uniformly at random."
   ]
  },
  {
   "cell_type": "code",
   "execution_count": 32,
   "metadata": {
    "execution": {
     "iopub.execute_input": "2025-10-28T11:21:51.727021Z",
     "iopub.status.busy": "2025-10-28T11:21:51.726805Z",
     "iopub.status.idle": "2025-10-28T11:21:51.731100Z",
     "shell.execute_reply": "2025-10-28T11:21:51.730223Z"
    }
   },
   "outputs": [
    {
     "data": {
      "text/plain": [
       "(3, 1)"
      ]
     },
     "execution_count": 32,
     "metadata": {},
     "output_type": "execute_result"
    }
   ],
   "source": [
    "nk.graphtools.randomEdge(G, True)"
   ]
  },
  {
   "attachments": {},
   "cell_type": "markdown",
   "metadata": {},
   "source": [
    "Sometimes it makes sense to compact the graph, e.g., after deleting nodes. The method `getCompactedGraph(G, nodeIdMap)` does just that by designating continuous node ids. `nodeIdMap` maps each node id of graph `G` to their new ids.\n",
    "\n",
    "First, we delete a node from `G`."
   ]
  },
  {
   "cell_type": "code",
   "execution_count": 33,
   "metadata": {
    "execution": {
     "iopub.execute_input": "2025-10-28T11:21:51.732921Z",
     "iopub.status.busy": "2025-10-28T11:21:51.732683Z",
     "iopub.status.idle": "2025-10-28T11:21:51.735498Z",
     "shell.execute_reply": "2025-10-28T11:21:51.734765Z"
    }
   },
   "outputs": [],
   "source": [
    "G.removeNode(2)"
   ]
  },
  {
   "attachments": {},
   "cell_type": "markdown",
   "metadata": {},
   "source": [
    "Then, we use `getContinuousNodeIds(G)` to get a map from the original nodes ids of G, to their new ids."
   ]
  },
  {
   "cell_type": "code",
   "execution_count": 34,
   "metadata": {
    "execution": {
     "iopub.execute_input": "2025-10-28T11:21:51.737607Z",
     "iopub.status.busy": "2025-10-28T11:21:51.737431Z",
     "iopub.status.idle": "2025-10-28T11:21:51.740119Z",
     "shell.execute_reply": "2025-10-28T11:21:51.739370Z"
    }
   },
   "outputs": [],
   "source": [
    "nodeIdMap = nk.graphtools.getContinuousNodeIds(G)"
   ]
  },
  {
   "attachments": {},
   "cell_type": "markdown",
   "metadata": {},
   "source": [
    "Finally, we get a new graph with compacted node ids."
   ]
  },
  {
   "cell_type": "code",
   "execution_count": 35,
   "metadata": {
    "execution": {
     "iopub.execute_input": "2025-10-28T11:21:51.742103Z",
     "iopub.status.busy": "2025-10-28T11:21:51.741907Z",
     "iopub.status.idle": "2025-10-28T11:21:51.745202Z",
     "shell.execute_reply": "2025-10-28T11:21:51.744408Z"
    }
   },
   "outputs": [],
   "source": [
    "compGraph = nk.graphtools.getCompactedGraph(G, nodeIdMap)\n",
    "assert(compGraph.numberOfNodes() == G.numberOfNodes())\n",
    "assert(compGraph.numberOfEdges() == G.numberOfEdges())"
   ]
  },
  {
   "attachments": {},
   "cell_type": "markdown",
   "metadata": {},
   "source": [
    "`maxDegree(G)` returns the highest (out) degree of `G`."
   ]
  },
  {
   "cell_type": "code",
   "execution_count": 36,
   "metadata": {
    "execution": {
     "iopub.execute_input": "2025-10-28T11:21:51.747197Z",
     "iopub.status.busy": "2025-10-28T11:21:51.747000Z",
     "iopub.status.idle": "2025-10-28T11:21:51.751505Z",
     "shell.execute_reply": "2025-10-28T11:21:51.750749Z"
    }
   },
   "outputs": [
    {
     "data": {
      "text/plain": [
       "3"
      ]
     },
     "execution_count": 36,
     "metadata": {},
     "output_type": "execute_result"
    }
   ],
   "source": [
    "nk.graphtools.maxDegree(compGraph)"
   ]
  },
  {
   "attachments": {},
   "cell_type": "markdown",
   "metadata": {},
   "source": [
    "`maxInDegree(G)` returns the highest in-degree of a directed graph `G`. `maxWeightedDegree(G)` returns the highest sum of the (out) edge weights of `G`, while `maxWeightedInDegree(G)` returns the highest sum of the in-edge weights of a directed graph `G`."
   ]
  },
  {
   "cell_type": "code",
   "execution_count": null,
   "metadata": {},
   "outputs": [],
   "source": []
  },
  {
   "cell_type": "code",
   "execution_count": null,
   "metadata": {},
   "outputs": [],
   "source": []
  }
 ],
 "metadata": {
  "kernelspec": {
   "display_name": "Python 3 (ipykernel)",
   "language": "python",
   "name": "python3"
  },
  "language_info": {
   "codemirror_mode": {
    "name": "ipython",
    "version": 3
   },
   "file_extension": ".py",
   "mimetype": "text/x-python",
   "name": "python",
   "nbconvert_exporter": "python",
   "pygments_lexer": "ipython3",
   "version": "3.13.9"
  }
 },
 "nbformat": 4,
 "nbformat_minor": 4
}
