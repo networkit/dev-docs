{
 "cells": [
  {
   "cell_type": "markdown",
   "metadata": {},
   "source": [
    "# Centrality Tutorial"
   ]
  },
  {
   "cell_type": "markdown",
   "metadata": {},
   "source": [
    "This notebook covers some of the centrality algorithms implemented in NetworKit. [Centrality](http://en.wikipedia.org/wiki/Centrality) measures the relative importance of a node within a graph. Code for centrality analysis in NetworKit is grouped into the [centrality](https://networkit.github.io/dev-docs/python_api/centrality.html) module."
   ]
  },
  {
   "cell_type": "markdown",
   "metadata": {},
   "source": [
    "As always, the first step is to start by importing NetworKit."
   ]
  },
  {
   "cell_type": "code",
   "execution_count": 1,
   "metadata": {
    "execution": {
     "iopub.execute_input": "2025-10-28T11:20:48.226798Z",
     "iopub.status.busy": "2025-10-28T11:20:48.226516Z",
     "iopub.status.idle": "2025-10-28T11:20:49.601281Z",
     "shell.execute_reply": "2025-10-28T11:20:49.600234Z"
    },
    "scrolled": true
   },
   "outputs": [
    {
     "data": {
      "text/html": [
       "\n",
       "\t\t\t<script type=\"text/javascript\">\n",
       "\t\t\t<!--\n",
       "\t\t\t\t\n",
       "\t\t\t{\n",
       "\t\t\t\tvar element = document.getElementById('NetworKit_script');\n",
       "\t\t\t\tif (element) {\n",
       "\t\t\t\t\telement.parentNode.removeChild(element);\n",
       "\t\t\t\t}\n",
       "\t\t\t\telement = document.createElement('script');\n",
       "\t\t\t\telement.type = 'text/javascript';\n",
       "\t\t\t\telement.innerHTML = 'function NetworKit_pageEmbed(id) { var i, j; var elements; elements = document.getElementById(id).getElementsByClassName(\"Plot\"); for (i=0; i<elements.length; i++) { elements[i].id = id + \"_Plot_\" + i; var data = elements[i].getAttribute(\"data-image\").split(\"|\"); elements[i].removeAttribute(\"data-image\"); var content = \"<div class=\\\\\"Image\\\\\" id=\\\\\"\" + elements[i].id + \"_Image\\\\\" />\"; elements[i].innerHTML = content; elements[i].setAttribute(\"data-image-index\", 0); elements[i].setAttribute(\"data-image-length\", data.length); for (j=0; j<data.length; j++) { elements[i].setAttribute(\"data-image-\" + j, data[j]); } NetworKit_plotUpdate(elements[i]); elements[i].onclick = function (e) { NetworKit_overlayShow((e.target) ? e.target : e.srcElement); } } elements = document.getElementById(id).getElementsByClassName(\"HeatCell\"); for (i=0; i<elements.length; i++) { var data = parseFloat(elements[i].getAttribute(\"data-heat\")); var color = \"#00FF00\"; if (data <= 1 && data > 0) { color = \"hsla(0, 100%, 75%, \" + (data) + \")\"; } else if (data <= 0 && data >= -1) { color = \"hsla(240, 100%, 75%, \" + (-data) + \")\"; } elements[i].style.backgroundColor = color; } elements = document.getElementById(id).getElementsByClassName(\"Details\"); for (i=0; i<elements.length; i++) { elements[i].setAttribute(\"data-title\", \"-\"); NetworKit_toggleDetails(elements[i]); elements[i].onclick = function (e) { NetworKit_toggleDetails((e.target) ? e.target : e.srcElement); } } elements = document.getElementById(id).getElementsByClassName(\"MathValue\"); for (i=elements.length-1; i>=0; i--) { value = elements[i].innerHTML.trim(); if (value === \"nan\") { elements[i].parentNode.innerHTML = \"\" } } elements = document.getElementById(id).getElementsByClassName(\"SubCategory\"); for (i=elements.length-1; i>=0; i--) { value = elements[i].innerHTML.trim(); if (value === \"\") { elements[i].parentNode.removeChild(elements[i]) } } elements = document.getElementById(id).getElementsByClassName(\"Category\"); for (i=elements.length-1; i>=0; i--) { value = elements[i].innerHTML.trim(); if (value === \"\") { elements[i].parentNode.removeChild(elements[i]) } } var isFirefox = false; try { isFirefox = typeof InstallTrigger !== \"undefined\"; } catch (e) {} if (!isFirefox) { alert(\"Currently the function\\'s output is only fully supported by Firefox.\"); } } function NetworKit_plotUpdate(source) { var index = source.getAttribute(\"data-image-index\"); var data = source.getAttribute(\"data-image-\" + index); var image = document.getElementById(source.id + \"_Image\"); image.style.backgroundImage = \"url(\" + data + \")\"; } function NetworKit_showElement(id, show) { var element = document.getElementById(id); element.style.display = (show) ? \"block\" : \"none\"; } function NetworKit_overlayShow(source) { NetworKit_overlayUpdate(source); NetworKit_showElement(\"NetworKit_Overlay\", true); } function NetworKit_overlayUpdate(source) { document.getElementById(\"NetworKit_Overlay_Title\").innerHTML = source.title; var index = source.getAttribute(\"data-image-index\"); var data = source.getAttribute(\"data-image-\" + index); var image = document.getElementById(\"NetworKit_Overlay_Image\"); image.setAttribute(\"data-id\", source.id); image.style.backgroundImage = \"url(\" + data + \")\"; var link = document.getElementById(\"NetworKit_Overlay_Toolbar_Bottom_Save\"); link.href = data; link.download = source.title + \".svg\"; } function NetworKit_overlayImageShift(delta) { var image = document.getElementById(\"NetworKit_Overlay_Image\"); var source = document.getElementById(image.getAttribute(\"data-id\")); var index = parseInt(source.getAttribute(\"data-image-index\")); var length = parseInt(source.getAttribute(\"data-image-length\")); var index = (index+delta) % length; if (index < 0) { index = length + index; } source.setAttribute(\"data-image-index\", index); NetworKit_overlayUpdate(source); } function NetworKit_toggleDetails(source) { var childs = source.children; var show = false; if (source.getAttribute(\"data-title\") == \"-\") { source.setAttribute(\"data-title\", \"+\"); show = false; } else { source.setAttribute(\"data-title\", \"-\"); show = true; } for (i=0; i<childs.length; i++) { if (show) { childs[i].style.display = \"block\"; } else { childs[i].style.display = \"none\"; } } }';\n",
       "\t\t\t\telement.setAttribute('id', 'NetworKit_script');\n",
       "\t\t\t\tdocument.head.appendChild(element);\n",
       "\t\t\t}\n",
       "\t\t\n",
       "\t\t\t\t\n",
       "\t\t\t{\n",
       "\t\t\t\tvar element = document.getElementById('NetworKit_style');\n",
       "\t\t\t\tif (element) {\n",
       "\t\t\t\t\telement.parentNode.removeChild(element);\n",
       "\t\t\t\t}\n",
       "\t\t\t\telement = document.createElement('style');\n",
       "\t\t\t\telement.type = 'text/css';\n",
       "\t\t\t\telement.innerHTML = '.NetworKit_Page { font-family: Arial, Helvetica, sans-serif; font-size: 14px; } .NetworKit_Page .Value:before { font-family: Arial, Helvetica, sans-serif; font-size: 1.05em; content: attr(data-title) \":\"; margin-left: -2.5em; padding-right: 0.5em; } .NetworKit_Page .Details .Value:before { display: block; } .NetworKit_Page .Value { font-family: monospace; white-space: pre; padding-left: 2.5em; white-space: -moz-pre-wrap !important; white-space: -pre-wrap; white-space: -o-pre-wrap; white-space: pre-wrap; word-wrap: break-word; tab-size: 4; -moz-tab-size: 4; } .NetworKit_Page .Category { clear: both; padding-left: 1em; margin-bottom: 1.5em; } .NetworKit_Page .Category:before { content: attr(data-title); font-size: 1.75em; display: block; margin-left: -0.8em; margin-bottom: 0.5em; } .NetworKit_Page .SubCategory { margin-bottom: 1.5em; padding-left: 1em; } .NetworKit_Page .SubCategory:before { font-size: 1.6em; display: block; margin-left: -0.8em; margin-bottom: 0.5em; } .NetworKit_Page .SubCategory[data-title]:before { content: attr(data-title); } .NetworKit_Page .Block { display: block; } .NetworKit_Page .Block:after { content: \".\"; visibility: hidden; display: block; height: 0; clear: both; } .NetworKit_Page .Block .Thumbnail_Overview, .NetworKit_Page .Block .Thumbnail_ScatterPlot { width: 260px; float: left; } .NetworKit_Page .Block .Thumbnail_Overview img, .NetworKit_Page .Block .Thumbnail_ScatterPlot img { width: 260px; } .NetworKit_Page .Block .Thumbnail_Overview:before, .NetworKit_Page .Block .Thumbnail_ScatterPlot:before { display: block; text-align: center; font-weight: bold; } .NetworKit_Page .Block .Thumbnail_Overview:before { content: attr(data-title); } .NetworKit_Page .HeatCell { font-family: \"Courier New\", Courier, monospace; cursor: pointer; } .NetworKit_Page .HeatCell, .NetworKit_Page .HeatCellName { display: inline; padding: 0.1em; margin-right: 2px; background-color: #FFFFFF } .NetworKit_Page .HeatCellName { margin-left: 0.25em; } .NetworKit_Page .HeatCell:before { content: attr(data-heat); display: inline-block; color: #000000; width: 4em; text-align: center; } .NetworKit_Page .Measure { clear: both; } .NetworKit_Page .Measure .Details { cursor: pointer; } .NetworKit_Page .Measure .Details:before { content: \"[\" attr(data-title) \"]\"; display: block; } .NetworKit_Page .Measure .Details .Value { border-left: 1px dotted black; margin-left: 0.4em; padding-left: 3.5em; pointer-events: none; } .NetworKit_Page .Measure .Details .Spacer:before { content: \".\"; opacity: 0.0; pointer-events: none; } .NetworKit_Page .Measure .Plot { width: 440px; height: 440px; cursor: pointer; float: left; margin-left: -0.9em; margin-right: 20px; } .NetworKit_Page .Measure .Plot .Image { background-repeat: no-repeat; background-position: center center; background-size: contain; height: 100%; pointer-events: none; } .NetworKit_Page .Measure .Stat { width: 500px; float: left; } .NetworKit_Page .Measure .Stat .Group { padding-left: 1.25em; margin-bottom: 0.75em; } .NetworKit_Page .Measure .Stat .Group .Title { font-size: 1.1em; display: block; margin-bottom: 0.3em; margin-left: -0.75em; border-right-style: dotted; border-right-width: 1px; border-bottom-style: dotted; border-bottom-width: 1px; background-color: #D0D0D0; padding-left: 0.2em; } .NetworKit_Page .Measure .Stat .Group .List { -webkit-column-count: 3; -moz-column-count: 3; column-count: 3; } .NetworKit_Page .Measure .Stat .Group .List .Entry { position: relative; line-height: 1.75em; } .NetworKit_Page .Measure .Stat .Group .List .Entry[data-tooltip]:before { position: absolute; left: 0; top: -40px; background-color: #808080; color: #ffffff; height: 30px; line-height: 30px; border-radius: 5px; padding: 0 15px; content: attr(data-tooltip); white-space: nowrap; display: none; } .NetworKit_Page .Measure .Stat .Group .List .Entry[data-tooltip]:after { position: absolute; left: 15px; top: -10px; border-top: 7px solid #808080; border-left: 7px solid transparent; border-right: 7px solid transparent; content: \"\"; display: none; } .NetworKit_Page .Measure .Stat .Group .List .Entry[data-tooltip]:hover:after, .NetworKit_Page .Measure .Stat .Group .List .Entry[data-tooltip]:hover:before { display: block; } .NetworKit_Page .Measure .Stat .Group .List .Entry .MathValue { font-family: \"Courier New\", Courier, monospace; } .NetworKit_Page .Measure:after { content: \".\"; visibility: hidden; display: block; height: 0; clear: both; } .NetworKit_Page .PartitionPie { clear: both; } .NetworKit_Page .PartitionPie img { width: 600px; } #NetworKit_Overlay { left: 0px; top: 0px; display: none; position: absolute; width: 100%; height: 100%; background-color: rgba(0,0,0,0.6); z-index: 1000; } #NetworKit_Overlay_Title { position: absolute; color: white; transform: rotate(-90deg); width: 32em; height: 32em; padding-right: 0.5em; padding-top: 0.5em; text-align: right; font-size: 40px; } #NetworKit_Overlay .button { background: white; cursor: pointer; } #NetworKit_Overlay .button:before { size: 13px; display: inline-block; text-align: center; margin-top: 0.5em; margin-bottom: 0.5em; width: 1.5em; height: 1.5em; } #NetworKit_Overlay .icon-close:before { content: \"X\"; } #NetworKit_Overlay .icon-previous:before { content: \"P\"; } #NetworKit_Overlay .icon-next:before { content: \"N\"; } #NetworKit_Overlay .icon-save:before { content: \"S\"; } #NetworKit_Overlay_Toolbar_Top, #NetworKit_Overlay_Toolbar_Bottom { position: absolute; width: 40px; right: 13px; text-align: right; z-index: 1100; } #NetworKit_Overlay_Toolbar_Top { top: 0.5em; } #NetworKit_Overlay_Toolbar_Bottom { Bottom: 0.5em; } #NetworKit_Overlay_ImageContainer { position: absolute; top: 5%; left: 5%; height: 90%; width: 90%; background-repeat: no-repeat; background-position: center center; background-size: contain; } #NetworKit_Overlay_Image { height: 100%; width: 100%; background-repeat: no-repeat; background-position: center center; background-size: contain; }';\n",
       "\t\t\t\telement.setAttribute('id', 'NetworKit_style');\n",
       "\t\t\t\tdocument.head.appendChild(element);\n",
       "\t\t\t}\n",
       "\t\t\n",
       "\t\t\t\t\n",
       "\t\t\t{\n",
       "\t\t\t\tvar element = document.getElementById('NetworKit_Overlay');\n",
       "\t\t\t\tif (element) {\n",
       "\t\t\t\t\telement.parentNode.removeChild(element);\n",
       "\t\t\t\t}\n",
       "\t\t\t\telement = document.createElement('div');\n",
       "\t\t\t\telement.innerHTML = '<div id=\"NetworKit_Overlay_Toolbar_Top\"><div class=\"button icon-close\" id=\"NetworKit_Overlay_Close\" /></div><div id=\"NetworKit_Overlay_Title\" /> <div id=\"NetworKit_Overlay_ImageContainer\"> <div id=\"NetworKit_Overlay_Image\" /> </div> <div id=\"NetworKit_Overlay_Toolbar_Bottom\"> <div class=\"button icon-previous\" onclick=\"NetworKit_overlayImageShift(-1)\" /> <div class=\"button icon-next\" onclick=\"NetworKit_overlayImageShift(1)\" /> <a id=\"NetworKit_Overlay_Toolbar_Bottom_Save\"><div class=\"button icon-save\" /></a> </div>';\n",
       "\t\t\t\telement.setAttribute('id', 'NetworKit_Overlay');\n",
       "\t\t\t\tdocument.body.appendChild(element);\n",
       "\t\t\t\tdocument.getElementById('NetworKit_Overlay_Close').onclick = function (e) {\n",
       "\t\t\t\t\tdocument.getElementById('NetworKit_Overlay').style.display = 'none';\n",
       "\t\t\t\t}\n",
       "\t\t\t}\n",
       "\t\t\n",
       "\t\t\t-->\n",
       "\t\t\t</script>\n",
       "\t\t"
      ]
     },
     "metadata": {},
     "output_type": "display_data"
    }
   ],
   "source": [
    "import networkit as nk"
   ]
  },
  {
   "cell_type": "markdown",
   "metadata": {},
   "source": [
    "Every algorithm within the `centrality` module in NetworKit has a `run()` function that must be called in order for the algorithm to be executed after initialization."
   ]
  },
  {
   "cell_type": "markdown",
   "metadata": {},
   "source": [
    "## Betweeness Centrality\n",
    "\n",
    "Betweenness centrality measures the extent to which a vertex lies on shortest paths between other vertices. Vertices with high betweenness may have considerable influence within a network."
   ]
  },
  {
   "cell_type": "markdown",
   "metadata": {},
   "source": [
    "### Betweenness"
   ]
  },
  {
   "cell_type": "markdown",
   "metadata": {},
   "source": [
    "The fastest algorithm for the exact computation of the betweenness centrality is Brandes' algorithm, and it is implemented in the [Betweenness](https://networkit.github.io/dev-docs/python_api/centrality.html?highlight=betweenness#networkit.centrality.Betweenness) class. The constructor [Betweenness(G, normalized=False, computeEdgeCentrality=False)](https://networkit.github.io/dev-docs/python_api/centrality.html?highlight=betweenness#networkit.centrality.Betweenness) expects a mandatory [networkit.Graph](https://networkit.github.io/dev-docs/python_api/graph.html?highlight=graph#module-networkit.graph), and two optional parameters ` normalized` and `computeEdgeCentrality`. If `normalized` is set to true the centrality scores will be normalized. The parameter `computeEdgeCentrality` should be set to true if edge betweeness should be computed as well. \n",
    "\n",
    "We start by reading a graph, and then inititalising the algorithm with the parameters we want. Assuming we shall use the default parameters, i.e., centrality scores should not be normalized and edge betweeness should not be computed, we only need to pass a graph to the method."
   ]
  },
  {
   "cell_type": "code",
   "execution_count": 2,
   "metadata": {
    "execution": {
     "iopub.execute_input": "2025-10-28T11:20:49.641291Z",
     "iopub.status.busy": "2025-10-28T11:20:49.640812Z",
     "iopub.status.idle": "2025-10-28T11:20:49.654712Z",
     "shell.execute_reply": "2025-10-28T11:20:49.653906Z"
    },
    "scrolled": true
   },
   "outputs": [],
   "source": [
    "# Read graph\n",
    "G = nk.readGraph(\"../input/power.graph\", nk.Format.METIS)\n",
    "# Initalize algorithm\n",
    "btwn = nk.centrality.Betweenness(G)"
   ]
  },
  {
   "cell_type": "code",
   "execution_count": 3,
   "metadata": {
    "execution": {
     "iopub.execute_input": "2025-10-28T11:20:49.656975Z",
     "iopub.status.busy": "2025-10-28T11:20:49.656622Z",
     "iopub.status.idle": "2025-10-28T11:21:01.917769Z",
     "shell.execute_reply": "2025-10-28T11:21:01.916548Z"
    },
    "scrolled": true
   },
   "outputs": [
    {
     "data": {
      "text/plain": [
       "<networkit.centrality.Betweenness at 0x7f3b67b07ac0>"
      ]
     },
     "execution_count": 3,
     "metadata": {},
     "output_type": "execute_result"
    }
   ],
   "source": [
    "# Run \n",
    "btwn.run()"
   ]
  },
  {
   "cell_type": "code",
   "execution_count": 4,
   "metadata": {
    "execution": {
     "iopub.execute_input": "2025-10-28T11:21:01.919730Z",
     "iopub.status.busy": "2025-10-28T11:21:01.919515Z",
     "iopub.status.idle": "2025-10-28T11:21:01.927672Z",
     "shell.execute_reply": "2025-10-28T11:21:01.926859Z"
    },
    "scrolled": true
   },
   "outputs": [
    {
     "data": {
      "text/plain": [
       "[(4164, 7036954.687164464),\n",
       " (2543, 6873056.733431251),\n",
       " (1243, 6824187.837966223),\n",
       " (4219, 6774285.210945554),\n",
       " (2528, 6521871.002117599),\n",
       " (1267, 6057480.123171414),\n",
       " (1308, 5770690.329252717),\n",
       " (1244, 5007410.4328002585),\n",
       " (426, 5000602.048322921),\n",
       " (2606, 4955764.654483629)]"
      ]
     },
     "execution_count": 4,
     "metadata": {},
     "output_type": "execute_result"
    }
   ],
   "source": [
    "# The 10 most central nodes according to betweenness are then\n",
    "btwn.ranking()[:10]"
   ]
  },
  {
   "cell_type": "markdown",
   "metadata": {},
   "source": [
    "### ApproxBetweenness"
   ]
  },
  {
   "cell_type": "markdown",
   "metadata": {},
   "source": [
    "Since exact calculation of betweenness scores is often out of reach, NetworKit provides an approximation algorithm based on path sampling. This functionality is provided by the ApproxBetweenness class, [(G, epsilon=0.01, delta=0.1, universalConstant=1.0)](https://networkit.github.io/dev-docs/python_api/centrality.html?highlight=approx#networkit.centrality.ApproxBetweenness). It expects a mandatory undirected [networkit.Graph](https://networkit.github.io/dev-docs/python_api/graph.html?highlight=graph#module-networkit.graph). Here we estimate betweenness centrality in `PGPgiantcompo`, with a guarantee that the error is no larger than an additive constant `epsilon` with a probability of at least 1 - `delta`. The `universalConstant` is used to compute the sample size."
   ]
  },
  {
   "cell_type": "code",
   "execution_count": 5,
   "metadata": {
    "execution": {
     "iopub.execute_input": "2025-10-28T11:21:01.930125Z",
     "iopub.status.busy": "2025-10-28T11:21:01.929929Z",
     "iopub.status.idle": "2025-10-28T11:21:01.973224Z",
     "shell.execute_reply": "2025-10-28T11:21:01.972316Z"
    },
    "scrolled": true
   },
   "outputs": [],
   "source": [
    "# Read graph\n",
    "G = nk.readGraph(\"../input/PGPgiantcompo.graph\", nk.Format.METIS)"
   ]
  },
  {
   "cell_type": "code",
   "execution_count": 6,
   "metadata": {
    "execution": {
     "iopub.execute_input": "2025-10-28T11:21:01.975287Z",
     "iopub.status.busy": "2025-10-28T11:21:01.974968Z",
     "iopub.status.idle": "2025-10-28T11:21:03.982662Z",
     "shell.execute_reply": "2025-10-28T11:21:03.981641Z"
    },
    "scrolled": true
   },
   "outputs": [
    {
     "data": {
      "text/plain": [
       "<networkit.centrality.ApproxBetweenness at 0x7f3b673d7760>"
      ]
     },
     "execution_count": 6,
     "metadata": {},
     "output_type": "execute_result"
    }
   ],
   "source": [
    "ab = nk.centrality.ApproxBetweenness(G, epsilon=0.1)\n",
    "ab.run()"
   ]
  },
  {
   "cell_type": "code",
   "execution_count": 7,
   "metadata": {
    "execution": {
     "iopub.execute_input": "2025-10-28T11:21:03.984666Z",
     "iopub.status.busy": "2025-10-28T11:21:03.984430Z",
     "iopub.status.idle": "2025-10-28T11:21:03.996991Z",
     "shell.execute_reply": "2025-10-28T11:21:03.995980Z"
    },
    "scrolled": true
   },
   "outputs": [
    {
     "data": {
      "text/plain": [
       "[(1143, 0.1179302045728036),\n",
       " (6655, 0.1179302045728036),\n",
       " (6555, 0.09506618531889277),\n",
       " (3156, 0.08182912154031281),\n",
       " (6744, 0.07701564380264737),\n",
       " (7297, 0.0734055354993983),\n",
       " (6932, 0.07220216606498193),\n",
       " (5165, 0.06257521058965106),\n",
       " (6098, 0.057761732851985596),\n",
       " (2258, 0.05655836341756923)]"
      ]
     },
     "execution_count": 7,
     "metadata": {},
     "output_type": "execute_result"
    }
   ],
   "source": [
    "# The 10 most central nodes according to betweenness are then\n",
    "ab.ranking()[:10]"
   ]
  },
  {
   "cell_type": "markdown",
   "metadata": {},
   "source": [
    "### EstimateBetweenness"
   ]
  },
  {
   "cell_type": "markdown",
   "metadata": {},
   "source": [
    "The [EstimateBetweenness](https://networkit.github.io/dev-docs/python_api/centrality.html?highlight=estimate#networkit.centrality.EstimateBetweenness) class estimates the betweenness centrality according to the algorthm described in `Sanders, Geisberger, Schultes: Better Approximation of Betweenness Centrality`.\n",
    "Despite the algorithm performing well in practice, no guarantee can be given. If a theoritical guarantee is required, use the [ApproxBetweenness](https://networkit.github.io/dev-docs/python_api/centrality.html?highlight=approx#networkit.centrality.ApproxBetweenness) algorithm.\n",
    "\n",
    "The constructor `EstimateBetweenness(Graph G, count nSamples, bool normalized=False, bool parallel_flag=False)` expects a [networkit.Graph](https://networkit.github.io/dev-docs/python_api/graph.html?highlight=graph#module-networkit.graph) and the number of samples as mandatory parameters. Further, the centrality values can be optionally normalized by setting `normalized` to `True`; by default the centrality values are not normalized. This algorithm can be run in parallel by setting the `parallel_flag`  to true. Running in parallel, however, comes with an additional cost in memory of z + 3z + t. "
   ]
  },
  {
   "cell_type": "code",
   "execution_count": 8,
   "metadata": {
    "execution": {
     "iopub.execute_input": "2025-10-28T11:21:03.998854Z",
     "iopub.status.busy": "2025-10-28T11:21:03.998658Z",
     "iopub.status.idle": "2025-10-28T11:21:04.041134Z",
     "shell.execute_reply": "2025-10-28T11:21:04.040364Z"
    },
    "scrolled": true
   },
   "outputs": [],
   "source": [
    "# Read a graph\n",
    "G = nk.readGraph(\"../input/PGPgiantcompo.graph\", nk.Format.METIS)"
   ]
  },
  {
   "cell_type": "code",
   "execution_count": 9,
   "metadata": {
    "execution": {
     "iopub.execute_input": "2025-10-28T11:21:04.043218Z",
     "iopub.status.busy": "2025-10-28T11:21:04.043030Z",
     "iopub.status.idle": "2025-10-28T11:21:04.782757Z",
     "shell.execute_reply": "2025-10-28T11:21:04.781890Z"
    },
    "scrolled": true
   },
   "outputs": [
    {
     "data": {
      "text/plain": [
       "<networkit.centrality.EstimateBetweenness at 0x7f3bac1e3bb0>"
      ]
     },
     "execution_count": 9,
     "metadata": {},
     "output_type": "execute_result"
    }
   ],
   "source": [
    "# Initialize algorithm\n",
    "est = nk.centrality.EstimateBetweenness(G, 50, True, False)\n",
    "est.run()"
   ]
  },
  {
   "cell_type": "code",
   "execution_count": 10,
   "metadata": {
    "execution": {
     "iopub.execute_input": "2025-10-28T11:21:04.785105Z",
     "iopub.status.busy": "2025-10-28T11:21:04.784898Z",
     "iopub.status.idle": "2025-10-28T11:21:04.793671Z",
     "shell.execute_reply": "2025-10-28T11:21:04.792908Z"
    },
    "scrolled": true
   },
   "outputs": [
    {
     "data": {
      "text/plain": [
       "[(6555, 0.11986642275596195),\n",
       " (1143, 0.11753209143224926),\n",
       " (6932, 0.09061421741336916),\n",
       " (6655, 0.08698130483326141),\n",
       " (7297, 0.08544954357160761),\n",
       " (6744, 0.08493536507412429),\n",
       " (6098, 0.078737615870907),\n",
       " (3156, 0.06358397229849737),\n",
       " (5165, 0.05778504692210013),\n",
       " (2258, 0.05632038129685419)]"
      ]
     },
     "execution_count": 10,
     "metadata": {},
     "output_type": "execute_result"
    }
   ],
   "source": [
    "#The 10 most central nodes according to betweenness are then\n",
    "est.ranking()[:10]"
   ]
  },
  {
   "cell_type": "markdown",
   "metadata": {},
   "source": [
    "### KadabraBetweenness"
   ]
  },
  {
   "cell_type": "markdown",
   "metadata": {},
   "source": [
    "[KadabraBetweenness](https://networkit.github.io/dev-docs/python_api/centrality.html?highlight=kadabra#networkit.centrality.KadabraBetweenness) is an ADaptive Algorithm for Betweennes via Random Approximation presented by [Borassi M., and Natale E.](https://arxiv.org/abs/1604.08553).\n",
    "NetworKit provides variants of the algorithm that either reduce this memory consumption to O(1) or ensure that deterministic results are obtained. For more details about the implementation, see this [paper](https://arxiv.org/abs/1903.09422) by `Van der Grinten A., Angriman E., and Meyerhenke H. (2019)`.\n",
    "\n",
    "The constructor [KadabraBetweennes(G, err=0.01, delta=0.1, deterministic=False, k=0, unionSample=0, startFactor=100)](https://networkit.github.io/dev-docs/python_api/centrality.html?highlight=kadabra#networkit.centrality.KadabraBetweenness) only expects a [networkit.Graph](https://networkit.github.io/dev-docs/python_api/graph.html?highlight=graph#module-networkit.graph) as a mandatory parameter. `err` is the maximum additive error guaranteeded when approximating the betweenness centrality of all nodes, while `delta` is the probability that the values of the betweenness centrality are within the error guarantee. The parameter `k` expresses the number of top k-nodes to be computed; if set to zero the approximate betweenness centrality of all nodes will be computed. `unionSample` and `startFactor` are algorithm parameters that are automatically chosen.\n",
    "\n",
    "Hence, computing the KadabraBetweenness for all nodes with a maximum additive error of 0.05, and a probabilty of 0.8 that the values of the betweenness centrality are within that range can be done as follows:"
   ]
  },
  {
   "cell_type": "code",
   "execution_count": 11,
   "metadata": {
    "execution": {
     "iopub.execute_input": "2025-10-28T11:21:04.795947Z",
     "iopub.status.busy": "2025-10-28T11:21:04.795716Z",
     "iopub.status.idle": "2025-10-28T11:21:04.838286Z",
     "shell.execute_reply": "2025-10-28T11:21:04.837423Z"
    },
    "scrolled": true
   },
   "outputs": [],
   "source": [
    "# Read a graph\n",
    "G = nk.readGraph(\"../input/PGPgiantcompo.graph\", nk.Format.METIS)"
   ]
  },
  {
   "cell_type": "code",
   "execution_count": 12,
   "metadata": {
    "execution": {
     "iopub.execute_input": "2025-10-28T11:21:04.840300Z",
     "iopub.status.busy": "2025-10-28T11:21:04.840097Z",
     "iopub.status.idle": "2025-10-28T11:21:05.061108Z",
     "shell.execute_reply": "2025-10-28T11:21:05.060128Z"
    },
    "scrolled": true
   },
   "outputs": [
    {
     "data": {
      "text/plain": [
       "<networkit.centrality.KadabraBetweenness at 0x7f3b67120570>"
      ]
     },
     "execution_count": 12,
     "metadata": {},
     "output_type": "execute_result"
    }
   ],
   "source": [
    "# Initialize algorithm\n",
    "kadabra = nk.centrality.KadabraBetweenness(G, 0.05, 0.8)\n",
    "kadabra.run()"
   ]
  },
  {
   "cell_type": "code",
   "execution_count": 13,
   "metadata": {
    "execution": {
     "iopub.execute_input": "2025-10-28T11:21:05.063483Z",
     "iopub.status.busy": "2025-10-28T11:21:05.063265Z",
     "iopub.status.idle": "2025-10-28T11:21:05.069823Z",
     "shell.execute_reply": "2025-10-28T11:21:05.069103Z"
    },
    "scrolled": true
   },
   "outputs": [
    {
     "data": {
      "text/plain": [
       "[(1143, 0.2397984886649874),\n",
       " (6655, 0.2105793450881612),\n",
       " (6555, 0.16221662468513853),\n",
       " (7297, 0.16120906801007556),\n",
       " (6932, 0.15818639798488665),\n",
       " (6098, 0.15415617128463477),\n",
       " (6744, 0.13702770780856424),\n",
       " (3156, 0.1350125944584383),\n",
       " (2258, 0.11889168765743073),\n",
       " (7324, 0.09672544080604534)]"
      ]
     },
     "execution_count": 13,
     "metadata": {},
     "output_type": "execute_result"
    }
   ],
   "source": [
    "#The 10 most central nodes according to betweenness are then\n",
    "kadabra.ranking()[:10]"
   ]
  },
  {
   "cell_type": "markdown",
   "metadata": {},
   "source": [
    "##  Closeness Centrality\n",
    "\n",
    "Closeness centrality indicates how close a node is to all other nodes in the network. It is calculated as inverse of the average of the shortest path length from the node to every other node in the network."
   ]
  },
  {
   "cell_type": "markdown",
   "metadata": {},
   "source": [
    "### Closeness"
   ]
  },
  {
   "cell_type": "markdown",
   "metadata": {},
   "source": [
    "The NetworKit Closeness class computes the exact closeness centrality of all the nodes of a graph. The constructor [Closeness(G, normalized=True, variant=networkit.centrality.ClosenessVariant.STANDARD)](https://networkit.github.io/dev-docs/python_api/centrality.html?highlight=closeness#networkit.centrality.Closeness) expects a mandatory [networkit.Graph](https://networkit.github.io/dev-docs/python_api/graph.html?highlight=graph#module-networkit.graph), and two optional parameters, `normalized` and `variant`. The centrality values can be optionally normalized for unweighted graphs by setting `normalized` to True; by default the centrality values are normalized. The parameter`variant` dictates the closeness variant to be used when computing the closeness. Set `variant` to `networkit.centrality.ClosenessVariant.STANDARD` to use the standard definition of closeness  which is defined for connected graphs only, or to `networkit.centrality.ClosenessVariant.GENERALIZED` to use the generalized definition of closeness that is also defined for non-connected graphs. \n",
    "\n",
    "As the graph we will use is weighted the values should not be normalized. So, to compute the closeness of a graph using the generalised closeness variant because our graph is disconnected we can do the following:"
   ]
  },
  {
   "cell_type": "code",
   "execution_count": 14,
   "metadata": {
    "execution": {
     "iopub.execute_input": "2025-10-28T11:21:05.072146Z",
     "iopub.status.busy": "2025-10-28T11:21:05.071947Z",
     "iopub.status.idle": "2025-10-28T11:21:05.077400Z",
     "shell.execute_reply": "2025-10-28T11:21:05.076622Z"
    },
    "scrolled": true
   },
   "outputs": [],
   "source": [
    "# Read a graph\n",
    "G = nk.readGraph(\"../input/foodweb-baydry.konect\", nk.Format.KONECT)"
   ]
  },
  {
   "cell_type": "code",
   "execution_count": 15,
   "metadata": {
    "execution": {
     "iopub.execute_input": "2025-10-28T11:21:05.079115Z",
     "iopub.status.busy": "2025-10-28T11:21:05.078938Z",
     "iopub.status.idle": "2025-10-28T11:21:05.095610Z",
     "shell.execute_reply": "2025-10-28T11:21:05.094517Z"
    },
    "scrolled": true
   },
   "outputs": [
    {
     "data": {
      "text/plain": [
       "<networkit.centrality.Closeness at 0x7f3b67ae0250>"
      ]
     },
     "execution_count": 15,
     "metadata": {},
     "output_type": "execute_result"
    }
   ],
   "source": [
    "# Initialize algorithm\n",
    "close = nk.centrality.Closeness(G, False, nk.centrality.ClosenessVariant.GENERALIZED)\n",
    "close.run()"
   ]
  },
  {
   "cell_type": "code",
   "execution_count": 16,
   "metadata": {
    "execution": {
     "iopub.execute_input": "2025-10-28T11:21:05.097374Z",
     "iopub.status.busy": "2025-10-28T11:21:05.097194Z",
     "iopub.status.idle": "2025-10-28T11:21:05.101410Z",
     "shell.execute_reply": "2025-10-28T11:21:05.100703Z"
    },
    "scrolled": true
   },
   "outputs": [
    {
     "data": {
      "text/plain": [
       "[(8, 0.962150639989747),\n",
       " (64, 0.8484943683258478),\n",
       " (57, 0.7951252523231831),\n",
       " (55, 0.7405035792871096),\n",
       " (65, 0.48508765673100607),\n",
       " (66, 0.469459105637361),\n",
       " (58, 0.46525538614449846),\n",
       " (82, 0.46179282298925417),\n",
       " (85, 0.46142579646975274),\n",
       " (83, 0.46137631059745826)]"
      ]
     },
     "execution_count": 16,
     "metadata": {},
     "output_type": "execute_result"
    }
   ],
   "source": [
    "#The 10 most central nodes according to betweenness are then\n",
    "close.ranking() [:10]"
   ]
  },
  {
   "cell_type": "markdown",
   "metadata": {},
   "source": [
    "### ApproxCloseness"
   ]
  },
  {
   "cell_type": "markdown",
   "metadata": {},
   "source": [
    "Since exact calculation of closeness scores is often out of reach, NetworKit provides an approximation closeness centrality according to the algorithm described in '`Cohen et al., Computing Classic Closeness Centrality, at Scale`. \n",
    "\n",
    "The constructor expects a mandatory connected [networkit.Graph](https://networkit.github.io/dev-docs/python_api/graph.html?highlight=graph#module-networkit.graph) among other optional values:\n",
    "[ApproxCloseness(G, nSamples, epsilon=0.1, normalized=False, type=OUTBOUND)](https://networkit.github.io/dev-docs/python_api/centrality.html?highlight=approx#networkit.centrality.ApproxCloseness). `nSamples` dictates the number of samples that should be used when computing the approximate closeness; this value depends on the size of graph and the more samples that are used, the better the results are likely to be. `epsilon` can be any value between 0 and $\\infty$-1   and is used for the error guarantee. The centrality values can be optionally normalized by setting `normalized` to True; by default the centrality values are not normalized. If G is undirected, `type` can be ignored. Otherwise use `0` for inbound centrality, `1` for outbound centrality and `2` for the sum of both."
   ]
  },
  {
   "cell_type": "code",
   "execution_count": 17,
   "metadata": {
    "execution": {
     "iopub.execute_input": "2025-10-28T11:21:05.103391Z",
     "iopub.status.busy": "2025-10-28T11:21:05.103201Z",
     "iopub.status.idle": "2025-10-28T11:21:05.108637Z",
     "shell.execute_reply": "2025-10-28T11:21:05.107947Z"
    },
    "scrolled": true
   },
   "outputs": [],
   "source": [
    "# Read a graph\n",
    "G = nk.readGraph(\"../input/foodweb-baydry.konect\", nk.Format.KONECT)"
   ]
  },
  {
   "cell_type": "code",
   "execution_count": 18,
   "metadata": {
    "execution": {
     "iopub.execute_input": "2025-10-28T11:21:05.110670Z",
     "iopub.status.busy": "2025-10-28T11:21:05.110494Z",
     "iopub.status.idle": "2025-10-28T11:21:05.148738Z",
     "shell.execute_reply": "2025-10-28T11:21:05.147825Z"
    },
    "scrolled": true
   },
   "outputs": [
    {
     "data": {
      "text/plain": [
       "<networkit.centrality.ApproxCloseness at 0x7f3b67115780>"
      ]
     },
     "execution_count": 18,
     "metadata": {},
     "output_type": "execute_result"
    }
   ],
   "source": [
    "ac = nk.centrality.ApproxCloseness(G, 100)\n",
    "ac.run()"
   ]
  },
  {
   "cell_type": "code",
   "execution_count": 19,
   "metadata": {
    "execution": {
     "iopub.execute_input": "2025-10-28T11:21:05.150535Z",
     "iopub.status.busy": "2025-10-28T11:21:05.150325Z",
     "iopub.status.idle": "2025-10-28T11:21:05.155246Z",
     "shell.execute_reply": "2025-10-28T11:21:05.154438Z"
    },
    "scrolled": true
   },
   "outputs": [
    {
     "data": {
      "text/plain": [
       "[(8, 1.0719526869065077),\n",
       " (64, 0.990133552364824),\n",
       " (57, 0.929999970139547),\n",
       " (55, 0.8577171136906128),\n",
       " (65, 0.5650929817580651),\n",
       " (66, 0.5472033008532221),\n",
       " (58, 0.5414340057709496),\n",
       " (60, 0.533484912520996),\n",
       " (82, 0.5333102746096362),\n",
       " (85, 0.5329195567718986)]"
      ]
     },
     "execution_count": 19,
     "metadata": {},
     "output_type": "execute_result"
    }
   ],
   "source": [
    "# 10 most central nodes according to closeness are \n",
    "ac.ranking()[:10]"
   ]
  },
  {
   "cell_type": "markdown",
   "metadata": {},
   "source": [
    "### HarmonicCloseness"
   ]
  },
  {
   "cell_type": "markdown",
   "metadata": {},
   "source": [
    "Harmonic centrality is a variant of closeness centrality. It deals with the problem of unconnected graphs.\n",
    "The constructor, [HarmonicCloseness(G, normalized=True)](https://networkit.github.io/dev-docs/python_api/centrality.html?highlight=harmon#networkit.centrality.HarmonicCloseness), expects a [networkit.Graph](https://networkit.github.io/dev-docs/python_api/graph.html?highlight=graph#module-networkit.graph) and an optional parameter `normalized` that is set to true by default. If `normalized` is set to true, centrality scores are normalized to into an interval between 0 and 1. \n",
    "\n",
    "Computing the harmonic closeness of a graph, and then normalizing the scores can be done as follows:"
   ]
  },
  {
   "cell_type": "code",
   "execution_count": 20,
   "metadata": {
    "execution": {
     "iopub.execute_input": "2025-10-28T11:21:05.157073Z",
     "iopub.status.busy": "2025-10-28T11:21:05.156863Z",
     "iopub.status.idle": "2025-10-28T11:21:05.161960Z",
     "shell.execute_reply": "2025-10-28T11:21:05.161253Z"
    },
    "scrolled": true
   },
   "outputs": [],
   "source": [
    "# Read a graph\n",
    "G = nk.readGraph(\"../input/foodweb-baydry.konect\", nk.Format.KONECT)"
   ]
  },
  {
   "cell_type": "code",
   "execution_count": 21,
   "metadata": {
    "execution": {
     "iopub.execute_input": "2025-10-28T11:21:05.163900Z",
     "iopub.status.busy": "2025-10-28T11:21:05.163706Z",
     "iopub.status.idle": "2025-10-28T11:21:05.186445Z",
     "shell.execute_reply": "2025-10-28T11:21:05.185571Z"
    },
    "scrolled": true
   },
   "outputs": [
    {
     "data": {
      "text/plain": [
       "<networkit.centrality.HarmonicCloseness at 0x7f3b67115c30>"
      ]
     },
     "execution_count": 21,
     "metadata": {},
     "output_type": "execute_result"
    }
   ],
   "source": [
    "harmonic = nk.centrality.HarmonicCloseness(G, True)\n",
    "harmonic.run()"
   ]
  },
  {
   "cell_type": "code",
   "execution_count": 22,
   "metadata": {
    "execution": {
     "iopub.execute_input": "2025-10-28T11:21:05.188260Z",
     "iopub.status.busy": "2025-10-28T11:21:05.188068Z",
     "iopub.status.idle": "2025-10-28T11:21:05.192407Z",
     "shell.execute_reply": "2025-10-28T11:21:05.191596Z"
    },
    "scrolled": true
   },
   "outputs": [
    {
     "data": {
      "text/plain": [
       "[(54, 563818.6552013048),\n",
       " (90, 334190.4744932203),\n",
       " (86, 321218.72482692736),\n",
       " (15, 296940.9093191127),\n",
       " (16, 254101.51104106667),\n",
       " (21, 226571.16590482905),\n",
       " (51, 218140.5689005639),\n",
       " (22, 211206.7510456232),\n",
       " (78, 184407.6584481432),\n",
       " (97, 173715.2379835851)]"
      ]
     },
     "execution_count": 22,
     "metadata": {},
     "output_type": "execute_result"
    }
   ],
   "source": [
    "# 10 most central nodes according to closeness are\n",
    "harmonic.ranking()[:10]"
   ]
  },
  {
   "cell_type": "markdown",
   "metadata": {},
   "source": [
    "### TopHarmonicCloseness"
   ]
  },
  {
   "cell_type": "markdown",
   "metadata": {},
   "source": [
    "The [TopHarmonicCloseness(G, k=1, useBFSbound=True)](https://networkit.github.io/dev-docs/python_api/centrality.html?highlight=top#networkit.centrality.TopHarmonicCloseness) algorithm finds the exact top k nodes with highest harmonic closeness centrality. It is faster than computing the harmonic closeness for all nodes. The implementation is based on [Computing Top-k Centrality Faster in Unweighted Graphs, Bergamini et al., ALENEX16](https://arxiv.org/abs/1710.01143). The parameter `k` expresses the number of nodes with the highest centrality scores that the algorithm must find. The algorithms are based on two heuristics. We recommend to use `useBFSbound = False` for complex networks (or networks with small diameter) and `useBFSbound = True` for street networks (or networks with large diameters). "
   ]
  },
  {
   "cell_type": "code",
   "execution_count": 23,
   "metadata": {
    "execution": {
     "iopub.execute_input": "2025-10-28T11:21:05.194138Z",
     "iopub.status.busy": "2025-10-28T11:21:05.193933Z",
     "iopub.status.idle": "2025-10-28T11:21:05.199115Z",
     "shell.execute_reply": "2025-10-28T11:21:05.198217Z"
    },
    "scrolled": true
   },
   "outputs": [],
   "source": [
    "# Read a graph\n",
    "G = nk.readGraph(\"../input/foodweb-baydry.konect\", nk.Format.KONECT)"
   ]
  },
  {
   "cell_type": "code",
   "execution_count": 24,
   "metadata": {
    "execution": {
     "iopub.execute_input": "2025-10-28T11:21:05.200724Z",
     "iopub.status.busy": "2025-10-28T11:21:05.200550Z",
     "iopub.status.idle": "2025-10-28T11:21:05.206280Z",
     "shell.execute_reply": "2025-10-28T11:21:05.205390Z"
    },
    "scrolled": true
   },
   "outputs": [
    {
     "data": {
      "text/plain": [
       "<networkit.centrality.TopHarmonicCloseness at 0x7f3b67115480>"
      ]
     },
     "execution_count": 24,
     "metadata": {},
     "output_type": "execute_result"
    }
   ],
   "source": [
    "# Initialize algorithm\n",
    "topHarmClose = nk.centrality.TopHarmonicCloseness(G, 10, useNBbound=False)\n",
    "topHarmClose.run()"
   ]
  },
  {
   "cell_type": "markdown",
   "metadata": {},
   "source": [
    "Unlike all the other algorithms we have seen before, `TopHarmonicCloseness` does not have a `ranking` method which stores a sorted list of all centrality scores. Instead, we have the [topkNodesList(includeTrail=False)](https://networkit.github.io/dev-docs/python_api/centrality.html?highlight=topknodes#networkit.centrality.TopHarmonicCloseness.topkNodesList) method. By calling this method, we can print the the top `k` central nodes. If `includeTrail` is true the closeness centrality of some nodes below the top-k could be equal to the k-th closeness will also be printed. Note, that the resulting vector may be longet than `k`."
   ]
  },
  {
   "cell_type": "code",
   "execution_count": 25,
   "metadata": {
    "execution": {
     "iopub.execute_input": "2025-10-28T11:21:05.208135Z",
     "iopub.status.busy": "2025-10-28T11:21:05.207943Z",
     "iopub.status.idle": "2025-10-28T11:21:05.212007Z",
     "shell.execute_reply": "2025-10-28T11:21:05.211243Z"
    },
    "scrolled": true
   },
   "outputs": [
    {
     "data": {
      "text/plain": [
       "[54, 90, 86, 15, 16, 21, 51, 22, 78, 97]"
      ]
     },
     "execution_count": 25,
     "metadata": {},
     "output_type": "execute_result"
    }
   ],
   "source": [
    "# k most central nodes according to closeness are\n",
    "topHarmClose.topkNodesList()"
   ]
  },
  {
   "cell_type": "markdown",
   "metadata": {},
   "source": [
    "Alternatively, the [topKScores(includeTrail=False)](https://networkit.github.io/dev-docs/python_api/centrality.html?highlight=topkscores#networkit.centrality.TopCloseness.topkScoresList) method may be used."
   ]
  },
  {
   "cell_type": "code",
   "execution_count": 26,
   "metadata": {
    "execution": {
     "iopub.execute_input": "2025-10-28T11:21:05.213949Z",
     "iopub.status.busy": "2025-10-28T11:21:05.213736Z",
     "iopub.status.idle": "2025-10-28T11:21:05.217681Z",
     "shell.execute_reply": "2025-10-28T11:21:05.216940Z"
    },
    "scrolled": true
   },
   "outputs": [
    {
     "data": {
      "text/plain": [
       "[71604969.2105657,\n",
       " 42442190.26063897,\n",
       " 40794778.05301977,\n",
       " 37711495.4835273,\n",
       " 32270891.902215466,\n",
       " 28774538.069913305,\n",
       " 27703852.250371616,\n",
       " 26823257.38279415,\n",
       " 23419772.622914188,\n",
       " 22061835.223915298]"
      ]
     },
     "execution_count": 26,
     "metadata": {},
     "output_type": "execute_result"
    }
   ],
   "source": [
    "topHarmClose.topkScoresList()"
   ]
  },
  {
   "cell_type": "markdown",
   "metadata": {},
   "source": [
    "### TopCloseness"
   ]
  },
  {
   "cell_type": "markdown",
   "metadata": {},
   "source": [
    "The [TopCloseness(G, k=1, first_heu=True, sec_heu=True)](https://networkit.github.io/dev-docs/python_api/centrality.html?highlight=topcloseness#networkit.centrality.TopCloseness) algorithm finds the exact top k nodes with highest harmonic closeness centrality. It is faster than computing the harmonic closeness for all nodes. The implementation is based on [Computing Top-k Centrality Faster in Unweighted Graphs, Bergamini et al., ALENEX16](https://arxiv.org/abs/1710.01143). The algorithm is based on two independent heuristics described in the above paper. The parameter `k` expresses the number of nodes with the highest centrality scores that have to be found by the algorithm. If `first_heu` is true,  the neighborhood-based lower bound is computed and nodes are sorted according to it. If false, nodes are simply sorted by degree. If `sec_heu` is true, the BFSbound is re-computed at each iteration. If false, BFScut is used.\n",
    "\n"
   ]
  },
  {
   "cell_type": "code",
   "execution_count": 27,
   "metadata": {
    "execution": {
     "iopub.execute_input": "2025-10-28T11:21:05.219694Z",
     "iopub.status.busy": "2025-10-28T11:21:05.219518Z",
     "iopub.status.idle": "2025-10-28T11:21:05.224687Z",
     "shell.execute_reply": "2025-10-28T11:21:05.223901Z"
    },
    "scrolled": true
   },
   "outputs": [],
   "source": [
    "# Read a graph\n",
    "G = nk.readGraph(\"../input/foodweb-baydry.konect\", nk.Format.KONECT)"
   ]
  },
  {
   "cell_type": "code",
   "execution_count": 28,
   "metadata": {
    "execution": {
     "iopub.execute_input": "2025-10-28T11:21:05.226438Z",
     "iopub.status.busy": "2025-10-28T11:21:05.226252Z",
     "iopub.status.idle": "2025-10-28T11:21:05.237777Z",
     "shell.execute_reply": "2025-10-28T11:21:05.237011Z"
    },
    "scrolled": true
   },
   "outputs": [
    {
     "data": {
      "text/plain": [
       "<networkit.centrality.TopCloseness at 0x7f3b67116590>"
      ]
     },
     "execution_count": 28,
     "metadata": {},
     "output_type": "execute_result"
    }
   ],
   "source": [
    "# Initialize algorithm\n",
    "topClose = nk.centrality.TopCloseness(G, 10, first_heu=True)\n",
    "topClose.run()"
   ]
  },
  {
   "cell_type": "code",
   "execution_count": 29,
   "metadata": {
    "execution": {
     "iopub.execute_input": "2025-10-28T11:21:05.239771Z",
     "iopub.status.busy": "2025-10-28T11:21:05.239582Z",
     "iopub.status.idle": "2025-10-28T11:21:05.243593Z",
     "shell.execute_reply": "2025-10-28T11:21:05.242796Z"
    },
    "scrolled": true
   },
   "outputs": [
    {
     "data": {
      "text/plain": [
       "[84, 83, 14, 20, 71, 87, 2, 80, 72, 81]"
      ]
     },
     "execution_count": 29,
     "metadata": {},
     "output_type": "execute_result"
    }
   ],
   "source": [
    "# k most central nodes according to closeness are\n",
    "topClose.topkNodesList()"
   ]
  },
  {
   "cell_type": "markdown",
   "metadata": {},
   "source": [
    "## Degree Centrality\n",
    "\n",
    "Degree is a centrality measure that counts how many neighbors a node has."
   ]
  },
  {
   "cell_type": "markdown",
   "metadata": {},
   "source": [
    "### Degree Centrality"
   ]
  },
  {
   "cell_type": "markdown",
   "metadata": {},
   "source": [
    "Degree centrality is a centrality measure that counts how many neighbors a node has. Degree centrality can be computed in NetworKit using the [DegreeCentrality(G, normalized=False, outDeg=True, ignoreSelfLoops=True)](https://networkit.github.io/dev-docs/python_api/centrality.html?highlight=degreecentrality#networkit.centrality.DegreeCentrality) class. It expects a [networkit.Graph](https://networkit.github.io/dev-docs/python_api/graph.html?highlight=graph#module-networkit.graph). Set `normalized` to True if the centrality scored should be normalized to values between 0 and 1. If the network is directed, we have two versions of the measure: in-degree is the number of incoming links; out-degree is the number of outgoing links. By default, the out-degree is used. \n",
    "\n",
    "For an undirected graph, using the default parameters, the degree centrality can be computed as follows:"
   ]
  },
  {
   "cell_type": "code",
   "execution_count": 30,
   "metadata": {
    "execution": {
     "iopub.execute_input": "2025-10-28T11:21:05.245352Z",
     "iopub.status.busy": "2025-10-28T11:21:05.245156Z",
     "iopub.status.idle": "2025-10-28T11:21:05.321853Z",
     "shell.execute_reply": "2025-10-28T11:21:05.321064Z"
    },
    "scrolled": true
   },
   "outputs": [],
   "source": [
    "# Read graph \n",
    "G = nk.readGraph(\"../input/wiki-Vote.txt\", nk.Format.SNAP)"
   ]
  },
  {
   "cell_type": "code",
   "execution_count": 31,
   "metadata": {
    "execution": {
     "iopub.execute_input": "2025-10-28T11:21:05.324113Z",
     "iopub.status.busy": "2025-10-28T11:21:05.323861Z",
     "iopub.status.idle": "2025-10-28T11:21:05.328505Z",
     "shell.execute_reply": "2025-10-28T11:21:05.327693Z"
    },
    "scrolled": true
   },
   "outputs": [
    {
     "data": {
      "text/plain": [
       "<networkit.centrality.DegreeCentrality at 0x7f3b67116200>"
      ]
     },
     "execution_count": 31,
     "metadata": {},
     "output_type": "execute_result"
    }
   ],
   "source": [
    "# Initialize algorithm\n",
    "deg = nk.centrality.DegreeCentrality(G)\n",
    "deg.run()"
   ]
  },
  {
   "cell_type": "code",
   "execution_count": 32,
   "metadata": {
    "execution": {
     "iopub.execute_input": "2025-10-28T11:21:05.330358Z",
     "iopub.status.busy": "2025-10-28T11:21:05.330171Z",
     "iopub.status.idle": "2025-10-28T11:21:05.337248Z",
     "shell.execute_reply": "2025-10-28T11:21:05.336538Z"
    },
    "scrolled": true
   },
   "outputs": [
    {
     "data": {
      "text/plain": [
       "[(699, 1065.0),\n",
       " (2374, 773.0),\n",
       " (408, 743.0),\n",
       " (286, 740.0),\n",
       " (2013, 732.0),\n",
       " (1052, 688.0),\n",
       " (3714, 618.0),\n",
       " (517, 533.0),\n",
       " (483, 517.0),\n",
       " (1221, 495.0)]"
      ]
     },
     "execution_count": 32,
     "metadata": {},
     "output_type": "execute_result"
    }
   ],
   "source": [
    "# 10 most central nodes according to degree centrality are\n",
    "deg.ranking()[:10]"
   ]
  },
  {
   "cell_type": "markdown",
   "metadata": {},
   "source": [
    "## Eigenvector Centrality and PageRank"
   ]
  },
  {
   "cell_type": "markdown",
   "metadata": {},
   "source": [
    "Eigenvector centrality measures the influence of a node in a network by assinging relative scores to each node in a network."
   ]
  },
  {
   "cell_type": "markdown",
   "metadata": {},
   "source": [
    "### Eigenvector Centrality and PageRank"
   ]
  },
  {
   "cell_type": "markdown",
   "metadata": {},
   "source": [
    "Eigenvector centrality and its variant PageRank assign relative importance to nodes according to their connections, incorporating the idea that edges to high-scoring nodes contribute more. PageRank is a version of eigenvector centrality which introduces a damping factor, modeling a random web surfer which at some point stops following links and jumps to a random page. In PageRank theory, centrality is understood as the probability of such a web surfer to arrive on a certain page. Our implementation of both measures is based on parallel power iteration, a relatively simple eigensolver.\n",
    "\n",
    "We demonstrate it here on the small Karate club graph. "
   ]
  },
  {
   "cell_type": "code",
   "execution_count": 33,
   "metadata": {
    "execution": {
     "iopub.execute_input": "2025-10-28T11:21:05.339390Z",
     "iopub.status.busy": "2025-10-28T11:21:05.339200Z",
     "iopub.status.idle": "2025-10-28T11:21:05.342621Z",
     "shell.execute_reply": "2025-10-28T11:21:05.341733Z"
    },
    "scrolled": true
   },
   "outputs": [],
   "source": [
    "# Read graph \n",
    "K = nk.readGraph(\"../input/karate.graph\", nk.Format.METIS)"
   ]
  },
  {
   "cell_type": "code",
   "execution_count": 34,
   "metadata": {
    "execution": {
     "iopub.execute_input": "2025-10-28T11:21:05.344259Z",
     "iopub.status.busy": "2025-10-28T11:21:05.344083Z",
     "iopub.status.idle": "2025-10-28T11:21:05.348828Z",
     "shell.execute_reply": "2025-10-28T11:21:05.348033Z"
    },
    "scrolled": true
   },
   "outputs": [
    {
     "data": {
      "text/plain": [
       "[(33, 0.37335860763538437),\n",
       " (0, 0.35548796275763045),\n",
       " (2, 0.31719212126079693),\n",
       " (32, 0.30864169996172613),\n",
       " (1, 0.26595844854862444),\n",
       " (8, 0.2274061452435449),\n",
       " (13, 0.22647475684342064),\n",
       " (3, 0.2111796960531623),\n",
       " (31, 0.1910365857249303),\n",
       " (30, 0.1747599501690216)]"
      ]
     },
     "execution_count": 34,
     "metadata": {},
     "output_type": "execute_result"
    }
   ],
   "source": [
    "# Eigenvector centrality\n",
    "ec = nk.centrality.EigenvectorCentrality(K)\n",
    "ec.run()\n",
    "ec.ranking()[:10] # the 10 most central nodes"
   ]
  },
  {
   "cell_type": "code",
   "execution_count": 35,
   "metadata": {
    "execution": {
     "iopub.execute_input": "2025-10-28T11:21:05.350644Z",
     "iopub.status.busy": "2025-10-28T11:21:05.350469Z",
     "iopub.status.idle": "2025-10-28T11:21:05.355279Z",
     "shell.execute_reply": "2025-10-28T11:21:05.354537Z"
    },
    "scrolled": true
   },
   "outputs": [
    {
     "data": {
      "text/plain": [
       "[(33, 0.10091918107710363),\n",
       " (0, 0.09699728673391753),\n",
       " (32, 0.07169322502169574),\n",
       " (2, 0.05707850945632192),\n",
       " (1, 0.05287692444772233),\n",
       " (31, 0.03715808671239322),\n",
       " (3, 0.035859858105808544),\n",
       " (23, 0.031522514279355436),\n",
       " (8, 0.02976605594632442),\n",
       " (13, 0.029536456269206687)]"
      ]
     },
     "execution_count": 35,
     "metadata": {},
     "output_type": "execute_result"
    }
   ],
   "source": [
    "# PageRank\n",
    "pr = nk.centrality.PageRank(K, damp=0.85, tol=1e-9)\n",
    "pr.run()\n",
    "pr.ranking()[:10] # the 10 most central nodes"
   ]
  },
  {
   "cell_type": "markdown",
   "metadata": {},
   "source": [
    "By default, PageRank uses the L2 norm as convergence criterion. Alternatively, one can also use the L1 norm.\n",
    "Additionally, one can also set the maximum amount of iterations."
   ]
  },
  {
   "cell_type": "code",
   "execution_count": 36,
   "metadata": {
    "execution": {
     "iopub.execute_input": "2025-10-28T11:21:05.357349Z",
     "iopub.status.busy": "2025-10-28T11:21:05.357174Z",
     "iopub.status.idle": "2025-10-28T11:21:05.362469Z",
     "shell.execute_reply": "2025-10-28T11:21:05.361559Z"
    }
   },
   "outputs": [
    {
     "data": {
      "text/plain": [
       "[(33, 0.10091918205705729),\n",
       " (0, 0.09699728568137082),\n",
       " (32, 0.07169322578984548),\n",
       " (2, 0.057078509481399156),\n",
       " (1, 0.05287692414515951),\n",
       " (31, 0.03715808699163245),\n",
       " (3, 0.03585985785613518),\n",
       " (23, 0.03152251466832272),\n",
       " (8, 0.029766056051855488),\n",
       " (13, 0.029536456177810026)]"
      ]
     },
     "execution_count": 36,
     "metadata": {},
     "output_type": "execute_result"
    }
   ],
   "source": [
    "# PageRank using L1 norm, and a 100 maximum iterations\n",
    "pr = nk.centrality.PageRank(K, damp=0.85, tol=1e-9)\n",
    "pr.norm = nk.centrality.Norm.L1_NORM\n",
    "pr.maxIterations = 100\n",
    "pr.run()\n",
    "pr.ranking()[:10] # the 10 most central nodes"
   ]
  },
  {
   "cell_type": "markdown",
   "metadata": {},
   "source": [
    "### Katz Centrality"
   ]
  },
  {
   "cell_type": "markdown",
   "metadata": {},
   "source": [
    "Katz centrality computes the relative influence of a node within a network by measuring the number of the immediate neighbors, and also all other nodes in the network that connect to the node through these immediate neighbors. Connections made with distant neighbors are, however, penalized by an attenuation factor $\\alpha$. Each path or connection between a pair of nodes is assigned a weight determined by $\\alpha$ and the distance between nodes as $\\alpha ^d$.\n",
    "\n",
    "The [KatzCentrality(G, alpha=5e-4, beta=0.1, tol=1e-8)](https://networkit.github.io/dev-docs/python_api/centrality.html?highlight=katz#networkit.centrality.KatzCentrality) constructor expects a [networkit.Graph](https://networkit.github.io/dev-docs/python_api/graph.html?highlight=graph#module-networkit.graph) as a mandatory parameter. The parameter `alpha` is the damping of the matrix vector result, while `beta` is a constant value added to the centrality of each vertex. The parameter `tol` dictates the tolerance for convergence. Computing the Katz centrality in NetworKit can be like below.  "
   ]
  },
  {
   "cell_type": "code",
   "execution_count": 37,
   "metadata": {
    "execution": {
     "iopub.execute_input": "2025-10-28T11:21:05.364346Z",
     "iopub.status.busy": "2025-10-28T11:21:05.364157Z",
     "iopub.status.idle": "2025-10-28T11:21:05.367470Z",
     "shell.execute_reply": "2025-10-28T11:21:05.366700Z"
    },
    "scrolled": true
   },
   "outputs": [],
   "source": [
    "G = nk.readGraph(\"../input/karate.graph\", nk.Format.METIS)"
   ]
  },
  {
   "cell_type": "code",
   "execution_count": 38,
   "metadata": {
    "execution": {
     "iopub.execute_input": "2025-10-28T11:21:05.369260Z",
     "iopub.status.busy": "2025-10-28T11:21:05.369086Z",
     "iopub.status.idle": "2025-10-28T11:21:05.373518Z",
     "shell.execute_reply": "2025-10-28T11:21:05.372730Z"
    },
    "scrolled": true
   },
   "outputs": [
    {
     "data": {
      "text/plain": [
       "<networkit.centrality.KatzCentrality at 0x7f3b67116d70>"
      ]
     },
     "execution_count": 38,
     "metadata": {},
     "output_type": "execute_result"
    }
   ],
   "source": [
    "# Initialize algorithm\n",
    "katz = nk.centrality.KatzCentrality(G, 1e-3)\n",
    "katz.run()"
   ]
  },
  {
   "cell_type": "code",
   "execution_count": 39,
   "metadata": {
    "execution": {
     "iopub.execute_input": "2025-10-28T11:21:05.375597Z",
     "iopub.status.busy": "2025-10-28T11:21:05.375407Z",
     "iopub.status.idle": "2025-10-28T11:21:05.379619Z",
     "shell.execute_reply": "2025-10-28T11:21:05.378734Z"
    },
    "scrolled": true
   },
   "outputs": [
    {
     "data": {
      "text/plain": [
       "[(33, 0.19367744613991514),\n",
       " (0, 0.1918907986471833),\n",
       " (32, 0.18470136309691013),\n",
       " (2, 0.18112282552442752),\n",
       " (1, 0.1793038647977577),\n",
       " (31, 0.17392597722904418),\n",
       " (3, 0.17391172244381983),\n",
       " (8, 0.1721413052741721),\n",
       " (13, 0.1721395007428994),\n",
       " (23, 0.17210705607838117)]"
      ]
     },
     "execution_count": 39,
     "metadata": {},
     "output_type": "execute_result"
    }
   ],
   "source": [
    "# 10 most central nodes\n",
    "katz.ranking()[:10]"
   ]
  },
  {
   "cell_type": "markdown",
   "metadata": {},
   "source": [
    "## Others"
   ]
  },
  {
   "cell_type": "markdown",
   "metadata": {},
   "source": [
    "### Spanning Edge Centrality"
   ]
  },
  {
   "cell_type": "markdown",
   "metadata": {},
   "source": [
    "The spanning centrality of an edge `e` in an undirected graph is the fraction of the spanning trees of the graph that contain the edge `e`. The [SpanningEdgeCentrality(const Graph& G, double tol = 0.1)](https://networkit.github.io/dev-docs/python_api/centrality.html?highlight=spanning#networkit.centrality.SpanningEdgeCentrality) constructor expects a [networkit.Graph](https://networkit.github.io/dev-docs/python_api/graph.html?highlight=graph#module-networkit.graph) as a mandatory parameter. The `tol` parameter determines the tolerance used for approximation: with probability at least 1-1/n, the approximated scores are within a factor 1+`tol` from the exact scores. \n",
    "\n",
    "Computing the SpanningEdge Centrality in NetworKit is then demonstrated below."
   ]
  },
  {
   "cell_type": "code",
   "execution_count": 40,
   "metadata": {
    "execution": {
     "iopub.execute_input": "2025-10-28T11:21:05.381445Z",
     "iopub.status.busy": "2025-10-28T11:21:05.381258Z",
     "iopub.status.idle": "2025-10-28T11:21:05.384543Z",
     "shell.execute_reply": "2025-10-28T11:21:05.383760Z"
    },
    "scrolled": true
   },
   "outputs": [],
   "source": [
    "# Read graph \n",
    "G = nk.readGraph(\"../input/karate.graph\", nk.Format.METIS)"
   ]
  },
  {
   "cell_type": "code",
   "execution_count": 41,
   "metadata": {
    "execution": {
     "iopub.execute_input": "2025-10-28T11:21:05.386288Z",
     "iopub.status.busy": "2025-10-28T11:21:05.386103Z",
     "iopub.status.idle": "2025-10-28T11:21:05.438930Z",
     "shell.execute_reply": "2025-10-28T11:21:05.438023Z"
    },
    "scrolled": true
   },
   "outputs": [
    {
     "data": {
      "text/plain": [
       "<networkit.centrality.SpanningEdgeCentrality at 0x7f3b671171c0>"
      ]
     },
     "execution_count": 41,
     "metadata": {},
     "output_type": "execute_result"
    }
   ],
   "source": [
    "# Initialize algorithm\n",
    "G.indexEdges()\n",
    "span = nk.centrality.SpanningEdgeCentrality(G, 1e-6)\n",
    "span.run()"
   ]
  },
  {
   "cell_type": "markdown",
   "metadata": {},
   "source": [
    "Using the [scores()](https://networkit.github.io/dev-docs/python_api/centrality.html?highlight=scores#networkit.centrality.SpanningEdgeCentrality.scores) method we can get a vector containing the SEC score for each edge in the graph."
   ]
  },
  {
   "cell_type": "code",
   "execution_count": 42,
   "metadata": {
    "execution": {
     "iopub.execute_input": "2025-10-28T11:21:05.441180Z",
     "iopub.status.busy": "2025-10-28T11:21:05.440997Z",
     "iopub.status.idle": "2025-10-28T11:21:05.445162Z",
     "shell.execute_reply": "2025-10-28T11:21:05.444265Z"
    },
    "scrolled": true
   },
   "outputs": [
    {
     "data": {
      "text/plain": [
       "[0.19306324991625834,\n",
       " 0.20762324500950174,\n",
       " 0.2315296370329742,\n",
       " 0.25009766179369525,\n",
       " 0.277246201614483,\n",
       " 0.28002802664810306,\n",
       " 0.46491028639734855,\n",
       " 0.43859344555259383,\n",
       " 0.4385942727910844,\n",
       " 0.5175438525005359]"
      ]
     },
     "execution_count": 42,
     "metadata": {},
     "output_type": "execute_result"
    }
   ],
   "source": [
    "span.scores()[:10]"
   ]
  },
  {
   "cell_type": "markdown",
   "metadata": {},
   "source": [
    "### Approximate Spanning Edge Centrality"
   ]
  },
  {
   "cell_type": "markdown",
   "metadata": {},
   "source": [
    "An algorithm from [Hayashi et al.](https://www.ijcai.org/Proceedings/16/Papers/525.pdf) based on sampling of spanning trees uniformly at random approximates the spanning edge centrality of each edge of a graph up to a maximum absolute error. `ApproxSpanningEdge(G, eps=0.1)` expects as input an undirected graph, and the maximum absolute error `eps`. The algorithm requires the edges of the graph to be indexed."
   ]
  },
  {
   "cell_type": "code",
   "execution_count": 43,
   "metadata": {
    "execution": {
     "iopub.execute_input": "2025-10-28T11:21:05.447095Z",
     "iopub.status.busy": "2025-10-28T11:21:05.446902Z",
     "iopub.status.idle": "2025-10-28T11:21:05.524107Z",
     "shell.execute_reply": "2025-10-28T11:21:05.523193Z"
    },
    "jupyter": {
     "outputs_hidden": true
    }
   },
   "outputs": [],
   "source": [
    "# Read a graph\n",
    "G = nk.graphtools.toUndirected(nk.readGraph(\"../input/foodweb-baydry.konect\", nk.Format.KONECT))\n",
    "G.indexEdges()\n",
    "apx_span = nk.centrality.ApproxSpanningEdge(G, 0.05)\n",
    "_=apx_span.run()"
   ]
  },
  {
   "cell_type": "code",
   "execution_count": 44,
   "metadata": {
    "execution": {
     "iopub.execute_input": "2025-10-28T11:21:05.526652Z",
     "iopub.status.busy": "2025-10-28T11:21:05.526471Z",
     "iopub.status.idle": "2025-10-28T11:21:05.530751Z",
     "shell.execute_reply": "2025-10-28T11:21:05.529944Z"
    },
    "jupyter": {
     "outputs_hidden": true
    }
   },
   "outputs": [
    {
     "data": {
      "text/plain": [
       "[0.11566173682214638,\n",
       " 0.11831626848691695,\n",
       " 0.14637846037163443,\n",
       " 0.13083048919226395,\n",
       " 0.11983314372392871,\n",
       " 0.1372772089495639,\n",
       " 0.10921501706484642,\n",
       " 0.11073189230185818,\n",
       " 0.1236253318164581,\n",
       " 0.12741751990898748]"
      ]
     },
     "execution_count": 44,
     "metadata": {},
     "output_type": "execute_result"
    }
   ],
   "source": [
    "apx_span.scores()[:10]"
   ]
  },
  {
   "cell_type": "markdown",
   "metadata": {},
   "source": [
    "### Local ClusteringCoefficient"
   ]
  },
  {
   "cell_type": "markdown",
   "metadata": {},
   "source": [
    "The local clustering coefficient of a vertex in a graph quantifies how close its neighbours are to being a clique (complete graph).\n",
    "\n",
    "The [LocalClusteringCoefficient(G, turbo=False)](https://networkit.github.io/dev-docs/python_api/centrality.html?highlight=coeff#networkit.centrality.LocalClusteringCoefficient) constructor expects a [networkit.Graph](https://networkit.github.io/dev-docs/python_api/graph.html?highlight=graph#module-networkit.graph) and a Boolean parameter `turbo` which is by default initialized to false. `turbo` activates a (sequential, but fast) pre-processing step using ideas from [this paper](https://dl.acm.org/citation.cfm?id=2790175). This reduces the running time significantly for most graphs. However, the turbo mode needs O(m) additional memory. The turbo mode is particularly effective for graphs with nodes of very high degree and a very skewed degree distribution.\n",
    "\n",
    "We demonstrate the use using the same graph as before, "
   ]
  },
  {
   "cell_type": "code",
   "execution_count": 45,
   "metadata": {
    "execution": {
     "iopub.execute_input": "2025-10-28T11:21:05.532902Z",
     "iopub.status.busy": "2025-10-28T11:21:05.532711Z",
     "iopub.status.idle": "2025-10-28T11:21:05.536318Z",
     "shell.execute_reply": "2025-10-28T11:21:05.535266Z"
    },
    "scrolled": true
   },
   "outputs": [],
   "source": [
    "# Read graph \n",
    "G = nk.readGraph(\"../input/karate.graph\", nk.Format.METIS)"
   ]
  },
  {
   "cell_type": "code",
   "execution_count": 46,
   "metadata": {
    "execution": {
     "iopub.execute_input": "2025-10-28T11:21:05.537965Z",
     "iopub.status.busy": "2025-10-28T11:21:05.537764Z",
     "iopub.status.idle": "2025-10-28T11:21:05.541986Z",
     "shell.execute_reply": "2025-10-28T11:21:05.541207Z"
    },
    "scrolled": true
   },
   "outputs": [
    {
     "data": {
      "text/plain": [
       "<networkit.centrality.LocalClusteringCoefficient at 0x7f3b67117550>"
      ]
     },
     "execution_count": 46,
     "metadata": {},
     "output_type": "execute_result"
    }
   ],
   "source": [
    "# Initialize algorithm\n",
    "lcc = nk.centrality.LocalClusteringCoefficient(G)\n",
    "lcc.run()"
   ]
  },
  {
   "cell_type": "code",
   "execution_count": 47,
   "metadata": {
    "execution": {
     "iopub.execute_input": "2025-10-28T11:21:05.543983Z",
     "iopub.status.busy": "2025-10-28T11:21:05.543763Z",
     "iopub.status.idle": "2025-10-28T11:21:05.548083Z",
     "shell.execute_reply": "2025-10-28T11:21:05.547326Z"
    },
    "scrolled": true
   },
   "outputs": [
    {
     "data": {
      "text/plain": [
       "[(7, 1.0),\n",
       " (12, 1.0),\n",
       " (14, 1.0),\n",
       " (15, 1.0),\n",
       " (16, 1.0),\n",
       " (17, 1.0),\n",
       " (18, 1.0),\n",
       " (20, 1.0),\n",
       " (21, 1.0),\n",
       " (22, 1.0)]"
      ]
     },
     "execution_count": 47,
     "metadata": {},
     "output_type": "execute_result"
    }
   ],
   "source": [
    "lcc.ranking()[:10]"
   ]
  }
 ],
 "metadata": {
  "kernelspec": {
   "display_name": "Python 3",
   "language": "python",
   "name": "python3"
  },
  "language_info": {
   "codemirror_mode": {
    "name": "ipython",
    "version": 3
   },
   "file_extension": ".py",
   "mimetype": "text/x-python",
   "name": "python",
   "nbconvert_exporter": "python",
   "pygments_lexer": "ipython3",
   "version": "3.13.9"
  }
 },
 "nbformat": 4,
 "nbformat_minor": 2
}
