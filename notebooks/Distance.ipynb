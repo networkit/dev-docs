{
 "cells": [
  {
   "cell_type": "markdown",
   "metadata": {},
   "source": [
    "# NetworKit Distance Tutorial"
   ]
  },
  {
   "cell_type": "markdown",
   "metadata": {},
   "source": [
    "NetworKit provides several graph traversal and pathfinding algorithms within the `distance` module. This notebook covers most of these algorithms, and shows how to use them."
   ]
  },
  {
   "cell_type": "code",
   "execution_count": 1,
   "metadata": {
    "execution": {
     "iopub.execute_input": "2025-10-28T11:21:18.853365Z",
     "iopub.status.busy": "2025-10-28T11:21:18.853166Z",
     "iopub.status.idle": "2025-10-28T11:21:20.203555Z",
     "shell.execute_reply": "2025-10-28T11:21:20.202683Z"
    }
   },
   "outputs": [
    {
     "data": {
      "text/html": [
       "\n",
       "\t\t\t<script type=\"text/javascript\">\n",
       "\t\t\t<!--\n",
       "\t\t\t\t\n",
       "\t\t\t{\n",
       "\t\t\t\tvar element = document.getElementById('NetworKit_script');\n",
       "\t\t\t\tif (element) {\n",
       "\t\t\t\t\telement.parentNode.removeChild(element);\n",
       "\t\t\t\t}\n",
       "\t\t\t\telement = document.createElement('script');\n",
       "\t\t\t\telement.type = 'text/javascript';\n",
       "\t\t\t\telement.innerHTML = 'function NetworKit_pageEmbed(id) { var i, j; var elements; elements = document.getElementById(id).getElementsByClassName(\"Plot\"); for (i=0; i<elements.length; i++) { elements[i].id = id + \"_Plot_\" + i; var data = elements[i].getAttribute(\"data-image\").split(\"|\"); elements[i].removeAttribute(\"data-image\"); var content = \"<div class=\\\\\"Image\\\\\" id=\\\\\"\" + elements[i].id + \"_Image\\\\\" />\"; elements[i].innerHTML = content; elements[i].setAttribute(\"data-image-index\", 0); elements[i].setAttribute(\"data-image-length\", data.length); for (j=0; j<data.length; j++) { elements[i].setAttribute(\"data-image-\" + j, data[j]); } NetworKit_plotUpdate(elements[i]); elements[i].onclick = function (e) { NetworKit_overlayShow((e.target) ? e.target : e.srcElement); } } elements = document.getElementById(id).getElementsByClassName(\"HeatCell\"); for (i=0; i<elements.length; i++) { var data = parseFloat(elements[i].getAttribute(\"data-heat\")); var color = \"#00FF00\"; if (data <= 1 && data > 0) { color = \"hsla(0, 100%, 75%, \" + (data) + \")\"; } else if (data <= 0 && data >= -1) { color = \"hsla(240, 100%, 75%, \" + (-data) + \")\"; } elements[i].style.backgroundColor = color; } elements = document.getElementById(id).getElementsByClassName(\"Details\"); for (i=0; i<elements.length; i++) { elements[i].setAttribute(\"data-title\", \"-\"); NetworKit_toggleDetails(elements[i]); elements[i].onclick = function (e) { NetworKit_toggleDetails((e.target) ? e.target : e.srcElement); } } elements = document.getElementById(id).getElementsByClassName(\"MathValue\"); for (i=elements.length-1; i>=0; i--) { value = elements[i].innerHTML.trim(); if (value === \"nan\") { elements[i].parentNode.innerHTML = \"\" } } elements = document.getElementById(id).getElementsByClassName(\"SubCategory\"); for (i=elements.length-1; i>=0; i--) { value = elements[i].innerHTML.trim(); if (value === \"\") { elements[i].parentNode.removeChild(elements[i]) } } elements = document.getElementById(id).getElementsByClassName(\"Category\"); for (i=elements.length-1; i>=0; i--) { value = elements[i].innerHTML.trim(); if (value === \"\") { elements[i].parentNode.removeChild(elements[i]) } } var isFirefox = false; try { isFirefox = typeof InstallTrigger !== \"undefined\"; } catch (e) {} if (!isFirefox) { alert(\"Currently the function\\'s output is only fully supported by Firefox.\"); } } function NetworKit_plotUpdate(source) { var index = source.getAttribute(\"data-image-index\"); var data = source.getAttribute(\"data-image-\" + index); var image = document.getElementById(source.id + \"_Image\"); image.style.backgroundImage = \"url(\" + data + \")\"; } function NetworKit_showElement(id, show) { var element = document.getElementById(id); element.style.display = (show) ? \"block\" : \"none\"; } function NetworKit_overlayShow(source) { NetworKit_overlayUpdate(source); NetworKit_showElement(\"NetworKit_Overlay\", true); } function NetworKit_overlayUpdate(source) { document.getElementById(\"NetworKit_Overlay_Title\").innerHTML = source.title; var index = source.getAttribute(\"data-image-index\"); var data = source.getAttribute(\"data-image-\" + index); var image = document.getElementById(\"NetworKit_Overlay_Image\"); image.setAttribute(\"data-id\", source.id); image.style.backgroundImage = \"url(\" + data + \")\"; var link = document.getElementById(\"NetworKit_Overlay_Toolbar_Bottom_Save\"); link.href = data; link.download = source.title + \".svg\"; } function NetworKit_overlayImageShift(delta) { var image = document.getElementById(\"NetworKit_Overlay_Image\"); var source = document.getElementById(image.getAttribute(\"data-id\")); var index = parseInt(source.getAttribute(\"data-image-index\")); var length = parseInt(source.getAttribute(\"data-image-length\")); var index = (index+delta) % length; if (index < 0) { index = length + index; } source.setAttribute(\"data-image-index\", index); NetworKit_overlayUpdate(source); } function NetworKit_toggleDetails(source) { var childs = source.children; var show = false; if (source.getAttribute(\"data-title\") == \"-\") { source.setAttribute(\"data-title\", \"+\"); show = false; } else { source.setAttribute(\"data-title\", \"-\"); show = true; } for (i=0; i<childs.length; i++) { if (show) { childs[i].style.display = \"block\"; } else { childs[i].style.display = \"none\"; } } }';\n",
       "\t\t\t\telement.setAttribute('id', 'NetworKit_script');\n",
       "\t\t\t\tdocument.head.appendChild(element);\n",
       "\t\t\t}\n",
       "\t\t\n",
       "\t\t\t\t\n",
       "\t\t\t{\n",
       "\t\t\t\tvar element = document.getElementById('NetworKit_style');\n",
       "\t\t\t\tif (element) {\n",
       "\t\t\t\t\telement.parentNode.removeChild(element);\n",
       "\t\t\t\t}\n",
       "\t\t\t\telement = document.createElement('style');\n",
       "\t\t\t\telement.type = 'text/css';\n",
       "\t\t\t\telement.innerHTML = '.NetworKit_Page { font-family: Arial, Helvetica, sans-serif; font-size: 14px; } .NetworKit_Page .Value:before { font-family: Arial, Helvetica, sans-serif; font-size: 1.05em; content: attr(data-title) \":\"; margin-left: -2.5em; padding-right: 0.5em; } .NetworKit_Page .Details .Value:before { display: block; } .NetworKit_Page .Value { font-family: monospace; white-space: pre; padding-left: 2.5em; white-space: -moz-pre-wrap !important; white-space: -pre-wrap; white-space: -o-pre-wrap; white-space: pre-wrap; word-wrap: break-word; tab-size: 4; -moz-tab-size: 4; } .NetworKit_Page .Category { clear: both; padding-left: 1em; margin-bottom: 1.5em; } .NetworKit_Page .Category:before { content: attr(data-title); font-size: 1.75em; display: block; margin-left: -0.8em; margin-bottom: 0.5em; } .NetworKit_Page .SubCategory { margin-bottom: 1.5em; padding-left: 1em; } .NetworKit_Page .SubCategory:before { font-size: 1.6em; display: block; margin-left: -0.8em; margin-bottom: 0.5em; } .NetworKit_Page .SubCategory[data-title]:before { content: attr(data-title); } .NetworKit_Page .Block { display: block; } .NetworKit_Page .Block:after { content: \".\"; visibility: hidden; display: block; height: 0; clear: both; } .NetworKit_Page .Block .Thumbnail_Overview, .NetworKit_Page .Block .Thumbnail_ScatterPlot { width: 260px; float: left; } .NetworKit_Page .Block .Thumbnail_Overview img, .NetworKit_Page .Block .Thumbnail_ScatterPlot img { width: 260px; } .NetworKit_Page .Block .Thumbnail_Overview:before, .NetworKit_Page .Block .Thumbnail_ScatterPlot:before { display: block; text-align: center; font-weight: bold; } .NetworKit_Page .Block .Thumbnail_Overview:before { content: attr(data-title); } .NetworKit_Page .HeatCell { font-family: \"Courier New\", Courier, monospace; cursor: pointer; } .NetworKit_Page .HeatCell, .NetworKit_Page .HeatCellName { display: inline; padding: 0.1em; margin-right: 2px; background-color: #FFFFFF } .NetworKit_Page .HeatCellName { margin-left: 0.25em; } .NetworKit_Page .HeatCell:before { content: attr(data-heat); display: inline-block; color: #000000; width: 4em; text-align: center; } .NetworKit_Page .Measure { clear: both; } .NetworKit_Page .Measure .Details { cursor: pointer; } .NetworKit_Page .Measure .Details:before { content: \"[\" attr(data-title) \"]\"; display: block; } .NetworKit_Page .Measure .Details .Value { border-left: 1px dotted black; margin-left: 0.4em; padding-left: 3.5em; pointer-events: none; } .NetworKit_Page .Measure .Details .Spacer:before { content: \".\"; opacity: 0.0; pointer-events: none; } .NetworKit_Page .Measure .Plot { width: 440px; height: 440px; cursor: pointer; float: left; margin-left: -0.9em; margin-right: 20px; } .NetworKit_Page .Measure .Plot .Image { background-repeat: no-repeat; background-position: center center; background-size: contain; height: 100%; pointer-events: none; } .NetworKit_Page .Measure .Stat { width: 500px; float: left; } .NetworKit_Page .Measure .Stat .Group { padding-left: 1.25em; margin-bottom: 0.75em; } .NetworKit_Page .Measure .Stat .Group .Title { font-size: 1.1em; display: block; margin-bottom: 0.3em; margin-left: -0.75em; border-right-style: dotted; border-right-width: 1px; border-bottom-style: dotted; border-bottom-width: 1px; background-color: #D0D0D0; padding-left: 0.2em; } .NetworKit_Page .Measure .Stat .Group .List { -webkit-column-count: 3; -moz-column-count: 3; column-count: 3; } .NetworKit_Page .Measure .Stat .Group .List .Entry { position: relative; line-height: 1.75em; } .NetworKit_Page .Measure .Stat .Group .List .Entry[data-tooltip]:before { position: absolute; left: 0; top: -40px; background-color: #808080; color: #ffffff; height: 30px; line-height: 30px; border-radius: 5px; padding: 0 15px; content: attr(data-tooltip); white-space: nowrap; display: none; } .NetworKit_Page .Measure .Stat .Group .List .Entry[data-tooltip]:after { position: absolute; left: 15px; top: -10px; border-top: 7px solid #808080; border-left: 7px solid transparent; border-right: 7px solid transparent; content: \"\"; display: none; } .NetworKit_Page .Measure .Stat .Group .List .Entry[data-tooltip]:hover:after, .NetworKit_Page .Measure .Stat .Group .List .Entry[data-tooltip]:hover:before { display: block; } .NetworKit_Page .Measure .Stat .Group .List .Entry .MathValue { font-family: \"Courier New\", Courier, monospace; } .NetworKit_Page .Measure:after { content: \".\"; visibility: hidden; display: block; height: 0; clear: both; } .NetworKit_Page .PartitionPie { clear: both; } .NetworKit_Page .PartitionPie img { width: 600px; } #NetworKit_Overlay { left: 0px; top: 0px; display: none; position: absolute; width: 100%; height: 100%; background-color: rgba(0,0,0,0.6); z-index: 1000; } #NetworKit_Overlay_Title { position: absolute; color: white; transform: rotate(-90deg); width: 32em; height: 32em; padding-right: 0.5em; padding-top: 0.5em; text-align: right; font-size: 40px; } #NetworKit_Overlay .button { background: white; cursor: pointer; } #NetworKit_Overlay .button:before { size: 13px; display: inline-block; text-align: center; margin-top: 0.5em; margin-bottom: 0.5em; width: 1.5em; height: 1.5em; } #NetworKit_Overlay .icon-close:before { content: \"X\"; } #NetworKit_Overlay .icon-previous:before { content: \"P\"; } #NetworKit_Overlay .icon-next:before { content: \"N\"; } #NetworKit_Overlay .icon-save:before { content: \"S\"; } #NetworKit_Overlay_Toolbar_Top, #NetworKit_Overlay_Toolbar_Bottom { position: absolute; width: 40px; right: 13px; text-align: right; z-index: 1100; } #NetworKit_Overlay_Toolbar_Top { top: 0.5em; } #NetworKit_Overlay_Toolbar_Bottom { Bottom: 0.5em; } #NetworKit_Overlay_ImageContainer { position: absolute; top: 5%; left: 5%; height: 90%; width: 90%; background-repeat: no-repeat; background-position: center center; background-size: contain; } #NetworKit_Overlay_Image { height: 100%; width: 100%; background-repeat: no-repeat; background-position: center center; background-size: contain; }';\n",
       "\t\t\t\telement.setAttribute('id', 'NetworKit_style');\n",
       "\t\t\t\tdocument.head.appendChild(element);\n",
       "\t\t\t}\n",
       "\t\t\n",
       "\t\t\t\t\n",
       "\t\t\t{\n",
       "\t\t\t\tvar element = document.getElementById('NetworKit_Overlay');\n",
       "\t\t\t\tif (element) {\n",
       "\t\t\t\t\telement.parentNode.removeChild(element);\n",
       "\t\t\t\t}\n",
       "\t\t\t\telement = document.createElement('div');\n",
       "\t\t\t\telement.innerHTML = '<div id=\"NetworKit_Overlay_Toolbar_Top\"><div class=\"button icon-close\" id=\"NetworKit_Overlay_Close\" /></div><div id=\"NetworKit_Overlay_Title\" /> <div id=\"NetworKit_Overlay_ImageContainer\"> <div id=\"NetworKit_Overlay_Image\" /> </div> <div id=\"NetworKit_Overlay_Toolbar_Bottom\"> <div class=\"button icon-previous\" onclick=\"NetworKit_overlayImageShift(-1)\" /> <div class=\"button icon-next\" onclick=\"NetworKit_overlayImageShift(1)\" /> <a id=\"NetworKit_Overlay_Toolbar_Bottom_Save\"><div class=\"button icon-save\" /></a> </div>';\n",
       "\t\t\t\telement.setAttribute('id', 'NetworKit_Overlay');\n",
       "\t\t\t\tdocument.body.appendChild(element);\n",
       "\t\t\t\tdocument.getElementById('NetworKit_Overlay_Close').onclick = function (e) {\n",
       "\t\t\t\t\tdocument.getElementById('NetworKit_Overlay').style.display = 'none';\n",
       "\t\t\t\t}\n",
       "\t\t\t}\n",
       "\t\t\n",
       "\t\t\t-->\n",
       "\t\t\t</script>\n",
       "\t\t"
      ]
     },
     "metadata": {},
     "output_type": "display_data"
    }
   ],
   "source": [
    "import networkit as nk"
   ]
  },
  {
   "cell_type": "markdown",
   "metadata": {},
   "source": [
    "For this tutorial we will use the same graph, and the same source and target node. We will indext the edges of the graph because some algorithms require the edges to be indexed."
   ]
  },
  {
   "cell_type": "code",
   "execution_count": 2,
   "metadata": {
    "execution": {
     "iopub.execute_input": "2025-10-28T11:21:20.205954Z",
     "iopub.status.busy": "2025-10-28T11:21:20.205558Z",
     "iopub.status.idle": "2025-10-28T11:21:20.211996Z",
     "shell.execute_reply": "2025-10-28T11:21:20.211210Z"
    }
   },
   "outputs": [],
   "source": [
    "# Read a graph\n",
    "G = nk.readGraph(\"../input/foodweb-baydry.konect\", nk.Format.KONECT)\n",
    "GDir = G\n",
    "G = nk.graphtools.toUndirected(G)\n",
    "source = 0\n",
    "target = 27\n",
    "G.indexEdges()"
   ]
  },
  {
   "cell_type": "markdown",
   "metadata": {},
   "source": [
    "## Algebraic Distance"
   ]
  },
  {
   "cell_type": "markdown",
   "metadata": {},
   "source": [
    "Algebraic distance assigns a distance value to pairs of nodes according to their structural closeness in the graph. Algebraic distances will become small within dense subgraphs.\n",
    "\n",
    "The [AlgebraicDistance(G, numberSystems=10, numberIterations=30, omega=0.5, norm=0, withEdgeScores=False)](https://networkit.github.io/dev-docs/python_api/distance.html?highlight=alg#networkit.distance.AlgebraicDistance) constructor expects a graph followed by the number of systems to use for algebraic iteration and the  number of iterations in each system. `omega` is the overrelaxation parameter while `norm` is the norm factor of the extended algebraic distance. Set `withEdgeScores` to true if the array of scores for edges {u,v} that equal ad(u,v) should be calculated."
   ]
  },
  {
   "cell_type": "code",
   "execution_count": 3,
   "metadata": {
    "execution": {
     "iopub.execute_input": "2025-10-28T11:21:20.214200Z",
     "iopub.status.busy": "2025-10-28T11:21:20.214023Z",
     "iopub.status.idle": "2025-10-28T11:21:20.216957Z",
     "shell.execute_reply": "2025-10-28T11:21:20.216187Z"
    }
   },
   "outputs": [],
   "source": [
    "# Initialize algorithm\n",
    "ad = nk.distance.AlgebraicDistance(G, 10, 100, 1, 1, True)"
   ]
  },
  {
   "cell_type": "code",
   "execution_count": 4,
   "metadata": {
    "execution": {
     "iopub.execute_input": "2025-10-28T11:21:20.219068Z",
     "iopub.status.busy": "2025-10-28T11:21:20.218788Z",
     "iopub.status.idle": "2025-10-28T11:21:20.246459Z",
     "shell.execute_reply": "2025-10-28T11:21:20.245680Z"
    }
   },
   "outputs": [
    {
     "data": {
      "text/plain": [
       "<networkit.distance.AlgebraicDistance at 0x7f992ecfc4f0>"
      ]
     },
     "execution_count": 4,
     "metadata": {},
     "output_type": "execute_result"
    }
   ],
   "source": [
    "# Run\n",
    "ad.preprocess()"
   ]
  },
  {
   "cell_type": "code",
   "execution_count": 5,
   "metadata": {
    "execution": {
     "iopub.execute_input": "2025-10-28T11:21:20.248461Z",
     "iopub.status.busy": "2025-10-28T11:21:20.248282Z",
     "iopub.status.idle": "2025-10-28T11:21:20.252194Z",
     "shell.execute_reply": "2025-10-28T11:21:20.251352Z"
    }
   },
   "outputs": [
    {
     "data": {
      "text/plain": [
       "4.799974409671728"
      ]
     },
     "execution_count": 5,
     "metadata": {},
     "output_type": "execute_result"
    }
   ],
   "source": [
    "# The algebraic distance between the source and target node\n",
    "ad.distance(source, target)"
   ]
  },
  {
   "cell_type": "markdown",
   "metadata": {},
   "source": [
    "## All-Pairs Shortest-Paths (APSP)"
   ]
  },
  {
   "cell_type": "markdown",
   "metadata": {},
   "source": [
    "The APSP algorithm computes all pairwise shortest-path distances in a given graph. It is implemented running Dijkstra’s algorithm from each node, or BFS if the graph is unweighted.\n",
    "\n",
    "The constructor [APSP(G)](https://networkit.github.io/dev-docs/python_api/distance.html?highlight=apsp#networkit.distance.APSP) expects a graph."
   ]
  },
  {
   "cell_type": "code",
   "execution_count": 6,
   "metadata": {
    "execution": {
     "iopub.execute_input": "2025-10-28T11:21:20.253866Z",
     "iopub.status.busy": "2025-10-28T11:21:20.253688Z",
     "iopub.status.idle": "2025-10-28T11:21:20.256548Z",
     "shell.execute_reply": "2025-10-28T11:21:20.255720Z"
    }
   },
   "outputs": [],
   "source": [
    "# Initialize algorithm\n",
    "apsp = nk.distance.APSP(G)"
   ]
  },
  {
   "cell_type": "code",
   "execution_count": 7,
   "metadata": {
    "execution": {
     "iopub.execute_input": "2025-10-28T11:21:20.258201Z",
     "iopub.status.busy": "2025-10-28T11:21:20.258022Z",
     "iopub.status.idle": "2025-10-28T11:21:20.278475Z",
     "shell.execute_reply": "2025-10-28T11:21:20.277644Z"
    }
   },
   "outputs": [
    {
     "data": {
      "text/plain": [
       "<networkit.distance.APSP at 0x7f996cd2bcd0>"
      ]
     },
     "execution_count": 7,
     "metadata": {},
     "output_type": "execute_result"
    }
   ],
   "source": [
    "# Run\n",
    "apsp.run()"
   ]
  },
  {
   "cell_type": "code",
   "execution_count": 8,
   "metadata": {
    "execution": {
     "iopub.execute_input": "2025-10-28T11:21:20.280637Z",
     "iopub.status.busy": "2025-10-28T11:21:20.280442Z",
     "iopub.status.idle": "2025-10-28T11:21:20.283823Z",
     "shell.execute_reply": "2025-10-28T11:21:20.282991Z"
    }
   },
   "outputs": [
    {
     "name": "stdout",
     "output_type": "stream",
     "text": [
      "0.0006647776978699999\n"
     ]
    }
   ],
   "source": [
    "# The distance from source to target node\n",
    "print(apsp.getDistance(source, target))"
   ]
  },
  {
   "cell_type": "markdown",
   "metadata": {},
   "source": [
    "## Pruned Landmark Labeling\n",
    "\n",
    "Pruned Landmark Labeling is an alternative to APSP. It computes distance labels by performing a *pruned* BFS from each node in the graph. Distance labels are then used to quickly compute shortest-path distances between node pairs. This algorithm only works for unweighted graphs."
   ]
  },
  {
   "cell_type": "code",
   "execution_count": 9,
   "metadata": {
    "execution": {
     "iopub.execute_input": "2025-10-28T11:21:20.285489Z",
     "iopub.status.busy": "2025-10-28T11:21:20.285311Z",
     "iopub.status.idle": "2025-10-28T11:21:20.288422Z",
     "shell.execute_reply": "2025-10-28T11:21:20.287451Z"
    }
   },
   "outputs": [],
   "source": [
    "# Initialize the algorithm - in case of weighted graphs, edge weights are ignored\n",
    "pll = nk.distance.PrunedLandmarkLabeling(G)"
   ]
  },
  {
   "cell_type": "code",
   "execution_count": 10,
   "metadata": {
    "execution": {
     "iopub.execute_input": "2025-10-28T11:21:20.290040Z",
     "iopub.status.busy": "2025-10-28T11:21:20.289841Z",
     "iopub.status.idle": "2025-10-28T11:21:20.307742Z",
     "shell.execute_reply": "2025-10-28T11:21:20.306992Z"
    }
   },
   "outputs": [
    {
     "data": {
      "text/plain": [
       "<networkit.distance.PrunedLandmarkLabeling at 0x7f992ecfcaf0>"
      ]
     },
     "execution_count": 10,
     "metadata": {},
     "output_type": "execute_result"
    }
   ],
   "source": [
    "# Run - this step computes the distance labels\n",
    "pll.run()"
   ]
  },
  {
   "cell_type": "code",
   "execution_count": 11,
   "metadata": {
    "execution": {
     "iopub.execute_input": "2025-10-28T11:21:20.309578Z",
     "iopub.status.busy": "2025-10-28T11:21:20.309398Z",
     "iopub.status.idle": "2025-10-28T11:21:20.312575Z",
     "shell.execute_reply": "2025-10-28T11:21:20.311596Z"
    }
   },
   "outputs": [
    {
     "name": "stdout",
     "output_type": "stream",
     "text": [
      "2\n"
     ]
    }
   ],
   "source": [
    "# Retrieve the shortest-path distance\n",
    "print(pll.query(source, target))"
   ]
  },
  {
   "cell_type": "markdown",
   "metadata": {},
   "source": [
    "## Dynamic Pruned Landmark Labeling\n",
    "\n",
    "Dynamic Pruned Landmark Labeling quickly updates distance labels after edge insertions."
   ]
  },
  {
   "cell_type": "code",
   "execution_count": 12,
   "metadata": {
    "execution": {
     "iopub.execute_input": "2025-10-28T11:21:20.314462Z",
     "iopub.status.busy": "2025-10-28T11:21:20.314123Z",
     "iopub.status.idle": "2025-10-28T11:21:20.317240Z",
     "shell.execute_reply": "2025-10-28T11:21:20.316515Z"
    }
   },
   "outputs": [],
   "source": [
    "# Initialize the algorithm\n",
    "dyn_pll = nk.distance.DynPrunedLandmarkLabeling(G)"
   ]
  },
  {
   "cell_type": "code",
   "execution_count": 13,
   "metadata": {
    "execution": {
     "iopub.execute_input": "2025-10-28T11:21:20.319190Z",
     "iopub.status.busy": "2025-10-28T11:21:20.319001Z",
     "iopub.status.idle": "2025-10-28T11:21:20.337069Z",
     "shell.execute_reply": "2025-10-28T11:21:20.336164Z"
    }
   },
   "outputs": [
    {
     "data": {
      "text/plain": [
       "<networkit.distance.DynPrunedLandmarkLabeling at 0x7f992ecfc850>"
      ]
     },
     "execution_count": 13,
     "metadata": {},
     "output_type": "execute_result"
    }
   ],
   "source": [
    "# Run - this step computes the distance labels\n",
    "dyn_pll.run()"
   ]
  },
  {
   "cell_type": "code",
   "execution_count": 14,
   "metadata": {
    "execution": {
     "iopub.execute_input": "2025-10-28T11:21:20.338751Z",
     "iopub.status.busy": "2025-10-28T11:21:20.338539Z",
     "iopub.status.idle": "2025-10-28T11:21:20.342362Z",
     "shell.execute_reply": "2025-10-28T11:21:20.341550Z"
    }
   },
   "outputs": [
    {
     "name": "stdout",
     "output_type": "stream",
     "text": [
      "Distance between 1 and 102 before edge insertion: 3\n"
     ]
    }
   ],
   "source": [
    "# Pick two nodes\n",
    "source, target = 1, 102\n",
    "print(f\"Distance between {source} and {target} before edge insertion: {pll.query(source, target)}\")"
   ]
  },
  {
   "cell_type": "code",
   "execution_count": 15,
   "metadata": {
    "execution": {
     "iopub.execute_input": "2025-10-28T11:21:20.344210Z",
     "iopub.status.busy": "2025-10-28T11:21:20.344038Z",
     "iopub.status.idle": "2025-10-28T11:21:20.348051Z",
     "shell.execute_reply": "2025-10-28T11:21:20.347238Z"
    }
   },
   "outputs": [
    {
     "data": {
      "text/plain": [
       "True"
      ]
     },
     "execution_count": 15,
     "metadata": {},
     "output_type": "execute_result"
    }
   ],
   "source": [
    "# Shorten distance between the two nodes\n",
    "G.addEdge(57, 102)"
   ]
  },
  {
   "cell_type": "code",
   "execution_count": 16,
   "metadata": {
    "execution": {
     "iopub.execute_input": "2025-10-28T11:21:20.349962Z",
     "iopub.status.busy": "2025-10-28T11:21:20.349747Z",
     "iopub.status.idle": "2025-10-28T11:21:20.354094Z",
     "shell.execute_reply": "2025-10-28T11:21:20.353358Z"
    }
   },
   "outputs": [
    {
     "data": {
      "text/plain": [
       "<networkit.distance.DynPrunedLandmarkLabeling at 0x7f992ecfc850>"
      ]
     },
     "execution_count": 16,
     "metadata": {},
     "output_type": "execute_result"
    }
   ],
   "source": [
    "# Update distance labels\n",
    "dyn_pll.update(nk.dynamics.GraphEvent(\n",
    "    nk.dynamics.GraphEventType.EDGE_ADDITION,\n",
    "    57,  # Source\n",
    "    102, # Target\n",
    "    1   # Weight\n",
    "))"
   ]
  },
  {
   "cell_type": "code",
   "execution_count": 17,
   "metadata": {
    "execution": {
     "iopub.execute_input": "2025-10-28T11:21:20.356158Z",
     "iopub.status.busy": "2025-10-28T11:21:20.355794Z",
     "iopub.status.idle": "2025-10-28T11:21:20.359582Z",
     "shell.execute_reply": "2025-10-28T11:21:20.358660Z"
    }
   },
   "outputs": [
    {
     "name": "stdout",
     "output_type": "stream",
     "text": [
      "Distance between 1 and 102 after edge insertion: 2\n"
     ]
    }
   ],
   "source": [
    "# New distance between the two nodes\n",
    "print(f\"Distance between {source} and {target} after edge insertion: {dyn_pll.query(source, target)}\")"
   ]
  },
  {
   "cell_type": "code",
   "execution_count": 18,
   "metadata": {
    "execution": {
     "iopub.execute_input": "2025-10-28T11:21:20.361310Z",
     "iopub.status.busy": "2025-10-28T11:21:20.361133Z",
     "iopub.status.idle": "2025-10-28T11:21:20.365330Z",
     "shell.execute_reply": "2025-10-28T11:21:20.364296Z"
    }
   },
   "outputs": [
    {
     "data": {
      "text/plain": [
       "<networkit.graph.Graph at 0x7f992ece8cb0>"
      ]
     },
     "execution_count": 18,
     "metadata": {},
     "output_type": "execute_result"
    }
   ],
   "source": [
    "# Remove the edge we added before\n",
    "G.removeEdge(57, 102)"
   ]
  },
  {
   "cell_type": "markdown",
   "metadata": {},
   "source": [
    "## Some-Pairs Shortest-Paths (SPSP)\n",
    "\n",
    "SPSP is an alternative to APSP, it computes the shortest-path distances from a set of user-specified source nodes to all the other nodes of the graph.\n",
    "\n",
    "The constructor `SPSP(G, sources` takes as input a graph and a list of source nodes."
   ]
  },
  {
   "cell_type": "markdown",
   "metadata": {},
   "source": [
    "## Some-Pairs Shortest-Paths (SPSP)\n",
    "\n",
    "SPSP is an alternative to APSP, it computes the shortest-path distances from a set of user-specified source nodes to all the other nodes of the graph.\n",
    "\n",
    "The constructor `SPSP(G, sources` takes as input a graph and a list of source nodes."
   ]
  },
  {
   "cell_type": "code",
   "execution_count": 19,
   "metadata": {
    "execution": {
     "iopub.execute_input": "2025-10-28T11:21:20.367075Z",
     "iopub.status.busy": "2025-10-28T11:21:20.366861Z",
     "iopub.status.idle": "2025-10-28T11:21:20.371563Z",
     "shell.execute_reply": "2025-10-28T11:21:20.370786Z"
    }
   },
   "outputs": [
    {
     "name": "stdout",
     "output_type": "stream",
     "text": [
      "Distance from 0 to 102: 6.643e-04\n",
      "Distance from 1 to 102: 1.223e-05\n",
      "Distance from 2 to 102: 1.124e-04\n"
     ]
    }
   ],
   "source": [
    "# Initialize the algorithm\n",
    "sources = [0, 1, 2]\n",
    "\n",
    "spsp = nk.distance.SPSP(G, sources)\n",
    "\n",
    "# Run\n",
    "spsp.run()\n",
    "\n",
    "# Print the distances from the selected sources to the target\n",
    "for source in sources:\n",
    "    print(\"Distance from {:d} to {:d}: {:.3e}\".format(source, target, spsp.getDistance(source, target)))"
   ]
  },
  {
   "cell_type": "markdown",
   "metadata": {},
   "source": [
    "## A*"
   ]
  },
  {
   "cell_type": "markdown",
   "metadata": {},
   "source": [
    " A* is an informed search algorithm , as it uses information about path cost and also uses heuristics to find the shortest path.\n",
    "\n",
    "The  [AStar(G, heu, source, target, storePred=True)](https://networkit.github.io/dev-docs/python_api/distance.html?highlight=astar#networkit.distance.AStar) constructor expects a graph, the source and target nodes as mandatory parameters. The algorithm will also store the predecessors and reconstruct a shortest path from the source and the target if `storePred` is true. `heu` is a list of lower bounds of the distance of each node to the target."
   ]
  },
  {
   "cell_type": "markdown",
   "metadata": {},
   "source": [
    "As we do not have any prior knowledge about the graph we choose all zeros as a heuristic because zero is always a lower bound of the distance between two nodes. In this case, the A* algorithm is equivalent to Dijkstra."
   ]
  },
  {
   "cell_type": "code",
   "execution_count": 20,
   "metadata": {
    "execution": {
     "iopub.execute_input": "2025-10-28T11:21:20.373974Z",
     "iopub.status.busy": "2025-10-28T11:21:20.373740Z",
     "iopub.status.idle": "2025-10-28T11:21:20.377115Z",
     "shell.execute_reply": "2025-10-28T11:21:20.376411Z"
    }
   },
   "outputs": [],
   "source": [
    "# Initialize algorithm\n",
    "heuristic = [0 for _ in range(G.upperNodeIdBound())]\n",
    "astar = nk.distance.AStar(G, heuristic, source, target)"
   ]
  },
  {
   "cell_type": "code",
   "execution_count": 21,
   "metadata": {
    "execution": {
     "iopub.execute_input": "2025-10-28T11:21:20.379075Z",
     "iopub.status.busy": "2025-10-28T11:21:20.378891Z",
     "iopub.status.idle": "2025-10-28T11:21:20.382890Z",
     "shell.execute_reply": "2025-10-28T11:21:20.382031Z"
    }
   },
   "outputs": [
    {
     "data": {
      "text/plain": [
       "<networkit.distance.AStar at 0x7f996ccf7ca0>"
      ]
     },
     "execution_count": 21,
     "metadata": {},
     "output_type": "execute_result"
    }
   ],
   "source": [
    "# Run\n",
    "astar.run()"
   ]
  },
  {
   "cell_type": "code",
   "execution_count": 22,
   "metadata": {
    "execution": {
     "iopub.execute_input": "2025-10-28T11:21:20.384588Z",
     "iopub.status.busy": "2025-10-28T11:21:20.384397Z",
     "iopub.status.idle": "2025-10-28T11:21:20.387900Z",
     "shell.execute_reply": "2025-10-28T11:21:20.387157Z"
    }
   },
   "outputs": [
    {
     "name": "stdout",
     "output_type": "stream",
     "text": [
      "0.00011239908770000002\n",
      "[46, 105]\n"
     ]
    }
   ],
   "source": [
    "# The distance from source to target node\n",
    "print(astar.getDistance())\n",
    "# The path from source to target node\n",
    "print(astar.getPath())"
   ]
  },
  {
   "cell_type": "markdown",
   "metadata": {},
   "source": [
    "## Breadth-First Search (BFS) "
   ]
  },
  {
   "cell_type": "markdown",
   "metadata": {},
   "source": [
    "BFS is an algorithm for traversing a graph which starts from the source node `u`, and explores all of the u's neighbors nodes at the present depth before moving on to the nodes at the next depth level. BFS finds the shortest paths from a source to all the reachable nodes of an unweighted graph.\n",
    "\n",
    "The [BFS(G, source, storePaths=True, storeNodesSortedByDistance=False, target=none)](https://networkit.github.io/dev-docs/python_api/distance.html?highlight=bfs#networkit.distance.BFS) constructor expects a graph and a source node as mandatory parameters. If the paths should be stored, set `storedPaths` to true. If `storeNodesSortedByDistance` is set, a vector of nodes ordered in increasing distance from the source is stored. `target` is the target node."
   ]
  },
  {
   "cell_type": "code",
   "execution_count": 23,
   "metadata": {
    "execution": {
     "iopub.execute_input": "2025-10-28T11:21:20.389912Z",
     "iopub.status.busy": "2025-10-28T11:21:20.389698Z",
     "iopub.status.idle": "2025-10-28T11:21:20.392734Z",
     "shell.execute_reply": "2025-10-28T11:21:20.391937Z"
    }
   },
   "outputs": [],
   "source": [
    "# Initialize algorithm\n",
    "bfs = nk.distance.BFS(G, source, True, False, target)"
   ]
  },
  {
   "cell_type": "code",
   "execution_count": 24,
   "metadata": {
    "execution": {
     "iopub.execute_input": "2025-10-28T11:21:20.394425Z",
     "iopub.status.busy": "2025-10-28T11:21:20.394237Z",
     "iopub.status.idle": "2025-10-28T11:21:20.398584Z",
     "shell.execute_reply": "2025-10-28T11:21:20.397778Z"
    }
   },
   "outputs": [
    {
     "data": {
      "text/plain": [
       "<networkit.distance.BFS at 0x7f992ecfdab0>"
      ]
     },
     "execution_count": 24,
     "metadata": {},
     "output_type": "execute_result"
    }
   ],
   "source": [
    "# Run\n",
    "bfs.run()"
   ]
  },
  {
   "cell_type": "code",
   "execution_count": 25,
   "metadata": {
    "execution": {
     "iopub.execute_input": "2025-10-28T11:21:20.400372Z",
     "iopub.status.busy": "2025-10-28T11:21:20.400186Z",
     "iopub.status.idle": "2025-10-28T11:21:20.403816Z",
     "shell.execute_reply": "2025-10-28T11:21:20.403127Z"
    },
    "jupyter": {
     "source_hidden": true
    },
    "scrolled": true
   },
   "outputs": [
    {
     "name": "stdout",
     "output_type": "stream",
     "text": [
      "2.0\n",
      "4.0\n",
      "[2, 79, 102]\n"
     ]
    }
   ],
   "source": [
    "# The distance from source to target node\n",
    "print(bfs.distance(target))\n",
    "# The number of shortest paths between the source node\n",
    "print(bfs.numberOfPaths(target))\n",
    "# Returns a shortest path from source to target\n",
    "print(bfs.getPath(target))"
   ]
  },
  {
   "cell_type": "markdown",
   "metadata": {
    "jupyter": {
     "source_hidden": true
    }
   },
   "source": [
    "## Bidirectional BFS"
   ]
  },
  {
   "cell_type": "markdown",
   "metadata": {},
   "source": [
    "The Bidirectional BFS algorithm explores the graph from both the source and target nodes until the two explorations meet. This version of BFS is more efficient than BFS when the target node is known.\n",
    "\n",
    "The [BidirectionalBFS(G, source, target, storePred=True)](https://networkit.github.io/dev-docs/python_api/distance.html?highlight=bidirec#networkit.distance.BidirectionalBFS) constructor expects a graph, the source and target nodes as mandatory parameters. The algorithm will also store the predecessors and reconstruct a shortest path from the source and the target if `storePred` is true. "
   ]
  },
  {
   "cell_type": "code",
   "execution_count": 26,
   "metadata": {
    "execution": {
     "iopub.execute_input": "2025-10-28T11:21:20.405789Z",
     "iopub.status.busy": "2025-10-28T11:21:20.405613Z",
     "iopub.status.idle": "2025-10-28T11:21:20.408468Z",
     "shell.execute_reply": "2025-10-28T11:21:20.407727Z"
    }
   },
   "outputs": [],
   "source": [
    "# Initialize algorithm\n",
    "biBFS = nk.distance.BidirectionalBFS(G, source, target)"
   ]
  },
  {
   "cell_type": "code",
   "execution_count": 27,
   "metadata": {
    "execution": {
     "iopub.execute_input": "2025-10-28T11:21:20.410292Z",
     "iopub.status.busy": "2025-10-28T11:21:20.410100Z",
     "iopub.status.idle": "2025-10-28T11:21:20.414233Z",
     "shell.execute_reply": "2025-10-28T11:21:20.413441Z"
    }
   },
   "outputs": [
    {
     "data": {
      "text/plain": [
       "<networkit.distance.BidirectionalBFS at 0x7f992ece6570>"
      ]
     },
     "execution_count": 27,
     "metadata": {},
     "output_type": "execute_result"
    }
   ],
   "source": [
    "# Run\n",
    "biBFS.run()"
   ]
  },
  {
   "cell_type": "markdown",
   "metadata": {},
   "source": [
    "Unlike BFS, the `getPath` method does not include the source at the beginning, and the target at the end of the the returned list."
   ]
  },
  {
   "cell_type": "code",
   "execution_count": 28,
   "metadata": {
    "execution": {
     "iopub.execute_input": "2025-10-28T11:21:20.416169Z",
     "iopub.status.busy": "2025-10-28T11:21:20.415995Z",
     "iopub.status.idle": "2025-10-28T11:21:20.419619Z",
     "shell.execute_reply": "2025-10-28T11:21:20.418786Z"
    }
   },
   "outputs": [
    {
     "name": "stdout",
     "output_type": "stream",
     "text": [
      "[79]\n",
      "1\n"
     ]
    }
   ],
   "source": [
    "# The distance from source to target node\n",
    "print(biBFS.getPath())\n",
    "print(len(biBFS.getPath()))"
   ]
  },
  {
   "cell_type": "markdown",
   "metadata": {},
   "source": [
    "## Dijkstra "
   ]
  },
  {
   "cell_type": "markdown",
   "metadata": {},
   "source": [
    "Dijkstra's algorithm finds the shortest path from a source node a target node. This algorithm creates a tree of shortest paths from the source to all other nodes in the graph. Dijkstra's algorithm finds the shortest paths from a source to all the reachable nodes of a weighted graph.\n",
    "\n",
    "The [Dijkstra(G, source, storePaths=True, storeNodesSortedByDistance=False, target=none)](https://networkit.github.io/dev-docs/python_api/distance.html?highlight=dij#networkit.distance.Dijkstra) constructor expects a graph and a source node as mandatory parameters. If the paths should be stored, set `storedPaths` to true. If `storeNodesSortedByDistance` is set, a vector of nodes ordered in increasing distance from the source is stored. `target` is the target node."
   ]
  },
  {
   "cell_type": "code",
   "execution_count": 29,
   "metadata": {
    "execution": {
     "iopub.execute_input": "2025-10-28T11:21:20.421396Z",
     "iopub.status.busy": "2025-10-28T11:21:20.421203Z",
     "iopub.status.idle": "2025-10-28T11:21:20.424017Z",
     "shell.execute_reply": "2025-10-28T11:21:20.423251Z"
    }
   },
   "outputs": [],
   "source": [
    "# Initialize algorithm\n",
    "dijkstra = nk.distance.Dijkstra(G, source, True, False, target)"
   ]
  },
  {
   "cell_type": "code",
   "execution_count": 30,
   "metadata": {
    "execution": {
     "iopub.execute_input": "2025-10-28T11:21:20.425794Z",
     "iopub.status.busy": "2025-10-28T11:21:20.425621Z",
     "iopub.status.idle": "2025-10-28T11:21:20.429670Z",
     "shell.execute_reply": "2025-10-28T11:21:20.428820Z"
    }
   },
   "outputs": [
    {
     "data": {
      "text/plain": [
       "<networkit.distance.Dijkstra at 0x7f992ecfe050>"
      ]
     },
     "execution_count": 30,
     "metadata": {},
     "output_type": "execute_result"
    }
   ],
   "source": [
    "# Run\n",
    "dijkstra.run()"
   ]
  },
  {
   "cell_type": "code",
   "execution_count": 31,
   "metadata": {
    "execution": {
     "iopub.execute_input": "2025-10-28T11:21:20.431315Z",
     "iopub.status.busy": "2025-10-28T11:21:20.431126Z",
     "iopub.status.idle": "2025-10-28T11:21:20.434758Z",
     "shell.execute_reply": "2025-10-28T11:21:20.434000Z"
    }
   },
   "outputs": [
    {
     "name": "stdout",
     "output_type": "stream",
     "text": [
      "0.00011239908770000002\n",
      "1.0\n",
      "[2, 46, 105, 102]\n"
     ]
    }
   ],
   "source": [
    "# The distance from source to target node\n",
    "print(dijkstra.distance(target))\n",
    "# The number of shortest paths between the source node\n",
    "print(dijkstra.numberOfPaths(target))\n",
    "# Returns a shortest path from source to target\n",
    "print(dijkstra.getPath(target))"
   ]
  },
  {
   "cell_type": "markdown",
   "metadata": {},
   "source": [
    "## Bidirectional Dijkstra"
   ]
  },
  {
   "cell_type": "markdown",
   "metadata": {},
   "source": [
    "The Bidirectional Dijkstra algorithm explores the graph from both the source and target nodes until the two explorations meet.  This version of Dijkstra is more efficient than the convential Dijkstra when the target node is known.\n",
    "\n",
    "The [BidirectionalDijkstra(G, source, target, storePred=True)](https://networkit.github.io/dev-docs/python_api/distance.html?highlight=bidirec#networkit.distance.BidirectionalDijkstra) constructor expects a graph, the source and target nodes as mandatory parameters. The algorithm will also store the predecessors and reconstruct a shortest path from the source and the target if `storePred` is true."
   ]
  },
  {
   "cell_type": "code",
   "execution_count": 32,
   "metadata": {
    "execution": {
     "iopub.execute_input": "2025-10-28T11:21:20.436795Z",
     "iopub.status.busy": "2025-10-28T11:21:20.436605Z",
     "iopub.status.idle": "2025-10-28T11:21:20.439712Z",
     "shell.execute_reply": "2025-10-28T11:21:20.438839Z"
    }
   },
   "outputs": [],
   "source": [
    "# Initialize algorithm\n",
    "biDij = nk.distance.BidirectionalDijkstra(G, source, target)"
   ]
  },
  {
   "cell_type": "code",
   "execution_count": 33,
   "metadata": {
    "execution": {
     "iopub.execute_input": "2025-10-28T11:21:20.441403Z",
     "iopub.status.busy": "2025-10-28T11:21:20.441196Z",
     "iopub.status.idle": "2025-10-28T11:21:20.445655Z",
     "shell.execute_reply": "2025-10-28T11:21:20.444798Z"
    }
   },
   "outputs": [
    {
     "data": {
      "text/plain": [
       "<networkit.distance.BidirectionalDijkstra at 0x7f992ed113f0>"
      ]
     },
     "execution_count": 33,
     "metadata": {},
     "output_type": "execute_result"
    }
   ],
   "source": [
    "# Run\n",
    "biDij.run()"
   ]
  },
  {
   "cell_type": "markdown",
   "metadata": {},
   "source": [
    "Unlike Dijkstra, the `getPath` method does not include the source at the beginning, and the target at the end of the the returned list."
   ]
  },
  {
   "cell_type": "code",
   "execution_count": 34,
   "metadata": {
    "execution": {
     "iopub.execute_input": "2025-10-28T11:21:20.447313Z",
     "iopub.status.busy": "2025-10-28T11:21:20.447140Z",
     "iopub.status.idle": "2025-10-28T11:21:20.450353Z",
     "shell.execute_reply": "2025-10-28T11:21:20.449524Z"
    }
   },
   "outputs": [
    {
     "name": "stdout",
     "output_type": "stream",
     "text": [
      "0.00011239908770000002\n",
      "[46, 105]\n"
     ]
    }
   ],
   "source": [
    "# The distance from source to target node\n",
    "print(biDij.getDistance())\n",
    "# The path from source to target node\n",
    "print(biDij.getPath())"
   ]
  },
  {
   "cell_type": "markdown",
   "metadata": {},
   "source": [
    "## Commute Time Distance"
   ]
  },
  {
   "cell_type": "markdown",
   "metadata": {},
   "source": [
    "This class computes the Euclidean Commute Time Distance between each pair of nodes for an undirected unweighted graph.\n",
    "\n",
    "The [CommuteTimeDistance(G, tol=0.1)](https://networkit.github.io/dev-docs/python_api/distance.html?highlight=commute#networkit.distance.CommuteTimeDistance) constructor expects a graph as a mandatory parameter. The optional parameter `tol` is the tolerance parameter used for approximation."
   ]
  },
  {
   "cell_type": "code",
   "execution_count": 35,
   "metadata": {
    "execution": {
     "iopub.execute_input": "2025-10-28T11:21:20.452130Z",
     "iopub.status.busy": "2025-10-28T11:21:20.451955Z",
     "iopub.status.idle": "2025-10-28T11:21:20.481184Z",
     "shell.execute_reply": "2025-10-28T11:21:20.480225Z"
    }
   },
   "outputs": [],
   "source": [
    "# Initialize algorithm\n",
    "ctd = nk.distance.CommuteTimeDistance(G)"
   ]
  },
  {
   "cell_type": "code",
   "execution_count": 36,
   "metadata": {
    "execution": {
     "iopub.execute_input": "2025-10-28T11:21:20.482957Z",
     "iopub.status.busy": "2025-10-28T11:21:20.482746Z",
     "iopub.status.idle": "2025-10-28T11:21:36.435314Z",
     "shell.execute_reply": "2025-10-28T11:21:36.434405Z"
    }
   },
   "outputs": [
    {
     "data": {
      "text/plain": [
       "<networkit.distance.CommuteTimeDistance at 0x7f992ecfe500>"
      ]
     },
     "execution_count": 36,
     "metadata": {},
     "output_type": "execute_result"
    }
   ],
   "source": [
    "# Run\n",
    "ctd.run()"
   ]
  },
  {
   "cell_type": "code",
   "execution_count": 37,
   "metadata": {
    "execution": {
     "iopub.execute_input": "2025-10-28T11:21:36.437577Z",
     "iopub.status.busy": "2025-10-28T11:21:36.437379Z",
     "iopub.status.idle": "2025-10-28T11:21:36.440930Z",
     "shell.execute_reply": "2025-10-28T11:21:36.440099Z"
    }
   },
   "outputs": [
    {
     "name": "stdout",
     "output_type": "stream",
     "text": [
      "465.3162793062133\n"
     ]
    }
   ],
   "source": [
    "# The distance from source to target node\n",
    "print(ctd.distance(source, target))"
   ]
  },
  {
   "cell_type": "markdown",
   "metadata": {},
   "source": [
    "If one wants to compute the commute time distance between two nodes, then they should use [runSinglePair(u, v)](https://networkit.github.io/dev-docs/python_api/distance.html?highlight=runsingle#networkit.distance.CommuteTimeDistance.runSinglePair) method."
   ]
  },
  {
   "cell_type": "code",
   "execution_count": 38,
   "metadata": {
    "execution": {
     "iopub.execute_input": "2025-10-28T11:21:36.443060Z",
     "iopub.status.busy": "2025-10-28T11:21:36.442702Z",
     "iopub.status.idle": "2025-10-28T11:21:36.450891Z",
     "shell.execute_reply": "2025-10-28T11:21:36.450006Z"
    }
   },
   "outputs": [
    {
     "data": {
      "text/plain": [
       "465.3162793062133"
      ]
     },
     "execution_count": 38,
     "metadata": {},
     "output_type": "execute_result"
    }
   ],
   "source": [
    "ctd.runSinglePair(source,target)"
   ]
  },
  {
   "cell_type": "markdown",
   "metadata": {},
   "source": [
    "## Diameter "
   ]
  },
  {
   "cell_type": "markdown",
   "metadata": {},
   "source": [
    "This algorithm gives an estimation of the diameter of a given graph. The algorithm is based on the ExactSumSweep algorithm presented in Michele Borassi, Pierluigi Crescenzi, Michel Habib, Walter A. Kosters, Andrea Marino, Frank W. Takes: http://www.sciencedirect.com/science/article/pii/S0304397515001644.\n",
    "\n",
    "The [Diameter(G, algo=DiameterAlgo.AUTOMATIC, error=1.0, nSamples=0)](https://networkit.github.io/dev-docs/python_api/distance.html?highlight=diameter#networkit.distance.Diameter) constructor expects a graph as mandatory parameter. `algo` specifies the choice of diameter algorithm while `error` is the maximum allowed relative error. Set to 0 for the exact diameter. `nSamples`is the number of samples to be used. `algo` can be chosen between from \n",
    "    0. automatic\n",
    "    1. exact\n",
    "    2. estimatedRange\n",
    "    3. estimatedSamples\n",
    "    4. estimatedPedantic\n",
    "\n",
    "Note that the input graph must be connected, otherwise the resulting diameter will be infinite. As the graph we are using is not connected, we shall extract the largest connected component from it and then compute the diameter of the resulting graph."
   ]
  },
  {
   "cell_type": "code",
   "execution_count": 39,
   "metadata": {
    "execution": {
     "iopub.execute_input": "2025-10-28T11:21:36.452784Z",
     "iopub.status.busy": "2025-10-28T11:21:36.452453Z",
     "iopub.status.idle": "2025-10-28T11:21:36.458269Z",
     "shell.execute_reply": "2025-10-28T11:21:36.457403Z"
    }
   },
   "outputs": [
    {
     "data": {
      "text/plain": [
       "128"
      ]
     },
     "execution_count": 39,
     "metadata": {},
     "output_type": "execute_result"
    }
   ],
   "source": [
    "# Extract largest connect component\n",
    "newGraph = nk.components.ConnectedComponents.extractLargestConnectedComponent(G, True)\n",
    "newGraph.numberOfNodes()"
   ]
  },
  {
   "cell_type": "code",
   "execution_count": 40,
   "metadata": {
    "execution": {
     "iopub.execute_input": "2025-10-28T11:21:36.460040Z",
     "iopub.status.busy": "2025-10-28T11:21:36.459831Z",
     "iopub.status.idle": "2025-10-28T11:21:36.463012Z",
     "shell.execute_reply": "2025-10-28T11:21:36.462059Z"
    }
   },
   "outputs": [],
   "source": [
    "# Initialize algorithm to compute the exact diameter of the input graph\n",
    "diam = nk.distance.Diameter(newGraph,algo=1)"
   ]
  },
  {
   "cell_type": "code",
   "execution_count": 41,
   "metadata": {
    "execution": {
     "iopub.execute_input": "2025-10-28T11:21:36.464859Z",
     "iopub.status.busy": "2025-10-28T11:21:36.464476Z",
     "iopub.status.idle": "2025-10-28T11:21:36.511855Z",
     "shell.execute_reply": "2025-10-28T11:21:36.511093Z"
    }
   },
   "outputs": [
    {
     "data": {
      "text/plain": [
       "<networkit.distance.Diameter at 0x7f992ecfea40>"
      ]
     },
     "execution_count": 41,
     "metadata": {},
     "output_type": "execute_result"
    }
   ],
   "source": [
    "# Run\n",
    "diam.run()"
   ]
  },
  {
   "cell_type": "code",
   "execution_count": 42,
   "metadata": {
    "execution": {
     "iopub.execute_input": "2025-10-28T11:21:36.513762Z",
     "iopub.status.busy": "2025-10-28T11:21:36.513583Z",
     "iopub.status.idle": "2025-10-28T11:21:36.517564Z",
     "shell.execute_reply": "2025-10-28T11:21:36.516755Z"
    }
   },
   "outputs": [
    {
     "data": {
      "text/plain": [
       "(72, 0)"
      ]
     },
     "execution_count": 42,
     "metadata": {},
     "output_type": "execute_result"
    }
   ],
   "source": [
    "# Get diameter of graph\n",
    "diam.getDiameter()"
   ]
  },
  {
   "cell_type": "markdown",
   "metadata": {},
   "source": [
    "The return value of `getDiameter` is a pair of integers, i.e., the lower bound and upper bound of the diameter. In the case, that we computed the exact diameter, the diameter is the first value of the pair."
   ]
  },
  {
   "cell_type": "markdown",
   "metadata": {},
   "source": [
    "## Eccentricity"
   ]
  },
  {
   "cell_type": "markdown",
   "metadata": {},
   "source": [
    "The eccentricity of a node `u` is defined as the distance to the farthest node from node u. In other words, it is the longest shortest-path starting from node `u`.\n",
    "\n",
    "The eccentricity of a graph can be computed by calling the [getValue(G, v)]() method, and passing a graph and a node. The method returns the node farthest from v, and the length of the shortest path between `v` and the farthest node."
   ]
  },
  {
   "cell_type": "code",
   "execution_count": 43,
   "metadata": {
    "execution": {
     "iopub.execute_input": "2025-10-28T11:21:36.519371Z",
     "iopub.status.busy": "2025-10-28T11:21:36.519197Z",
     "iopub.status.idle": "2025-10-28T11:21:36.523521Z",
     "shell.execute_reply": "2025-10-28T11:21:36.522668Z"
    }
   },
   "outputs": [
    {
     "data": {
      "text/plain": [
       "(123, 3)"
      ]
     },
     "execution_count": 43,
     "metadata": {},
     "output_type": "execute_result"
    }
   ],
   "source": [
    "# Run\n",
    "nk.distance.Eccentricity.getValue(G, source)"
   ]
  },
  {
   "cell_type": "markdown",
   "metadata": {},
   "source": [
    "## Effective Diameter"
   ]
  },
  {
   "cell_type": "markdown",
   "metadata": {},
   "source": [
    "The effective diameter is defined as the number of edges on average to reach a given ratio of all other nodes.\n",
    "\n",
    "The [EffectiveDiameter(G, ratio=0.9)](https://networkit.github.io/dev-docs/python_api/distance.html?highlight=effective#networkit.distance.EffectiveDiameter) constructor expects an undirected graph and the ratio of nodes that should be connected. The ratio must be between in the interval (0,1]."
   ]
  },
  {
   "cell_type": "code",
   "execution_count": 44,
   "metadata": {
    "execution": {
     "iopub.execute_input": "2025-10-28T11:21:36.525228Z",
     "iopub.status.busy": "2025-10-28T11:21:36.525053Z",
     "iopub.status.idle": "2025-10-28T11:21:36.528147Z",
     "shell.execute_reply": "2025-10-28T11:21:36.527194Z"
    }
   },
   "outputs": [],
   "source": [
    "# Initialize algorithm\n",
    "ed = nk.distance.EffectiveDiameter(G)"
   ]
  },
  {
   "cell_type": "code",
   "execution_count": 45,
   "metadata": {
    "execution": {
     "iopub.execute_input": "2025-10-28T11:21:36.529740Z",
     "iopub.status.busy": "2025-10-28T11:21:36.529562Z",
     "iopub.status.idle": "2025-10-28T11:21:36.637859Z",
     "shell.execute_reply": "2025-10-28T11:21:36.637137Z"
    }
   },
   "outputs": [
    {
     "data": {
      "text/plain": [
       "<networkit.distance.EffectiveDiameter at 0x7f992ecfefe0>"
      ]
     },
     "execution_count": 45,
     "metadata": {},
     "output_type": "execute_result"
    }
   ],
   "source": [
    "# Run\n",
    "ed.run()"
   ]
  },
  {
   "cell_type": "code",
   "execution_count": 46,
   "metadata": {
    "execution": {
     "iopub.execute_input": "2025-10-28T11:21:36.639985Z",
     "iopub.status.busy": "2025-10-28T11:21:36.639779Z",
     "iopub.status.idle": "2025-10-28T11:21:36.643603Z",
     "shell.execute_reply": "2025-10-28T11:21:36.642898Z"
    }
   },
   "outputs": [
    {
     "data": {
      "text/plain": [
       "2.0546875"
      ]
     },
     "execution_count": 46,
     "metadata": {},
     "output_type": "execute_result"
    }
   ],
   "source": [
    "# Get effective diameter\n",
    "ed.getEffectiveDiameter()"
   ]
  },
  {
   "cell_type": "markdown",
   "metadata": {},
   "source": [
    "## Effective Diameter Approximation"
   ]
  },
  {
   "cell_type": "markdown",
   "metadata": {},
   "source": [
    "This class approximates the effective diameter according to the algorithm presented in the \"A Fast and Scalable Tool for Data Mining in Massive Graphs\" by [Palmer, Gibbons and Faloutsos](http://www.cs.cmu.edu/~christos/PUBLICATIONS/kdd02-anf.pdf).\n",
    "\n",
    "The [EffectiveDiameter(G, ratio=0.9, k=64, r=7)]() constructor expects an undirected graph, the ratio of nodes that should be connected, the number of parallel approximations `k` to get a more robust results, and the number of bits `r` that should be added to the bitmask. The more bits are added to the bitmask, the higher the accuracy. The ratio must be between in the interval (0,1]."
   ]
  },
  {
   "cell_type": "code",
   "execution_count": 47,
   "metadata": {
    "execution": {
     "iopub.execute_input": "2025-10-28T11:21:36.645555Z",
     "iopub.status.busy": "2025-10-28T11:21:36.645375Z",
     "iopub.status.idle": "2025-10-28T11:21:36.648253Z",
     "shell.execute_reply": "2025-10-28T11:21:36.647480Z"
    }
   },
   "outputs": [],
   "source": [
    "# Initialize algorithm\n",
    "eda = nk.distance.EffectiveDiameterApproximation(G)"
   ]
  },
  {
   "cell_type": "code",
   "execution_count": 48,
   "metadata": {
    "execution": {
     "iopub.execute_input": "2025-10-28T11:21:36.650091Z",
     "iopub.status.busy": "2025-10-28T11:21:36.649913Z",
     "iopub.status.idle": "2025-10-28T11:21:36.667847Z",
     "shell.execute_reply": "2025-10-28T11:21:36.666989Z"
    }
   },
   "outputs": [
    {
     "data": {
      "text/plain": [
       "<networkit.distance.EffectiveDiameterApproximation at 0x7f992ecff430>"
      ]
     },
     "execution_count": 48,
     "metadata": {},
     "output_type": "execute_result"
    }
   ],
   "source": [
    "# Run\n",
    "eda.run()"
   ]
  },
  {
   "cell_type": "code",
   "execution_count": 49,
   "metadata": {
    "execution": {
     "iopub.execute_input": "2025-10-28T11:21:36.669669Z",
     "iopub.status.busy": "2025-10-28T11:21:36.669479Z",
     "iopub.status.idle": "2025-10-28T11:21:36.673862Z",
     "shell.execute_reply": "2025-10-28T11:21:36.673104Z"
    }
   },
   "outputs": [
    {
     "data": {
      "text/plain": [
       "2.0234375"
      ]
     },
     "execution_count": 49,
     "metadata": {},
     "output_type": "execute_result"
    }
   ],
   "source": [
    "# Get effective diameter\n",
    "eda.getEffectiveDiameter()"
   ]
  },
  {
   "cell_type": "markdown",
   "metadata": {},
   "source": [
    "## Reverse BFS"
   ]
  },
  {
   "cell_type": "markdown",
   "metadata": {},
   "source": [
    "This class does a reverse breadth-first search (following the incoming edges of a node) on a directed graph from a given source node.\n",
    "\n",
    "The [ReverseBFS(G, source, storePaths=True, storeNodesSortedByDistance=False, target=none)](https://networkit.github.io/dev-docs/python_api/distance.html?highlight=bfs#networkit.distance.BFS) constructor expects a graph and a source node as mandatory parameters. If the paths should be stored, set `storedPaths` to true. If `storeNodesSortedByDistance` is set, a vector of nodes ordered in increasing distance from the source is stored. `target` is the target node."
   ]
  },
  {
   "cell_type": "code",
   "execution_count": 50,
   "metadata": {
    "execution": {
     "iopub.execute_input": "2025-10-28T11:21:36.675806Z",
     "iopub.status.busy": "2025-10-28T11:21:36.675615Z",
     "iopub.status.idle": "2025-10-28T11:21:36.678659Z",
     "shell.execute_reply": "2025-10-28T11:21:36.677921Z"
    }
   },
   "outputs": [],
   "source": [
    "# Initialize algorithm\n",
    "rbfs = nk.distance.ReverseBFS(G, source, True, False, target)"
   ]
  },
  {
   "cell_type": "code",
   "execution_count": 51,
   "metadata": {
    "execution": {
     "iopub.execute_input": "2025-10-28T11:21:36.680472Z",
     "iopub.status.busy": "2025-10-28T11:21:36.680283Z",
     "iopub.status.idle": "2025-10-28T11:21:36.684741Z",
     "shell.execute_reply": "2025-10-28T11:21:36.683912Z"
    }
   },
   "outputs": [
    {
     "data": {
      "text/plain": [
       "<networkit.distance.ReverseBFS at 0x7f992ecff7c0>"
      ]
     },
     "execution_count": 51,
     "metadata": {},
     "output_type": "execute_result"
    }
   ],
   "source": [
    "# Run\n",
    "rbfs.run()"
   ]
  },
  {
   "cell_type": "code",
   "execution_count": 52,
   "metadata": {
    "execution": {
     "iopub.execute_input": "2025-10-28T11:21:36.686381Z",
     "iopub.status.busy": "2025-10-28T11:21:36.686200Z",
     "iopub.status.idle": "2025-10-28T11:21:36.689543Z",
     "shell.execute_reply": "2025-10-28T11:21:36.688663Z"
    }
   },
   "outputs": [
    {
     "name": "stdout",
     "output_type": "stream",
     "text": [
      "2.0\n",
      "4.0\n"
     ]
    }
   ],
   "source": [
    "# The distance from source to target node\n",
    "print(rbfs.distance(target))\n",
    "# The number of shortest paths between source and target\n",
    "print(rbfs.numberOfPaths(target))"
   ]
  }
 ],
 "metadata": {
  "kernelspec": {
   "display_name": "Python 3 (ipykernel)",
   "language": "python",
   "name": "python3"
  },
  "language_info": {
   "codemirror_mode": {
    "name": "ipython",
    "version": 3
   },
   "file_extension": ".py",
   "mimetype": "text/x-python",
   "name": "python",
   "nbconvert_exporter": "python",
   "pygments_lexer": "ipython3",
   "version": "3.13.9"
  }
 },
 "nbformat": 4,
 "nbformat_minor": 4
}
