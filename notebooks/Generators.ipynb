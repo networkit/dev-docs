{
 "cells": [
  {
   "cell_type": "markdown",
   "metadata": {},
   "source": [
    "# NetworKit Graph Generators"
   ]
  },
  {
   "cell_type": "markdown",
   "metadata": {},
   "source": [
    "In this notebook we will cover some algorithms to generate random graphs implemented in the `generators` module of NetworKit. Graph generators generate graphs that match certain user-defined parameters. It is particularly useful in cases when one does not have real graphs at hand (or none that matches specific properties). All algorithms in the `generators` module implement a `generate` function that must be called after the specific algorithm has been initialized which returns a [networkit.Graph](https://networkit.github.io/dev-docs/python_api/networkit.html?highlight=graph#networkit.Graph).\n",
    "\n",
    "As a first step we import NetworKit:"
   ]
  },
  {
   "cell_type": "code",
   "execution_count": 1,
   "metadata": {
    "execution": {
     "iopub.execute_input": "2025-10-28T11:21:43.809486Z",
     "iopub.status.busy": "2025-10-28T11:21:43.809197Z",
     "iopub.status.idle": "2025-10-28T11:21:45.175268Z",
     "shell.execute_reply": "2025-10-28T11:21:45.174354Z"
    }
   },
   "outputs": [
    {
     "data": {
      "text/html": [
       "\n",
       "\t\t\t<script type=\"text/javascript\">\n",
       "\t\t\t<!--\n",
       "\t\t\t\t\n",
       "\t\t\t{\n",
       "\t\t\t\tvar element = document.getElementById('NetworKit_script');\n",
       "\t\t\t\tif (element) {\n",
       "\t\t\t\t\telement.parentNode.removeChild(element);\n",
       "\t\t\t\t}\n",
       "\t\t\t\telement = document.createElement('script');\n",
       "\t\t\t\telement.type = 'text/javascript';\n",
       "\t\t\t\telement.innerHTML = 'function NetworKit_pageEmbed(id) { var i, j; var elements; elements = document.getElementById(id).getElementsByClassName(\"Plot\"); for (i=0; i<elements.length; i++) { elements[i].id = id + \"_Plot_\" + i; var data = elements[i].getAttribute(\"data-image\").split(\"|\"); elements[i].removeAttribute(\"data-image\"); var content = \"<div class=\\\\\"Image\\\\\" id=\\\\\"\" + elements[i].id + \"_Image\\\\\" />\"; elements[i].innerHTML = content; elements[i].setAttribute(\"data-image-index\", 0); elements[i].setAttribute(\"data-image-length\", data.length); for (j=0; j<data.length; j++) { elements[i].setAttribute(\"data-image-\" + j, data[j]); } NetworKit_plotUpdate(elements[i]); elements[i].onclick = function (e) { NetworKit_overlayShow((e.target) ? e.target : e.srcElement); } } elements = document.getElementById(id).getElementsByClassName(\"HeatCell\"); for (i=0; i<elements.length; i++) { var data = parseFloat(elements[i].getAttribute(\"data-heat\")); var color = \"#00FF00\"; if (data <= 1 && data > 0) { color = \"hsla(0, 100%, 75%, \" + (data) + \")\"; } else if (data <= 0 && data >= -1) { color = \"hsla(240, 100%, 75%, \" + (-data) + \")\"; } elements[i].style.backgroundColor = color; } elements = document.getElementById(id).getElementsByClassName(\"Details\"); for (i=0; i<elements.length; i++) { elements[i].setAttribute(\"data-title\", \"-\"); NetworKit_toggleDetails(elements[i]); elements[i].onclick = function (e) { NetworKit_toggleDetails((e.target) ? e.target : e.srcElement); } } elements = document.getElementById(id).getElementsByClassName(\"MathValue\"); for (i=elements.length-1; i>=0; i--) { value = elements[i].innerHTML.trim(); if (value === \"nan\") { elements[i].parentNode.innerHTML = \"\" } } elements = document.getElementById(id).getElementsByClassName(\"SubCategory\"); for (i=elements.length-1; i>=0; i--) { value = elements[i].innerHTML.trim(); if (value === \"\") { elements[i].parentNode.removeChild(elements[i]) } } elements = document.getElementById(id).getElementsByClassName(\"Category\"); for (i=elements.length-1; i>=0; i--) { value = elements[i].innerHTML.trim(); if (value === \"\") { elements[i].parentNode.removeChild(elements[i]) } } var isFirefox = false; try { isFirefox = typeof InstallTrigger !== \"undefined\"; } catch (e) {} if (!isFirefox) { alert(\"Currently the function\\'s output is only fully supported by Firefox.\"); } } function NetworKit_plotUpdate(source) { var index = source.getAttribute(\"data-image-index\"); var data = source.getAttribute(\"data-image-\" + index); var image = document.getElementById(source.id + \"_Image\"); image.style.backgroundImage = \"url(\" + data + \")\"; } function NetworKit_showElement(id, show) { var element = document.getElementById(id); element.style.display = (show) ? \"block\" : \"none\"; } function NetworKit_overlayShow(source) { NetworKit_overlayUpdate(source); NetworKit_showElement(\"NetworKit_Overlay\", true); } function NetworKit_overlayUpdate(source) { document.getElementById(\"NetworKit_Overlay_Title\").innerHTML = source.title; var index = source.getAttribute(\"data-image-index\"); var data = source.getAttribute(\"data-image-\" + index); var image = document.getElementById(\"NetworKit_Overlay_Image\"); image.setAttribute(\"data-id\", source.id); image.style.backgroundImage = \"url(\" + data + \")\"; var link = document.getElementById(\"NetworKit_Overlay_Toolbar_Bottom_Save\"); link.href = data; link.download = source.title + \".svg\"; } function NetworKit_overlayImageShift(delta) { var image = document.getElementById(\"NetworKit_Overlay_Image\"); var source = document.getElementById(image.getAttribute(\"data-id\")); var index = parseInt(source.getAttribute(\"data-image-index\")); var length = parseInt(source.getAttribute(\"data-image-length\")); var index = (index+delta) % length; if (index < 0) { index = length + index; } source.setAttribute(\"data-image-index\", index); NetworKit_overlayUpdate(source); } function NetworKit_toggleDetails(source) { var childs = source.children; var show = false; if (source.getAttribute(\"data-title\") == \"-\") { source.setAttribute(\"data-title\", \"+\"); show = false; } else { source.setAttribute(\"data-title\", \"-\"); show = true; } for (i=0; i<childs.length; i++) { if (show) { childs[i].style.display = \"block\"; } else { childs[i].style.display = \"none\"; } } }';\n",
       "\t\t\t\telement.setAttribute('id', 'NetworKit_script');\n",
       "\t\t\t\tdocument.head.appendChild(element);\n",
       "\t\t\t}\n",
       "\t\t\n",
       "\t\t\t\t\n",
       "\t\t\t{\n",
       "\t\t\t\tvar element = document.getElementById('NetworKit_style');\n",
       "\t\t\t\tif (element) {\n",
       "\t\t\t\t\telement.parentNode.removeChild(element);\n",
       "\t\t\t\t}\n",
       "\t\t\t\telement = document.createElement('style');\n",
       "\t\t\t\telement.type = 'text/css';\n",
       "\t\t\t\telement.innerHTML = '.NetworKit_Page { font-family: Arial, Helvetica, sans-serif; font-size: 14px; } .NetworKit_Page .Value:before { font-family: Arial, Helvetica, sans-serif; font-size: 1.05em; content: attr(data-title) \":\"; margin-left: -2.5em; padding-right: 0.5em; } .NetworKit_Page .Details .Value:before { display: block; } .NetworKit_Page .Value { font-family: monospace; white-space: pre; padding-left: 2.5em; white-space: -moz-pre-wrap !important; white-space: -pre-wrap; white-space: -o-pre-wrap; white-space: pre-wrap; word-wrap: break-word; tab-size: 4; -moz-tab-size: 4; } .NetworKit_Page .Category { clear: both; padding-left: 1em; margin-bottom: 1.5em; } .NetworKit_Page .Category:before { content: attr(data-title); font-size: 1.75em; display: block; margin-left: -0.8em; margin-bottom: 0.5em; } .NetworKit_Page .SubCategory { margin-bottom: 1.5em; padding-left: 1em; } .NetworKit_Page .SubCategory:before { font-size: 1.6em; display: block; margin-left: -0.8em; margin-bottom: 0.5em; } .NetworKit_Page .SubCategory[data-title]:before { content: attr(data-title); } .NetworKit_Page .Block { display: block; } .NetworKit_Page .Block:after { content: \".\"; visibility: hidden; display: block; height: 0; clear: both; } .NetworKit_Page .Block .Thumbnail_Overview, .NetworKit_Page .Block .Thumbnail_ScatterPlot { width: 260px; float: left; } .NetworKit_Page .Block .Thumbnail_Overview img, .NetworKit_Page .Block .Thumbnail_ScatterPlot img { width: 260px; } .NetworKit_Page .Block .Thumbnail_Overview:before, .NetworKit_Page .Block .Thumbnail_ScatterPlot:before { display: block; text-align: center; font-weight: bold; } .NetworKit_Page .Block .Thumbnail_Overview:before { content: attr(data-title); } .NetworKit_Page .HeatCell { font-family: \"Courier New\", Courier, monospace; cursor: pointer; } .NetworKit_Page .HeatCell, .NetworKit_Page .HeatCellName { display: inline; padding: 0.1em; margin-right: 2px; background-color: #FFFFFF } .NetworKit_Page .HeatCellName { margin-left: 0.25em; } .NetworKit_Page .HeatCell:before { content: attr(data-heat); display: inline-block; color: #000000; width: 4em; text-align: center; } .NetworKit_Page .Measure { clear: both; } .NetworKit_Page .Measure .Details { cursor: pointer; } .NetworKit_Page .Measure .Details:before { content: \"[\" attr(data-title) \"]\"; display: block; } .NetworKit_Page .Measure .Details .Value { border-left: 1px dotted black; margin-left: 0.4em; padding-left: 3.5em; pointer-events: none; } .NetworKit_Page .Measure .Details .Spacer:before { content: \".\"; opacity: 0.0; pointer-events: none; } .NetworKit_Page .Measure .Plot { width: 440px; height: 440px; cursor: pointer; float: left; margin-left: -0.9em; margin-right: 20px; } .NetworKit_Page .Measure .Plot .Image { background-repeat: no-repeat; background-position: center center; background-size: contain; height: 100%; pointer-events: none; } .NetworKit_Page .Measure .Stat { width: 500px; float: left; } .NetworKit_Page .Measure .Stat .Group { padding-left: 1.25em; margin-bottom: 0.75em; } .NetworKit_Page .Measure .Stat .Group .Title { font-size: 1.1em; display: block; margin-bottom: 0.3em; margin-left: -0.75em; border-right-style: dotted; border-right-width: 1px; border-bottom-style: dotted; border-bottom-width: 1px; background-color: #D0D0D0; padding-left: 0.2em; } .NetworKit_Page .Measure .Stat .Group .List { -webkit-column-count: 3; -moz-column-count: 3; column-count: 3; } .NetworKit_Page .Measure .Stat .Group .List .Entry { position: relative; line-height: 1.75em; } .NetworKit_Page .Measure .Stat .Group .List .Entry[data-tooltip]:before { position: absolute; left: 0; top: -40px; background-color: #808080; color: #ffffff; height: 30px; line-height: 30px; border-radius: 5px; padding: 0 15px; content: attr(data-tooltip); white-space: nowrap; display: none; } .NetworKit_Page .Measure .Stat .Group .List .Entry[data-tooltip]:after { position: absolute; left: 15px; top: -10px; border-top: 7px solid #808080; border-left: 7px solid transparent; border-right: 7px solid transparent; content: \"\"; display: none; } .NetworKit_Page .Measure .Stat .Group .List .Entry[data-tooltip]:hover:after, .NetworKit_Page .Measure .Stat .Group .List .Entry[data-tooltip]:hover:before { display: block; } .NetworKit_Page .Measure .Stat .Group .List .Entry .MathValue { font-family: \"Courier New\", Courier, monospace; } .NetworKit_Page .Measure:after { content: \".\"; visibility: hidden; display: block; height: 0; clear: both; } .NetworKit_Page .PartitionPie { clear: both; } .NetworKit_Page .PartitionPie img { width: 600px; } #NetworKit_Overlay { left: 0px; top: 0px; display: none; position: absolute; width: 100%; height: 100%; background-color: rgba(0,0,0,0.6); z-index: 1000; } #NetworKit_Overlay_Title { position: absolute; color: white; transform: rotate(-90deg); width: 32em; height: 32em; padding-right: 0.5em; padding-top: 0.5em; text-align: right; font-size: 40px; } #NetworKit_Overlay .button { background: white; cursor: pointer; } #NetworKit_Overlay .button:before { size: 13px; display: inline-block; text-align: center; margin-top: 0.5em; margin-bottom: 0.5em; width: 1.5em; height: 1.5em; } #NetworKit_Overlay .icon-close:before { content: \"X\"; } #NetworKit_Overlay .icon-previous:before { content: \"P\"; } #NetworKit_Overlay .icon-next:before { content: \"N\"; } #NetworKit_Overlay .icon-save:before { content: \"S\"; } #NetworKit_Overlay_Toolbar_Top, #NetworKit_Overlay_Toolbar_Bottom { position: absolute; width: 40px; right: 13px; text-align: right; z-index: 1100; } #NetworKit_Overlay_Toolbar_Top { top: 0.5em; } #NetworKit_Overlay_Toolbar_Bottom { Bottom: 0.5em; } #NetworKit_Overlay_ImageContainer { position: absolute; top: 5%; left: 5%; height: 90%; width: 90%; background-repeat: no-repeat; background-position: center center; background-size: contain; } #NetworKit_Overlay_Image { height: 100%; width: 100%; background-repeat: no-repeat; background-position: center center; background-size: contain; }';\n",
       "\t\t\t\telement.setAttribute('id', 'NetworKit_style');\n",
       "\t\t\t\tdocument.head.appendChild(element);\n",
       "\t\t\t}\n",
       "\t\t\n",
       "\t\t\t\t\n",
       "\t\t\t{\n",
       "\t\t\t\tvar element = document.getElementById('NetworKit_Overlay');\n",
       "\t\t\t\tif (element) {\n",
       "\t\t\t\t\telement.parentNode.removeChild(element);\n",
       "\t\t\t\t}\n",
       "\t\t\t\telement = document.createElement('div');\n",
       "\t\t\t\telement.innerHTML = '<div id=\"NetworKit_Overlay_Toolbar_Top\"><div class=\"button icon-close\" id=\"NetworKit_Overlay_Close\" /></div><div id=\"NetworKit_Overlay_Title\" /> <div id=\"NetworKit_Overlay_ImageContainer\"> <div id=\"NetworKit_Overlay_Image\" /> </div> <div id=\"NetworKit_Overlay_Toolbar_Bottom\"> <div class=\"button icon-previous\" onclick=\"NetworKit_overlayImageShift(-1)\" /> <div class=\"button icon-next\" onclick=\"NetworKit_overlayImageShift(1)\" /> <a id=\"NetworKit_Overlay_Toolbar_Bottom_Save\"><div class=\"button icon-save\" /></a> </div>';\n",
       "\t\t\t\telement.setAttribute('id', 'NetworKit_Overlay');\n",
       "\t\t\t\tdocument.body.appendChild(element);\n",
       "\t\t\t\tdocument.getElementById('NetworKit_Overlay_Close').onclick = function (e) {\n",
       "\t\t\t\t\tdocument.getElementById('NetworKit_Overlay').style.display = 'none';\n",
       "\t\t\t\t}\n",
       "\t\t\t}\n",
       "\t\t\n",
       "\t\t\t-->\n",
       "\t\t\t</script>\n",
       "\t\t"
      ]
     },
     "metadata": {},
     "output_type": "display_data"
    }
   ],
   "source": [
    "import networkit as nk"
   ]
  },
  {
   "cell_type": "markdown",
   "metadata": {},
   "source": [
    "## Erdős-Rényi Generator"
   ]
  },
  {
   "cell_type": "markdown",
   "metadata": {},
   "source": [
    "The Erdős-Rényi generator creates a random graph in the G(n, p) model, i.e., a graph with `n` nodes connected randomly. Each edge is included in the graph with probability `p` independently from every other edge.\n",
    "\n",
    "Its constructor [ErdosRenyiGenerator(count nNodes, double prob, directed = False, selfLoops = False)](https://networkit.github.io/dev-docs/python_api/generators.html?highlight=erdos#networkit.generators.ErdosRenyiGenerator) expects the number of nodes there will be in the graph via the parameter `nNodes`, and the probability of existence for each edge `prob` as mandatory parameters. If `directed` is set to true, a directed graph will be generated. If `selfLoops` is true and the graph is directed, the graph may have self loops."
   ]
  },
  {
   "cell_type": "code",
   "execution_count": 2,
   "metadata": {
    "execution": {
     "iopub.execute_input": "2025-10-28T11:21:45.177328Z",
     "iopub.status.busy": "2025-10-28T11:21:45.176952Z",
     "iopub.status.idle": "2025-10-28T11:21:45.180220Z",
     "shell.execute_reply": "2025-10-28T11:21:45.179384Z"
    }
   },
   "outputs": [],
   "source": [
    "# Initalize algorithm\n",
    "erg = nk.generators.ErdosRenyiGenerator(200, 0.2)"
   ]
  },
  {
   "cell_type": "code",
   "execution_count": 3,
   "metadata": {
    "execution": {
     "iopub.execute_input": "2025-10-28T11:21:45.181840Z",
     "iopub.status.busy": "2025-10-28T11:21:45.181650Z",
     "iopub.status.idle": "2025-10-28T11:21:45.186064Z",
     "shell.execute_reply": "2025-10-28T11:21:45.185229Z"
    }
   },
   "outputs": [],
   "source": [
    "# Run algorithm\n",
    "ergG = erg.generate()"
   ]
  },
  {
   "cell_type": "code",
   "execution_count": 4,
   "metadata": {
    "execution": {
     "iopub.execute_input": "2025-10-28T11:21:45.187775Z",
     "iopub.status.busy": "2025-10-28T11:21:45.187597Z",
     "iopub.status.idle": "2025-10-28T11:21:45.190891Z",
     "shell.execute_reply": "2025-10-28T11:21:45.190081Z"
    }
   },
   "outputs": [
    {
     "name": "stdout",
     "output_type": "stream",
     "text": [
      "200 4073\n"
     ]
    }
   ],
   "source": [
    "# Verify\n",
    "print(ergG.numberOfNodes(), ergG.numberOfEdges())"
   ]
  },
  {
   "cell_type": "markdown",
   "metadata": {},
   "source": [
    "## Rmat Generator"
   ]
  },
  {
   "cell_type": "markdown",
   "metadata": {},
   "source": [
    "The Rmat generator generates static R-MAT (Recursive MATrix) graphs by operating on the graph's adjacency matrix in a recursive manner. R-MAT graphs are random graphs with $n$ = $2^{scale}$ nodes and $n * edgeFactor$ edges. More details can be found in the original paper: `Deepayan Chakrabarti, Yiping Zhan, Christos Faloutsos: R-MAT: A Recursive Model for Graph Mining. SDM 2004: 442-446.`. \n",
    "\n",
    "The constructor, [RmatGenerator(scale, edgeFactor, a, b, c, d, weighted=False, reduceNodes=0)](https://networkit.github.io/dev-docs/python_api/generators.html?highlight=rmat#networkit.generators.RmatGenerator),  expects the number of nodes `n` via the `scale` parameter; $n$ = $2^{scale}$. `edgeFactor` specifies the number of edges `m` there should be in the graph and is computed using the following equation: $m$ = $n * edgeFactor$. The parameters `a, b, c, d` are probabilities that an edge should be in the upper left, upper right, lower left or lower right quadrant of the matrix respectively. The total sum of the four probabilities should be 1. Set `weighted` to true if the resulting graph should be weighted. The `reduceNodes` parameter dictates the number of random nodes to delete to achieve a given node count. By default it is set to 0.\n",
    "\n",
    "We can create a graph with 64 nodes and 192 edges as follows:"
   ]
  },
  {
   "cell_type": "code",
   "execution_count": 5,
   "metadata": {
    "execution": {
     "iopub.execute_input": "2025-10-28T11:21:45.192729Z",
     "iopub.status.busy": "2025-10-28T11:21:45.192535Z",
     "iopub.status.idle": "2025-10-28T11:21:45.195456Z",
     "shell.execute_reply": "2025-10-28T11:21:45.194637Z"
    }
   },
   "outputs": [],
   "source": [
    "# Initalize algorithm\n",
    "rmat = nk.generators.RmatGenerator(6, 3, 0.1, 0.2, 0.5, 0.2)"
   ]
  },
  {
   "cell_type": "code",
   "execution_count": 6,
   "metadata": {
    "execution": {
     "iopub.execute_input": "2025-10-28T11:21:45.197152Z",
     "iopub.status.busy": "2025-10-28T11:21:45.196961Z",
     "iopub.status.idle": "2025-10-28T11:21:45.199893Z",
     "shell.execute_reply": "2025-10-28T11:21:45.199112Z"
    }
   },
   "outputs": [],
   "source": [
    "# Run algorithm\n",
    "rmatG = rmat.generate()"
   ]
  },
  {
   "cell_type": "code",
   "execution_count": 7,
   "metadata": {
    "execution": {
     "iopub.execute_input": "2025-10-28T11:21:45.201641Z",
     "iopub.status.busy": "2025-10-28T11:21:45.201466Z",
     "iopub.status.idle": "2025-10-28T11:21:45.204487Z",
     "shell.execute_reply": "2025-10-28T11:21:45.203667Z"
    }
   },
   "outputs": [
    {
     "name": "stdout",
     "output_type": "stream",
     "text": [
      "64 192\n"
     ]
    }
   ],
   "source": [
    "# Verify\n",
    "print(rmatG.numberOfNodes(), rmatG.numberOfEdges())"
   ]
  },
  {
   "cell_type": "markdown",
   "metadata": {},
   "source": [
    "## Barabási - Albert Generator"
   ]
  },
  {
   "cell_type": "markdown",
   "metadata": {},
   "source": [
    "The Barabási–Albert model is an algorithm for generating random scale-free networks using a preferential attachment mechanism. The network begins with an initial connected network of $n_0$ nodes, and new nodes are added to the network one at a time. This generator implements the preferential attachment model as introduced by [Barabási and Albert ](http://arxiv.org/pdf/cond-mat/9910332.pdf). The original algorithm is very slow and thus, the much faster method from [Batagelj and Brandes ](https://kops.uni-konstanz.de/bitstream/handle/123456789) is implemented and the current default in NetworKit.\n",
    "\n",
    "The constructor [BarabasiAlbertGenerator(k, nMax, n0=0, batagelj=True)](https://networkit.github.io/dev-docs/python_api/generators.html?highlight=barabasi#networkit.generators.BarabasiAlbertGenerator) expects the parameter `k`, the number of attachments per node, and `nMax`, the maximum number of nodes in the graph as mandatory paramaters. `n0` is the number of connected nodes to begin with. Set `batagelj`to false if you want to use the original preferential attachment model."
   ]
  },
  {
   "cell_type": "code",
   "execution_count": 8,
   "metadata": {
    "execution": {
     "iopub.execute_input": "2025-10-28T11:21:45.206168Z",
     "iopub.status.busy": "2025-10-28T11:21:45.205995Z",
     "iopub.status.idle": "2025-10-28T11:21:45.208763Z",
     "shell.execute_reply": "2025-10-28T11:21:45.207964Z"
    }
   },
   "outputs": [],
   "source": [
    "# Initalize algorithm\n",
    "bag = nk.generators.BarabasiAlbertGenerator(3, 1000)"
   ]
  },
  {
   "cell_type": "code",
   "execution_count": 9,
   "metadata": {
    "execution": {
     "iopub.execute_input": "2025-10-28T11:21:45.210381Z",
     "iopub.status.busy": "2025-10-28T11:21:45.210207Z",
     "iopub.status.idle": "2025-10-28T11:21:45.213589Z",
     "shell.execute_reply": "2025-10-28T11:21:45.212859Z"
    }
   },
   "outputs": [],
   "source": [
    "# Run algorithm\n",
    "bagG = bag.generate()"
   ]
  },
  {
   "cell_type": "code",
   "execution_count": 10,
   "metadata": {
    "execution": {
     "iopub.execute_input": "2025-10-28T11:21:45.215459Z",
     "iopub.status.busy": "2025-10-28T11:21:45.215282Z",
     "iopub.status.idle": "2025-10-28T11:21:45.218408Z",
     "shell.execute_reply": "2025-10-28T11:21:45.217604Z"
    }
   },
   "outputs": [
    {
     "name": "stdout",
     "output_type": "stream",
     "text": [
      "1000 2994\n"
     ]
    }
   ],
   "source": [
    "# Verify\n",
    "print(bagG.numberOfNodes(), bagG.numberOfEdges())"
   ]
  },
  {
   "cell_type": "markdown",
   "metadata": {},
   "source": [
    "## Hyperbolic Generator"
   ]
  },
  {
   "cell_type": "markdown",
   "metadata": {},
   "source": [
    "The Hyperbolic generator distributes points in hyperbolic space and adds edges between points with a probability depending on their distance. The resulting graphs have a power-law degree distribution, small diameter and high clustering coefficient. For a temperature of 0, the model resembles a unit-disk model in hyperbolic space.\n",
    "\n",
    "The constructor [HyperbolicGenerator(n=10000, k=6, gamma=3, T=0)](https://networkit.github.io/dev-docs/python_api/generators.html?highlight=hyperbolic#networkit.generators.HyperbolicGenerator) expects the number of nodes via the parameter `n`, the target average degree of each node which is specified by `k`, the target exponent of power-law distribution which is passed via the `gamma` parameter , and `T` which is the temperature."
   ]
  },
  {
   "cell_type": "code",
   "execution_count": 11,
   "metadata": {
    "execution": {
     "iopub.execute_input": "2025-10-28T11:21:45.220316Z",
     "iopub.status.busy": "2025-10-28T11:21:45.220139Z",
     "iopub.status.idle": "2025-10-28T11:21:45.223039Z",
     "shell.execute_reply": "2025-10-28T11:21:45.222111Z"
    }
   },
   "outputs": [],
   "source": [
    "# Initalize algorithm\n",
    "hg = nk.generators.HyperbolicGenerator(5000, 16, 7)"
   ]
  },
  {
   "cell_type": "code",
   "execution_count": 12,
   "metadata": {
    "execution": {
     "iopub.execute_input": "2025-10-28T11:21:45.224669Z",
     "iopub.status.busy": "2025-10-28T11:21:45.224498Z",
     "iopub.status.idle": "2025-10-28T11:21:45.257119Z",
     "shell.execute_reply": "2025-10-28T11:21:45.256222Z"
    }
   },
   "outputs": [],
   "source": [
    "# Run algorithm\n",
    "hgG = hg.generate()"
   ]
  },
  {
   "cell_type": "code",
   "execution_count": 13,
   "metadata": {
    "execution": {
     "iopub.execute_input": "2025-10-28T11:21:45.258978Z",
     "iopub.status.busy": "2025-10-28T11:21:45.258770Z",
     "iopub.status.idle": "2025-10-28T11:21:45.262218Z",
     "shell.execute_reply": "2025-10-28T11:21:45.261295Z"
    }
   },
   "outputs": [
    {
     "name": "stdout",
     "output_type": "stream",
     "text": [
      "5000 39768\n"
     ]
    }
   ],
   "source": [
    "# Verify\n",
    "print(hgG.numberOfNodes(), hgG.numberOfEdges())"
   ]
  },
  {
   "cell_type": "markdown",
   "metadata": {},
   "source": [
    "## LFR Generator"
   ]
  },
  {
   "cell_type": "markdown",
   "metadata": {},
   "source": [
    "LFR benchmark is an algorithm that generates benchmark networks. The node degrees are distributed according to a power law with different exponents. \n",
    "\n",
    "The [LFR(n)](https://networkit.github.io/dev-docs/python_api/generators.html?highlight=lfr#networkit.generators.LFRGenerator) constructor only expects the number of nodes the generated graph should have. However, before generating the graph one needs to set a [degree sequence](https://networkit.github.io/dev-docs/python_api/generators.html?highlight=degreese#networkit.generators.LFRGenerator.setDegreeSequence), [community size sequence](https://networkit.github.io/dev-docs/python_api/generators.html?highlight=communitysi#networkit.generators.LFRGenerator.setCommunitySizeSequence) and [ mu](https://networkit.github.io/dev-docs/python_api/generators.html?highlight=setm#networkit.generators.LFRGenerator.setMu) or generate the sequences using the provided [generate-methods](https://networkit.github.io/dev-docs/python_api/generators.html?highlight=generatepower#networkit.generators.LFRGenerator.generatePowerlawCommunitySizeSequence). \n",
    "\n",
    "For this example, we generate the sequences a power-law degree sequence with average degree 20, maximum degree 50, and exponent of the node degree distribution -2. We also generate a power-law community size sequence  with minimum size 10, maximum size 50, and exponent of the community size distribution -2. Finally, we set the mixing parameter `mu` to 0.5."
   ]
  },
  {
   "cell_type": "code",
   "execution_count": 14,
   "metadata": {
    "execution": {
     "iopub.execute_input": "2025-10-28T11:21:45.263961Z",
     "iopub.status.busy": "2025-10-28T11:21:45.263756Z",
     "iopub.status.idle": "2025-10-28T11:21:45.266569Z",
     "shell.execute_reply": "2025-10-28T11:21:45.265812Z"
    }
   },
   "outputs": [],
   "source": [
    "# Initalize algorithm\n",
    "lfr = nk.generators.LFRGenerator(500)"
   ]
  },
  {
   "cell_type": "code",
   "execution_count": 15,
   "metadata": {
    "execution": {
     "iopub.execute_input": "2025-10-28T11:21:45.268435Z",
     "iopub.status.busy": "2025-10-28T11:21:45.268262Z",
     "iopub.status.idle": "2025-10-28T11:21:45.273335Z",
     "shell.execute_reply": "2025-10-28T11:21:45.272543Z"
    }
   },
   "outputs": [
    {
     "data": {
      "text/plain": [
       "<networkit.generators.LFRGenerator at 0x7f5819a57470>"
      ]
     },
     "execution_count": 15,
     "metadata": {},
     "output_type": "execute_result"
    }
   ],
   "source": [
    "# Generate sequences\n",
    "lfr.generatePowerlawDegreeSequence(20, 50, -2)\n",
    "lfr.generatePowerlawCommunitySizeSequence(10, 50, -1)\n",
    "lfr.setMu(0.5)"
   ]
  },
  {
   "cell_type": "code",
   "execution_count": 16,
   "metadata": {
    "execution": {
     "iopub.execute_input": "2025-10-28T11:21:45.275380Z",
     "iopub.status.busy": "2025-10-28T11:21:45.275206Z",
     "iopub.status.idle": "2025-10-28T11:21:45.334694Z",
     "shell.execute_reply": "2025-10-28T11:21:45.333679Z"
    }
   },
   "outputs": [],
   "source": [
    "# Run algorithm\n",
    "lfrG = lfr.generate()"
   ]
  },
  {
   "cell_type": "code",
   "execution_count": 17,
   "metadata": {
    "execution": {
     "iopub.execute_input": "2025-10-28T11:21:45.336648Z",
     "iopub.status.busy": "2025-10-28T11:21:45.336338Z",
     "iopub.status.idle": "2025-10-28T11:21:45.339836Z",
     "shell.execute_reply": "2025-10-28T11:21:45.339117Z"
    }
   },
   "outputs": [
    {
     "name": "stdout",
     "output_type": "stream",
     "text": [
      "500 5082\n"
     ]
    }
   ],
   "source": [
    "# Verify\n",
    "print(lfrG.numberOfNodes(), lfrG.numberOfEdges())"
   ]
  },
  {
   "cell_type": "markdown",
   "metadata": {},
   "source": [
    "## Clustered Random Graph Generator"
   ]
  },
  {
   "cell_type": "markdown",
   "metadata": {},
   "source": [
    "The clustered random graph generates a clustered random graph. The number of nodes and the number of edges are adjustable as well as the probabilities for intra-cluster and inter-cluster edges.\n",
    "\n",
    "The constructor [ClusteredRandomGraphGenerator(n, k, pin, pout)](https://networkit.github.io/dev-docs/python_api/generators.html?highlight=clustered#networkit.generators.ClusteredRandomGraphGenerator) expects the number of nodes `n` and the number of clusters `k` followed by the intra-cluster edge probability and the inter-cluster edge probability as `pin` and `pout` respectively.\n",
    "\n",
    "\n",
    "A graph with 100 nodes grouped in 10 clusters with intra-cluster edge probability 0.5 and inter-cluster edge probability 0.01 can be generated as follows:"
   ]
  },
  {
   "cell_type": "code",
   "execution_count": 18,
   "metadata": {
    "execution": {
     "iopub.execute_input": "2025-10-28T11:21:45.341670Z",
     "iopub.status.busy": "2025-10-28T11:21:45.341492Z",
     "iopub.status.idle": "2025-10-28T11:21:45.344444Z",
     "shell.execute_reply": "2025-10-28T11:21:45.343551Z"
    }
   },
   "outputs": [],
   "source": [
    "# Initialize algorithm\n",
    "crg = nk.generators.ClusteredRandomGraphGenerator(100, 10, 0.5, 0.01)"
   ]
  },
  {
   "cell_type": "code",
   "execution_count": 19,
   "metadata": {
    "execution": {
     "iopub.execute_input": "2025-10-28T11:21:45.346075Z",
     "iopub.status.busy": "2025-10-28T11:21:45.345900Z",
     "iopub.status.idle": "2025-10-28T11:21:45.349030Z",
     "shell.execute_reply": "2025-10-28T11:21:45.348327Z"
    }
   },
   "outputs": [],
   "source": [
    "# Run algorithm\n",
    "crgG = crg.generate()"
   ]
  },
  {
   "cell_type": "code",
   "execution_count": 20,
   "metadata": {
    "execution": {
     "iopub.execute_input": "2025-10-28T11:21:45.351138Z",
     "iopub.status.busy": "2025-10-28T11:21:45.350923Z",
     "iopub.status.idle": "2025-10-28T11:21:45.354418Z",
     "shell.execute_reply": "2025-10-28T11:21:45.353664Z"
    }
   },
   "outputs": [
    {
     "name": "stdout",
     "output_type": "stream",
     "text": [
      "100 276\n"
     ]
    }
   ],
   "source": [
    "# Verify\n",
    "print(crgG.numberOfNodes(), crgG.numberOfEdges())"
   ]
  },
  {
   "cell_type": "markdown",
   "metadata": {},
   "source": [
    "## Dorogovtsev-Mendes Generator"
   ]
  },
  {
   "cell_type": "markdown",
   "metadata": {},
   "source": [
    "This generator creates graphs using the Dorogovtsev-Mendes algorithm. It starts by creating three nodes and tree edges, and then adding one node at a time. Each time a node is added, an edge is chosen randomly and the node is connected via two new edges to the two ends of the chosen edge.\n",
    "\n",
    "The number of nodes the generated graph should have is passed to the constructor, [DorogovtsevMendesGenerator(nNodes)](https://networkit.github.io/dev-docs/python_api/generators.html?highlight=dorog#networkit.generators.DorogovtsevMendesGenerator), via the `nNodes` parameter."
   ]
  },
  {
   "cell_type": "code",
   "execution_count": 21,
   "metadata": {
    "execution": {
     "iopub.execute_input": "2025-10-28T11:21:45.356467Z",
     "iopub.status.busy": "2025-10-28T11:21:45.356174Z",
     "iopub.status.idle": "2025-10-28T11:21:45.359271Z",
     "shell.execute_reply": "2025-10-28T11:21:45.358383Z"
    }
   },
   "outputs": [],
   "source": [
    "# Initalize algorithm\n",
    "dmg = nk.generators.DorogovtsevMendesGenerator(100)"
   ]
  },
  {
   "cell_type": "code",
   "execution_count": 22,
   "metadata": {
    "execution": {
     "iopub.execute_input": "2025-10-28T11:21:45.360853Z",
     "iopub.status.busy": "2025-10-28T11:21:45.360678Z",
     "iopub.status.idle": "2025-10-28T11:21:45.363509Z",
     "shell.execute_reply": "2025-10-28T11:21:45.362794Z"
    }
   },
   "outputs": [],
   "source": [
    "# Run algorithm\n",
    "dmgG = dmg.generate()"
   ]
  },
  {
   "cell_type": "code",
   "execution_count": 23,
   "metadata": {
    "execution": {
     "iopub.execute_input": "2025-10-28T11:21:45.365262Z",
     "iopub.status.busy": "2025-10-28T11:21:45.365086Z",
     "iopub.status.idle": "2025-10-28T11:21:45.368110Z",
     "shell.execute_reply": "2025-10-28T11:21:45.367189Z"
    }
   },
   "outputs": [
    {
     "name": "stdout",
     "output_type": "stream",
     "text": [
      "100 197\n"
     ]
    }
   ],
   "source": [
    "# Verify\n",
    "print(dmgG.numberOfNodes(), dmgG.numberOfEdges())"
   ]
  },
  {
   "cell_type": "markdown",
   "metadata": {},
   "source": [
    "## Chung-Lu Generator"
   ]
  },
  {
   "cell_type": "markdown",
   "metadata": {},
   "source": [
    "Given an arbitrary degree sequence, the Chung-Lu generative model will produce a random graph with the same expected degree sequence if possible.\n",
    "\n",
    "The constructor [ChungLuGenerator(degreeSequence)](https://networkit.github.io/dev-docs/python_api/generators.html?highlight=chung#networkit.generators.ChungLuGenerator) expects a degree sequence as a parameter.\n",
    "\n",
    "In order to create a graph with 5 nodes, we first need to generate a degree sequence that will be passed to the constructor. In order to create a graph with 5 nodes, we first need to generate a degree sequence that will be passed to the constructor. Note that the degree sequence is not required to be sorted."
   ]
  },
  {
   "cell_type": "code",
   "execution_count": 24,
   "metadata": {
    "execution": {
     "iopub.execute_input": "2025-10-28T11:21:45.369904Z",
     "iopub.status.busy": "2025-10-28T11:21:45.369708Z",
     "iopub.status.idle": "2025-10-28T11:21:45.372667Z",
     "shell.execute_reply": "2025-10-28T11:21:45.371691Z"
    }
   },
   "outputs": [],
   "source": [
    "# Generate degree sequence\n",
    "degSeq = [4, 3, 2, 1, 1, 1]"
   ]
  },
  {
   "cell_type": "code",
   "execution_count": 25,
   "metadata": {
    "execution": {
     "iopub.execute_input": "2025-10-28T11:21:45.374247Z",
     "iopub.status.busy": "2025-10-28T11:21:45.374073Z",
     "iopub.status.idle": "2025-10-28T11:21:45.376937Z",
     "shell.execute_reply": "2025-10-28T11:21:45.376178Z"
    }
   },
   "outputs": [],
   "source": [
    "# Initalize algorithm\n",
    "clg = nk.generators.ChungLuGenerator(degSeq)"
   ]
  },
  {
   "cell_type": "code",
   "execution_count": 26,
   "metadata": {
    "execution": {
     "iopub.execute_input": "2025-10-28T11:21:45.378774Z",
     "iopub.status.busy": "2025-10-28T11:21:45.378600Z",
     "iopub.status.idle": "2025-10-28T11:21:45.382300Z",
     "shell.execute_reply": "2025-10-28T11:21:45.381232Z"
    }
   },
   "outputs": [],
   "source": [
    "# Run algorithm\n",
    "clgG = clg.generate()"
   ]
  },
  {
   "cell_type": "code",
   "execution_count": 27,
   "metadata": {
    "execution": {
     "iopub.execute_input": "2025-10-28T11:21:45.384096Z",
     "iopub.status.busy": "2025-10-28T11:21:45.383863Z",
     "iopub.status.idle": "2025-10-28T11:21:45.388190Z",
     "shell.execute_reply": "2025-10-28T11:21:45.387304Z"
    }
   },
   "outputs": [
    {
     "name": "stdout",
     "output_type": "stream",
     "text": [
      "[4, 3, 2, 1, 3, 1]\n",
      "6 7\n"
     ]
    }
   ],
   "source": [
    "# Verify\n",
    "chungLuSeq = []\n",
    "for u in range (clgG.upperNodeIdBound()):\n",
    "    chungLuSeq.append(clgG.degree(u))\n",
    "print(chungLuSeq)\n",
    "\n",
    "print(clgG.numberOfNodes(), clgG.numberOfEdges())"
   ]
  },
  {
   "cell_type": "markdown",
   "metadata": {},
   "source": [
    "## Havel-Hakimi Generator "
   ]
  },
  {
   "cell_type": "markdown",
   "metadata": {},
   "source": [
    "Havel-Hakimi algorithm for generating a graph according to a given degree sequence $(d_1, d_2,...,d_n)$. The degree sequence must be non-increasing, i.e., $d_1$ must be the highest degree. \n",
    "\n",
    "\"The contructor [HavelHakimiGenerator(sequence, ignoreIfRealizable=True)](https://networkit.github.io/dev-docs/python_api/generators.html?highlight=havel#networkit.generators.HavelHakimiGenerator) expects the degree sequence as a mandatory parameter. If `ignoreIfRealizable` is true, the graph is generated even if the degree sequence is not realizable. Some nodes may then get lower degrees than requested in the sequence. If `ignoreIfRealizable` is false and the sequence is not realizable, an exception is thrown and the graph cannot be generated.\""
   ]
  },
  {
   "cell_type": "code",
   "execution_count": 28,
   "metadata": {
    "execution": {
     "iopub.execute_input": "2025-10-28T11:21:45.390166Z",
     "iopub.status.busy": "2025-10-28T11:21:45.389782Z",
     "iopub.status.idle": "2025-10-28T11:21:45.393099Z",
     "shell.execute_reply": "2025-10-28T11:21:45.392149Z"
    }
   },
   "outputs": [],
   "source": [
    "# Generate degree sequence\n",
    "sequence = []\n",
    "for i in range (20):\n",
    "    sequence.append(20-i)"
   ]
  },
  {
   "cell_type": "code",
   "execution_count": 29,
   "metadata": {
    "execution": {
     "iopub.execute_input": "2025-10-28T11:21:45.394701Z",
     "iopub.status.busy": "2025-10-28T11:21:45.394526Z",
     "iopub.status.idle": "2025-10-28T11:21:45.397716Z",
     "shell.execute_reply": "2025-10-28T11:21:45.396898Z"
    }
   },
   "outputs": [
    {
     "name": "stdout",
     "output_type": "stream",
     "text": [
      "Sequence is realiziable:  False\n"
     ]
    }
   ],
   "source": [
    "# Initalize algorithm\n",
    "hhg = nk.generators.HavelHakimiGenerator(sequence, ignoreIfRealizable=False)\n",
    "\n",
    "# Check if sequence is realiziable\n",
    "print(\"Sequence is realiziable: \", hhg.isRealizable())"
   ]
  },
  {
   "cell_type": "markdown",
   "metadata": {},
   "source": [
    "As the generated sequence is not realizable, a graph cannot be generated. We can either set `ignoreIfRealizable` to true, or try with another sequence.  "
   ]
  },
  {
   "cell_type": "code",
   "execution_count": 30,
   "metadata": {
    "execution": {
     "iopub.execute_input": "2025-10-28T11:21:45.399555Z",
     "iopub.status.busy": "2025-10-28T11:21:45.399381Z",
     "iopub.status.idle": "2025-10-28T11:21:45.403016Z",
     "shell.execute_reply": "2025-10-28T11:21:45.402052Z"
    }
   },
   "outputs": [
    {
     "name": "stdout",
     "output_type": "stream",
     "text": [
      "Sequence is realiziable  True\n"
     ]
    }
   ],
   "source": [
    "# Generate degree sequence\n",
    "sequence = [1, 2, 1, 2, 2]\n",
    "\n",
    "# Initalize algorithm\n",
    "hhg = nk.generators.HavelHakimiGenerator(sequence, ignoreIfRealizable=False)\n",
    "\n",
    "# Check if sequence is realiziable\n",
    "print(\"Sequence is realiziable \", hhg.isRealizable())"
   ]
  },
  {
   "cell_type": "code",
   "execution_count": 31,
   "metadata": {
    "execution": {
     "iopub.execute_input": "2025-10-28T11:21:45.404568Z",
     "iopub.status.busy": "2025-10-28T11:21:45.404387Z",
     "iopub.status.idle": "2025-10-28T11:21:45.407143Z",
     "shell.execute_reply": "2025-10-28T11:21:45.406334Z"
    }
   },
   "outputs": [],
   "source": [
    "# Run algorithm\n",
    "hhgG = hhg.generate()"
   ]
  },
  {
   "cell_type": "code",
   "execution_count": 32,
   "metadata": {
    "execution": {
     "iopub.execute_input": "2025-10-28T11:21:45.408837Z",
     "iopub.status.busy": "2025-10-28T11:21:45.408662Z",
     "iopub.status.idle": "2025-10-28T11:21:45.412162Z",
     "shell.execute_reply": "2025-10-28T11:21:45.411323Z"
    }
   },
   "outputs": [
    {
     "name": "stdout",
     "output_type": "stream",
     "text": [
      "5 4\n"
     ]
    }
   ],
   "source": [
    "# Verify\n",
    "print(hhgG.numberOfNodes(), hhgG.numberOfEdges())\n",
    "for u in range (hhgG.upperNodeIdBound()):\n",
    "    assert(sequence[u] == hhgG.degree(u))"
   ]
  },
  {
   "cell_type": "markdown",
   "metadata": {},
   "source": [
    "## Mocnik Generator"
   ]
  },
  {
   "cell_type": "markdown",
   "metadata": {},
   "source": [
    "The Mocnik graph generator creates random spatial graphs according to the Mocnik model. \n",
    "\n",
    "The constructor [MocnikGenerator(dim, n, k, weighted)](https://networkit.github.io/dev-docs/python_api/generators.html?highlight=mocnik#networkit.generators.MocnikGenerator) expects the parameters `dim` which dictates the dimension of the space, the number of nodes`n` and the density parameter `k`. The density parameter determines the ratio of edges to nodes. Set `weighted` to true if the generated graph should be weighted."
   ]
  },
  {
   "cell_type": "code",
   "execution_count": 33,
   "metadata": {
    "execution": {
     "iopub.execute_input": "2025-10-28T11:21:45.414086Z",
     "iopub.status.busy": "2025-10-28T11:21:45.413755Z",
     "iopub.status.idle": "2025-10-28T11:21:45.416945Z",
     "shell.execute_reply": "2025-10-28T11:21:45.415935Z"
    }
   },
   "outputs": [],
   "source": [
    "# Initalize algorithm\n",
    "mg = nk.generators.MocnikGenerator(3, 10000, 2.6)"
   ]
  },
  {
   "cell_type": "code",
   "execution_count": 34,
   "metadata": {
    "execution": {
     "iopub.execute_input": "2025-10-28T11:21:45.418597Z",
     "iopub.status.busy": "2025-10-28T11:21:45.418406Z",
     "iopub.status.idle": "2025-10-28T11:21:47.285808Z",
     "shell.execute_reply": "2025-10-28T11:21:47.284846Z"
    }
   },
   "outputs": [],
   "source": [
    "# Run algorithm\n",
    "mgG = mg.generate()"
   ]
  },
  {
   "cell_type": "code",
   "execution_count": 35,
   "metadata": {
    "execution": {
     "iopub.execute_input": "2025-10-28T11:21:47.287608Z",
     "iopub.status.busy": "2025-10-28T11:21:47.287404Z",
     "iopub.status.idle": "2025-10-28T11:21:47.290990Z",
     "shell.execute_reply": "2025-10-28T11:21:47.290123Z"
    }
   },
   "outputs": [
    {
     "name": "stdout",
     "output_type": "stream",
     "text": [
      "10000 168659\n"
     ]
    }
   ],
   "source": [
    "# Verify \n",
    "print(mgG.numberOfNodes(), mgG.numberOfEdges())"
   ]
  }
 ],
 "metadata": {
  "kernelspec": {
   "display_name": "Python 3",
   "language": "python",
   "name": "python3"
  },
  "language_info": {
   "codemirror_mode": {
    "name": "ipython",
    "version": 3
   },
   "file_extension": ".py",
   "mimetype": "text/x-python",
   "name": "python",
   "nbconvert_exporter": "python",
   "pygments_lexer": "ipython3",
   "version": "3.13.9"
  }
 },
 "nbformat": 4,
 "nbformat_minor": 2
}
